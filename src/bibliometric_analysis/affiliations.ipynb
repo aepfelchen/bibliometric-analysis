{
 "cells": [
  {
   "cell_type": "markdown",
   "id": "b7966682",
   "metadata": {},
   "source": [
    "### Analysis of Authors, institutions and countries to which they belong.\n",
    "- Identify significant authors, institutions and countries based on several indicators (e.g. frequency, various centrality ect.).\n",
    "- All data were exported from Scopus and are in CSV format."
   ]
  },
  {
   "cell_type": "code",
   "execution_count": null,
   "id": "f267108e",
   "metadata": {},
   "outputs": [],
   "source": [
    "import sys\n",
    "from os import getcwd\n",
    "from os.path import abspath, dirname, join\n",
    "sys.path.append(f'{getcwd()}/bibliometric')\n",
    "import warnings\n",
    "warnings.simplefilter('ignore', category=(UserWarning, FutureWarning, SyntaxWarning))\n",
    "\n",
    "import pandas as pd\n",
    "\n",
    "from bibliometric import tools\n",
    "\n",
    "BASE_PATH = abspath(getcwd())\n",
    "PARENT_PATH = dirname(dirname(BASE_PATH))\n",
    "RESOURCE_PATH = join(PARENT_PATH, 'resources')\n",
    "target_file_path = join(RESOURCE_PATH, '20250711_scopus_work2.csv')"
   ]
  },
  {
   "cell_type": "markdown",
   "id": "fb5a597f",
   "metadata": {},
   "source": [
    "#### Load the CSV file of the journals."
   ]
  },
  {
   "cell_type": "code",
   "execution_count": 2,
   "id": "2f3fd46a",
   "metadata": {},
   "outputs": [],
   "source": [
    "df = pd.read_csv(target_file_path, encoding='utf-8', sep=',')"
   ]
  },
  {
   "cell_type": "markdown",
   "id": "c51daf43",
   "metadata": {},
   "source": [
    "#### Check highly cited authors."
   ]
  },
  {
   "cell_type": "markdown",
   "id": "2650c742",
   "metadata": {},
   "source": [
    "Top 10 highly cited authors for the entire period."
   ]
  },
  {
   "cell_type": "code",
   "execution_count": 3,
   "id": "70ecf164",
   "metadata": {},
   "outputs": [
    {
     "data": {
      "application/vnd.microsoft.datawrangler.viewer.v0+json": {
       "columns": [
        {
         "name": "index",
         "rawType": "int64",
         "type": "integer"
        },
        {
         "name": "Journal",
         "rawType": "object",
         "type": "string"
        },
        {
         "name": "Period",
         "rawType": "object",
         "type": "string"
        },
        {
         "name": "Author full names",
         "rawType": "object",
         "type": "string"
        },
        {
         "name": "Title",
         "rawType": "object",
         "type": "string"
        },
        {
         "name": "Cited by",
         "rawType": "int64",
         "type": "integer"
        },
        {
         "name": "Year",
         "rawType": "int64",
         "type": "integer"
        }
       ],
       "ref": "b11acd2c-90c9-4c3c-9c17-b1114550d19f",
       "rows": [
        [
         "955",
         "Artificial Intelligence",
         "1971-2025",
         "Lowe, David G.",
         "Three-dimensional object recognition from single two-dimensional images",
         "963",
         "1987"
        ],
        [
         "709",
         "Artificial Intelligence",
         "1971-2025",
         "Bonet, Blai; Geffner, Héctor",
         "Planning as heuristic search",
         "793",
         "2001"
        ],
        [
         "888",
         "Artificial Intelligence",
         "1971-2025",
         "Katsuno, Hirofumi; Mendelzon, Alberto O.",
         "Propositional knowledge base revision and minimal change",
         "661",
         "1991"
        ],
        [
         "532",
         "Speech Communication",
         "1971-2025",
         "Bisani, Maximilian; Ney, Hermann",
         "Joint-sequence models for grapheme-to-phoneme conversion",
         "554",
         "2008"
        ],
        [
         "823",
         "Journal of Logic and Computation",
         "1971-2025",
         "Cousot, Patrick; Cousot, Radhia",
         "Abstract interpretation frameworks",
         "496",
         "1992"
        ],
        [
         "933",
         "Artificial Intelligence",
         "1971-2025",
         "Clowes, M.B.",
         "On seeing things",
         "460",
         "1971"
        ],
        [
         "721",
         "Journal of Memory and Language",
         "1971-2025",
         "Caravolas, Markéta; Hulme, Charles; Snowling, Margaret J.",
         "The foundations of spelling ability: Evidence from a 3-year longitudinal study",
         "400",
         "2001"
        ],
        [
         "937",
         "Journal of Memory and Language",
         "1971-2025",
         "Baddeley, Alan; Logie, Robert; Nimmo-Smith, Ian; Brereton, Neil",
         "Components of fluent reading",
         "361",
         "1985"
        ],
        [
         "268",
         "Artificial Intelligence Review",
         "1971-2025",
         "Du, Guoguang; Wang, Kai; Lian, Shiguo; Zhao, Kaiyong",
         "Vision-based robotic grasping from object localization, object pose estimation to grasp estimation for parallel grippers: a review",
         "358",
         "2021"
        ],
        [
         "655",
         "Journal of Memory and Language",
         "1971-2025",
         "Perea, Manuel; Lupker, Stephen J.",
         "Can CANISO activate CASINO? Transposed-letter similarity effects with nonadjacent letter positions",
         "351",
         "2004"
        ]
       ],
       "shape": {
        "columns": 6,
        "rows": 10
       }
      },
      "text/html": [
       "<div>\n",
       "<style scoped>\n",
       "    .dataframe tbody tr th:only-of-type {\n",
       "        vertical-align: middle;\n",
       "    }\n",
       "\n",
       "    .dataframe tbody tr th {\n",
       "        vertical-align: top;\n",
       "    }\n",
       "\n",
       "    .dataframe thead th {\n",
       "        text-align: right;\n",
       "    }\n",
       "</style>\n",
       "<table border=\"1\" class=\"dataframe\">\n",
       "  <thead>\n",
       "    <tr style=\"text-align: right;\">\n",
       "      <th></th>\n",
       "      <th>Journal</th>\n",
       "      <th>Period</th>\n",
       "      <th>Author full names</th>\n",
       "      <th>Title</th>\n",
       "      <th>Cited by</th>\n",
       "      <th>Year</th>\n",
       "    </tr>\n",
       "  </thead>\n",
       "  <tbody>\n",
       "    <tr>\n",
       "      <th>955</th>\n",
       "      <td>Artificial Intelligence</td>\n",
       "      <td>1971-2025</td>\n",
       "      <td>Lowe, David G.</td>\n",
       "      <td>Three-dimensional object recognition from sing...</td>\n",
       "      <td>963</td>\n",
       "      <td>1987</td>\n",
       "    </tr>\n",
       "    <tr>\n",
       "      <th>709</th>\n",
       "      <td>Artificial Intelligence</td>\n",
       "      <td>1971-2025</td>\n",
       "      <td>Bonet, Blai; Geffner, Héctor</td>\n",
       "      <td>Planning as heuristic search</td>\n",
       "      <td>793</td>\n",
       "      <td>2001</td>\n",
       "    </tr>\n",
       "    <tr>\n",
       "      <th>888</th>\n",
       "      <td>Artificial Intelligence</td>\n",
       "      <td>1971-2025</td>\n",
       "      <td>Katsuno, Hirofumi; Mendelzon, Alberto O.</td>\n",
       "      <td>Propositional knowledge base revision and mini...</td>\n",
       "      <td>661</td>\n",
       "      <td>1991</td>\n",
       "    </tr>\n",
       "    <tr>\n",
       "      <th>532</th>\n",
       "      <td>Speech Communication</td>\n",
       "      <td>1971-2025</td>\n",
       "      <td>Bisani, Maximilian; Ney, Hermann</td>\n",
       "      <td>Joint-sequence models for grapheme-to-phoneme ...</td>\n",
       "      <td>554</td>\n",
       "      <td>2008</td>\n",
       "    </tr>\n",
       "    <tr>\n",
       "      <th>823</th>\n",
       "      <td>Journal of Logic and Computation</td>\n",
       "      <td>1971-2025</td>\n",
       "      <td>Cousot, Patrick; Cousot, Radhia</td>\n",
       "      <td>Abstract interpretation frameworks</td>\n",
       "      <td>496</td>\n",
       "      <td>1992</td>\n",
       "    </tr>\n",
       "    <tr>\n",
       "      <th>933</th>\n",
       "      <td>Artificial Intelligence</td>\n",
       "      <td>1971-2025</td>\n",
       "      <td>Clowes, M.B.</td>\n",
       "      <td>On seeing things</td>\n",
       "      <td>460</td>\n",
       "      <td>1971</td>\n",
       "    </tr>\n",
       "    <tr>\n",
       "      <th>721</th>\n",
       "      <td>Journal of Memory and Language</td>\n",
       "      <td>1971-2025</td>\n",
       "      <td>Caravolas, Markéta; Hulme, Charles; Snowling, ...</td>\n",
       "      <td>The foundations of spelling ability: Evidence ...</td>\n",
       "      <td>400</td>\n",
       "      <td>2001</td>\n",
       "    </tr>\n",
       "    <tr>\n",
       "      <th>937</th>\n",
       "      <td>Journal of Memory and Language</td>\n",
       "      <td>1971-2025</td>\n",
       "      <td>Baddeley, Alan; Logie, Robert; Nimmo-Smith, Ia...</td>\n",
       "      <td>Components of fluent reading</td>\n",
       "      <td>361</td>\n",
       "      <td>1985</td>\n",
       "    </tr>\n",
       "    <tr>\n",
       "      <th>268</th>\n",
       "      <td>Artificial Intelligence Review</td>\n",
       "      <td>1971-2025</td>\n",
       "      <td>Du, Guoguang; Wang, Kai; Lian, Shiguo; Zhao, K...</td>\n",
       "      <td>Vision-based robotic grasping from object loca...</td>\n",
       "      <td>358</td>\n",
       "      <td>2021</td>\n",
       "    </tr>\n",
       "    <tr>\n",
       "      <th>655</th>\n",
       "      <td>Journal of Memory and Language</td>\n",
       "      <td>1971-2025</td>\n",
       "      <td>Perea, Manuel; Lupker, Stephen J.</td>\n",
       "      <td>Can CANISO activate CASINO? Transposed-letter ...</td>\n",
       "      <td>351</td>\n",
       "      <td>2004</td>\n",
       "    </tr>\n",
       "  </tbody>\n",
       "</table>\n",
       "</div>"
      ],
      "text/plain": [
       "                              Journal     Period  \\\n",
       "955           Artificial Intelligence  1971-2025   \n",
       "709           Artificial Intelligence  1971-2025   \n",
       "888           Artificial Intelligence  1971-2025   \n",
       "532              Speech Communication  1971-2025   \n",
       "823  Journal of Logic and Computation  1971-2025   \n",
       "933           Artificial Intelligence  1971-2025   \n",
       "721    Journal of Memory and Language  1971-2025   \n",
       "937    Journal of Memory and Language  1971-2025   \n",
       "268    Artificial Intelligence Review  1971-2025   \n",
       "655    Journal of Memory and Language  1971-2025   \n",
       "\n",
       "                                     Author full names  \\\n",
       "955                                     Lowe, David G.   \n",
       "709                       Bonet, Blai; Geffner, Héctor   \n",
       "888           Katsuno, Hirofumi; Mendelzon, Alberto O.   \n",
       "532                   Bisani, Maximilian; Ney, Hermann   \n",
       "823                    Cousot, Patrick; Cousot, Radhia   \n",
       "933                                       Clowes, M.B.   \n",
       "721  Caravolas, Markéta; Hulme, Charles; Snowling, ...   \n",
       "937  Baddeley, Alan; Logie, Robert; Nimmo-Smith, Ia...   \n",
       "268  Du, Guoguang; Wang, Kai; Lian, Shiguo; Zhao, K...   \n",
       "655                  Perea, Manuel; Lupker, Stephen J.   \n",
       "\n",
       "                                                 Title  Cited by  Year  \n",
       "955  Three-dimensional object recognition from sing...       963  1987  \n",
       "709                       Planning as heuristic search       793  2001  \n",
       "888  Propositional knowledge base revision and mini...       661  1991  \n",
       "532  Joint-sequence models for grapheme-to-phoneme ...       554  2008  \n",
       "823                 Abstract interpretation frameworks       496  1992  \n",
       "933                                   On seeing things       460  1971  \n",
       "721  The foundations of spelling ability: Evidence ...       400  2001  \n",
       "937                       Components of fluent reading       361  1985  \n",
       "268  Vision-based robotic grasping from object loca...       358  2021  \n",
       "655  Can CANISO activate CASINO? Transposed-letter ...       351  2004  "
      ]
     },
     "execution_count": 3,
     "metadata": {},
     "output_type": "execute_result"
    }
   ],
   "source": [
    "tools.get_highly_cited_authors(df=df, top_num=10)"
   ]
  },
  {
   "cell_type": "markdown",
   "id": "c7671cc5",
   "metadata": {},
   "source": [
    "#### Check highly counted Authors."
   ]
  },
  {
   "cell_type": "markdown",
   "id": "6a4c3009",
   "metadata": {},
   "source": [
    "Top 10 highly counted authors for the entire period."
   ]
  },
  {
   "cell_type": "code",
   "execution_count": 4,
   "id": "8b6167be",
   "metadata": {},
   "outputs": [
    {
     "data": {
      "image/png": "[encoded data removed]",
      "text/plain": [
       "<Figure size 640x480 with 1 Axes>"
      ]
     },
     "metadata": {},
     "output_type": "display_data"
    },
    {
     "name": "stdout",
     "output_type": "stream",
     "text": [
      "High-Ranking Authors 1971-2025\n",
      "----------------------  -\n",
      "Punsongserm, Rachapoom  8\n",
      "Treiman, Rebecca        8\n",
      "Zhao, Zhiguang          6\n",
      "Kessler, Brett          5\n",
      "Taft, Marcus            5\n",
      "Jared, Debra            5\n",
      "Norris, Dennis          4\n",
      "Kinoshita, Sachiko      4\n",
      "Pan, Sinno Jialin       4\n",
      "Palmigiano, Alessandra  4\n",
      "----------------------  -\n"
     ]
    }
   ],
   "source": [
    "tools.plot_top_(df=df, category='author', top_num=10)"
   ]
  },
  {
   "cell_type": "markdown",
   "id": "8b4ca880",
   "metadata": {},
   "source": [
    "#### Check authors with high centrality among co-authorship."
   ]
  },
  {
   "cell_type": "markdown",
   "id": "d1794275",
   "metadata": {},
   "source": [
    "Top 10 authors with high degree centrality among co-authorship for the entire period."
   ]
  },
  {
   "cell_type": "code",
   "execution_count": 5,
   "id": "0530162e",
   "metadata": {},
   "outputs": [
    {
     "name": "stdout",
     "output_type": "stream",
     "text": [
      "high-ranking_author_1971_2025_co_author_edge_list.csv is created.\n"
     ]
    },
    {
     "data": {
      "application/vnd.microsoft.datawrangler.viewer.v0+json": {
       "columns": [
        {
         "name": "index",
         "rawType": "int64",
         "type": "integer"
        },
        {
         "name": "Journal",
         "rawType": "object",
         "type": "string"
        },
        {
         "name": "Period",
         "rawType": "object",
         "type": "string"
        },
        {
         "name": "Authors",
         "rawType": "object",
         "type": "string"
        },
        {
         "name": "Degree Centrality",
         "rawType": "float64",
         "type": "float"
        }
       ],
       "ref": "fe399517-45a4-4f26-8258-e66421e5b852",
       "rows": [
        [
         "317",
         "High-Ranking Authors",
         "1971-2025",
         "Missori, Mauro",
         "0.007323943661971831"
        ],
        [
         "626",
         "High-Ranking Authors",
         "1971-2025",
         "Kurganov, Nikolai",
         "0.00619718309859155"
        ],
        [
         "628",
         "High-Ranking Authors",
         "1971-2025",
         "Tseveleva, Irina",
         "0.00619718309859155"
        ],
        [
         "627",
         "High-Ranking Authors",
         "1971-2025",
         "Tileva, Ekaterina",
         "0.00619718309859155"
        ],
        [
         "633",
         "High-Ranking Authors",
         "1971-2025",
         "Kurochkin, Alexey",
         "0.00619718309859155"
        ],
        [
         "632",
         "High-Ranking Authors",
         "1971-2025",
         "Borisov, Evgenii",
         "0.00619718309859155"
        ],
        [
         "631",
         "High-Ranking Authors",
         "1971-2025",
         "Povolotskiy, Alexey",
         "0.00619718309859155"
        ],
        [
         "629",
         "High-Ranking Authors",
         "1971-2025",
         "Mikhailova, Alexandra",
         "0.00619718309859155"
        ],
        [
         "622",
         "High-Ranking Authors",
         "1971-2025",
         "Povolotckaia, Anastasia",
         "0.00619718309859155"
        ],
        [
         "623",
         "High-Ranking Authors",
         "1971-2025",
         "Korogodina, Maria",
         "0.00619718309859155"
        ]
       ],
       "shape": {
        "columns": 4,
        "rows": 10
       }
      },
      "text/html": [
       "<div>\n",
       "<style scoped>\n",
       "    .dataframe tbody tr th:only-of-type {\n",
       "        vertical-align: middle;\n",
       "    }\n",
       "\n",
       "    .dataframe tbody tr th {\n",
       "        vertical-align: top;\n",
       "    }\n",
       "\n",
       "    .dataframe thead th {\n",
       "        text-align: right;\n",
       "    }\n",
       "</style>\n",
       "<table border=\"1\" class=\"dataframe\">\n",
       "  <thead>\n",
       "    <tr style=\"text-align: right;\">\n",
       "      <th></th>\n",
       "      <th>Journal</th>\n",
       "      <th>Period</th>\n",
       "      <th>Authors</th>\n",
       "      <th>Degree Centrality</th>\n",
       "    </tr>\n",
       "  </thead>\n",
       "  <tbody>\n",
       "    <tr>\n",
       "      <th>317</th>\n",
       "      <td>High-Ranking Authors</td>\n",
       "      <td>1971-2025</td>\n",
       "      <td>Missori, Mauro</td>\n",
       "      <td>0.007324</td>\n",
       "    </tr>\n",
       "    <tr>\n",
       "      <th>626</th>\n",
       "      <td>High-Ranking Authors</td>\n",
       "      <td>1971-2025</td>\n",
       "      <td>Kurganov, Nikolai</td>\n",
       "      <td>0.006197</td>\n",
       "    </tr>\n",
       "    <tr>\n",
       "      <th>628</th>\n",
       "      <td>High-Ranking Authors</td>\n",
       "      <td>1971-2025</td>\n",
       "      <td>Tseveleva, Irina</td>\n",
       "      <td>0.006197</td>\n",
       "    </tr>\n",
       "    <tr>\n",
       "      <th>627</th>\n",
       "      <td>High-Ranking Authors</td>\n",
       "      <td>1971-2025</td>\n",
       "      <td>Tileva, Ekaterina</td>\n",
       "      <td>0.006197</td>\n",
       "    </tr>\n",
       "    <tr>\n",
       "      <th>633</th>\n",
       "      <td>High-Ranking Authors</td>\n",
       "      <td>1971-2025</td>\n",
       "      <td>Kurochkin, Alexey</td>\n",
       "      <td>0.006197</td>\n",
       "    </tr>\n",
       "    <tr>\n",
       "      <th>632</th>\n",
       "      <td>High-Ranking Authors</td>\n",
       "      <td>1971-2025</td>\n",
       "      <td>Borisov, Evgenii</td>\n",
       "      <td>0.006197</td>\n",
       "    </tr>\n",
       "    <tr>\n",
       "      <th>631</th>\n",
       "      <td>High-Ranking Authors</td>\n",
       "      <td>1971-2025</td>\n",
       "      <td>Povolotskiy, Alexey</td>\n",
       "      <td>0.006197</td>\n",
       "    </tr>\n",
       "    <tr>\n",
       "      <th>629</th>\n",
       "      <td>High-Ranking Authors</td>\n",
       "      <td>1971-2025</td>\n",
       "      <td>Mikhailova, Alexandra</td>\n",
       "      <td>0.006197</td>\n",
       "    </tr>\n",
       "    <tr>\n",
       "      <th>622</th>\n",
       "      <td>High-Ranking Authors</td>\n",
       "      <td>1971-2025</td>\n",
       "      <td>Povolotckaia, Anastasia</td>\n",
       "      <td>0.006197</td>\n",
       "    </tr>\n",
       "    <tr>\n",
       "      <th>623</th>\n",
       "      <td>High-Ranking Authors</td>\n",
       "      <td>1971-2025</td>\n",
       "      <td>Korogodina, Maria</td>\n",
       "      <td>0.006197</td>\n",
       "    </tr>\n",
       "  </tbody>\n",
       "</table>\n",
       "</div>"
      ],
      "text/plain": [
       "                  Journal     Period                  Authors  \\\n",
       "317  High-Ranking Authors  1971-2025           Missori, Mauro   \n",
       "626  High-Ranking Authors  1971-2025        Kurganov, Nikolai   \n",
       "628  High-Ranking Authors  1971-2025         Tseveleva, Irina   \n",
       "627  High-Ranking Authors  1971-2025        Tileva, Ekaterina   \n",
       "633  High-Ranking Authors  1971-2025        Kurochkin, Alexey   \n",
       "632  High-Ranking Authors  1971-2025         Borisov, Evgenii   \n",
       "631  High-Ranking Authors  1971-2025      Povolotskiy, Alexey   \n",
       "629  High-Ranking Authors  1971-2025    Mikhailova, Alexandra   \n",
       "622  High-Ranking Authors  1971-2025  Povolotckaia, Anastasia   \n",
       "623  High-Ranking Authors  1971-2025        Korogodina, Maria   \n",
       "\n",
       "     Degree Centrality  \n",
       "317           0.007324  \n",
       "626           0.006197  \n",
       "628           0.006197  \n",
       "627           0.006197  \n",
       "633           0.006197  \n",
       "632           0.006197  \n",
       "631           0.006197  \n",
       "629           0.006197  \n",
       "622           0.006197  \n",
       "623           0.006197  "
      ]
     },
     "execution_count": 5,
     "metadata": {},
     "output_type": "execute_result"
    }
   ],
   "source": [
    "tools.get_undirected_graph_centrality_(df=df, category='author', centrality='degree', top_num=10)"
   ]
  },
  {
   "cell_type": "markdown",
   "id": "3f0673ec",
   "metadata": {},
   "source": [
    "Top 10 authors with high betweenness centrality among co-authorship for the entire period."
   ]
  },
  {
   "cell_type": "code",
   "execution_count": 6,
   "id": "36b5dab6",
   "metadata": {},
   "outputs": [
    {
     "name": "stdout",
     "output_type": "stream",
     "text": [
      "high-ranking_author_1971_2025_co_author_edge_list.csv is already created.\n"
     ]
    },
    {
     "data": {
      "application/vnd.microsoft.datawrangler.viewer.v0+json": {
       "columns": [
        {
         "name": "index",
         "rawType": "int64",
         "type": "integer"
        },
        {
         "name": "Journal",
         "rawType": "object",
         "type": "string"
        },
        {
         "name": "Period",
         "rawType": "object",
         "type": "string"
        },
        {
         "name": "Authors",
         "rawType": "object",
         "type": "string"
        },
        {
         "name": "Betweenness Centrality",
         "rawType": "float64",
         "type": "float"
        }
       ],
       "ref": "71629106-43e3-4f0b-827a-3c33b743be69",
       "rows": [
        [
         "735",
         "High-Ranking Authors",
         "1971-2025",
         "Bezhanishvili, Nick",
         "2.2865490575924544e-05"
        ],
        [
         "22",
         "High-Ranking Authors",
         "1971-2025",
         "Sourabh, Sumit",
         "2.223033805992664e-05"
        ],
        [
         "0",
         "High-Ranking Authors",
         "1971-2025",
         "Treiman, Rebecca",
         "2.1277609285929784e-05"
        ],
        [
         "854",
         "High-Ranking Authors",
         "1971-2025",
         "Taft, Marcus",
         "1.9689727995935023e-05"
        ],
        [
         "317",
         "High-Ranking Authors",
         "1971-2025",
         "Missori, Mauro",
         "1.905457547993712e-05"
        ],
        [
         "2",
         "High-Ranking Authors",
         "1971-2025",
         "Palmigiano, Alessandra",
         "1.8419422963939217e-05"
        ],
        [
         "955",
         "High-Ranking Authors",
         "1971-2025",
         "King, Simon",
         "1.7784270447941312e-05"
        ],
        [
         "196",
         "High-Ranking Authors",
         "1971-2025",
         "Kumar, Abhilasha A.",
         "1.5243660383949696e-05"
        ],
        [
         "198",
         "High-Ranking Authors",
         "1971-2025",
         "Jones, Michael N.",
         "1.5243660383949696e-05"
        ],
        [
         "1237",
         "High-Ranking Authors",
         "1971-2025",
         "Colás, José",
         "1.5243660383949696e-05"
        ]
       ],
       "shape": {
        "columns": 4,
        "rows": 10
       }
      },
      "text/html": [
       "<div>\n",
       "<style scoped>\n",
       "    .dataframe tbody tr th:only-of-type {\n",
       "        vertical-align: middle;\n",
       "    }\n",
       "\n",
       "    .dataframe tbody tr th {\n",
       "        vertical-align: top;\n",
       "    }\n",
       "\n",
       "    .dataframe thead th {\n",
       "        text-align: right;\n",
       "    }\n",
       "</style>\n",
       "<table border=\"1\" class=\"dataframe\">\n",
       "  <thead>\n",
       "    <tr style=\"text-align: right;\">\n",
       "      <th></th>\n",
       "      <th>Journal</th>\n",
       "      <th>Period</th>\n",
       "      <th>Authors</th>\n",
       "      <th>Betweenness Centrality</th>\n",
       "    </tr>\n",
       "  </thead>\n",
       "  <tbody>\n",
       "    <tr>\n",
       "      <th>735</th>\n",
       "      <td>High-Ranking Authors</td>\n",
       "      <td>1971-2025</td>\n",
       "      <td>Bezhanishvili, Nick</td>\n",
       "      <td>0.000023</td>\n",
       "    </tr>\n",
       "    <tr>\n",
       "      <th>22</th>\n",
       "      <td>High-Ranking Authors</td>\n",
       "      <td>1971-2025</td>\n",
       "      <td>Sourabh, Sumit</td>\n",
       "      <td>0.000022</td>\n",
       "    </tr>\n",
       "    <tr>\n",
       "      <th>0</th>\n",
       "      <td>High-Ranking Authors</td>\n",
       "      <td>1971-2025</td>\n",
       "      <td>Treiman, Rebecca</td>\n",
       "      <td>0.000021</td>\n",
       "    </tr>\n",
       "    <tr>\n",
       "      <th>854</th>\n",
       "      <td>High-Ranking Authors</td>\n",
       "      <td>1971-2025</td>\n",
       "      <td>Taft, Marcus</td>\n",
       "      <td>0.000020</td>\n",
       "    </tr>\n",
       "    <tr>\n",
       "      <th>317</th>\n",
       "      <td>High-Ranking Authors</td>\n",
       "      <td>1971-2025</td>\n",
       "      <td>Missori, Mauro</td>\n",
       "      <td>0.000019</td>\n",
       "    </tr>\n",
       "    <tr>\n",
       "      <th>2</th>\n",
       "      <td>High-Ranking Authors</td>\n",
       "      <td>1971-2025</td>\n",
       "      <td>Palmigiano, Alessandra</td>\n",
       "      <td>0.000018</td>\n",
       "    </tr>\n",
       "    <tr>\n",
       "      <th>955</th>\n",
       "      <td>High-Ranking Authors</td>\n",
       "      <td>1971-2025</td>\n",
       "      <td>King, Simon</td>\n",
       "      <td>0.000018</td>\n",
       "    </tr>\n",
       "    <tr>\n",
       "      <th>196</th>\n",
       "      <td>High-Ranking Authors</td>\n",
       "      <td>1971-2025</td>\n",
       "      <td>Kumar, Abhilasha A.</td>\n",
       "      <td>0.000015</td>\n",
       "    </tr>\n",
       "    <tr>\n",
       "      <th>198</th>\n",
       "      <td>High-Ranking Authors</td>\n",
       "      <td>1971-2025</td>\n",
       "      <td>Jones, Michael N.</td>\n",
       "      <td>0.000015</td>\n",
       "    </tr>\n",
       "    <tr>\n",
       "      <th>1237</th>\n",
       "      <td>High-Ranking Authors</td>\n",
       "      <td>1971-2025</td>\n",
       "      <td>Colás, José</td>\n",
       "      <td>0.000015</td>\n",
       "    </tr>\n",
       "  </tbody>\n",
       "</table>\n",
       "</div>"
      ],
      "text/plain": [
       "                   Journal     Period                 Authors  \\\n",
       "735   High-Ranking Authors  1971-2025     Bezhanishvili, Nick   \n",
       "22    High-Ranking Authors  1971-2025          Sourabh, Sumit   \n",
       "0     High-Ranking Authors  1971-2025        Treiman, Rebecca   \n",
       "854   High-Ranking Authors  1971-2025            Taft, Marcus   \n",
       "317   High-Ranking Authors  1971-2025          Missori, Mauro   \n",
       "2     High-Ranking Authors  1971-2025  Palmigiano, Alessandra   \n",
       "955   High-Ranking Authors  1971-2025             King, Simon   \n",
       "196   High-Ranking Authors  1971-2025     Kumar, Abhilasha A.   \n",
       "198   High-Ranking Authors  1971-2025       Jones, Michael N.   \n",
       "1237  High-Ranking Authors  1971-2025             Colás, José   \n",
       "\n",
       "      Betweenness Centrality  \n",
       "735                 0.000023  \n",
       "22                  0.000022  \n",
       "0                   0.000021  \n",
       "854                 0.000020  \n",
       "317                 0.000019  \n",
       "2                   0.000018  \n",
       "955                 0.000018  \n",
       "196                 0.000015  \n",
       "198                 0.000015  \n",
       "1237                0.000015  "
      ]
     },
     "execution_count": 6,
     "metadata": {},
     "output_type": "execute_result"
    }
   ],
   "source": [
    "tools.get_undirected_graph_centrality_(df=df, category='author', centrality='betweenness', top_num=10)"
   ]
  },
  {
   "cell_type": "markdown",
   "id": "916d6f38",
   "metadata": {},
   "source": [
    "Top 10 authors with high closeness centrality among co-authorship for the entire period."
   ]
  },
  {
   "cell_type": "code",
   "execution_count": 7,
   "id": "3df17df0",
   "metadata": {},
   "outputs": [
    {
     "name": "stdout",
     "output_type": "stream",
     "text": [
      "high-ranking_author_1971_2025_co_author_edge_list.csv is already created.\n"
     ]
    },
    {
     "data": {
      "application/vnd.microsoft.datawrangler.viewer.v0+json": {
       "columns": [
        {
         "name": "index",
         "rawType": "int64",
         "type": "integer"
        },
        {
         "name": "Journal",
         "rawType": "object",
         "type": "string"
        },
        {
         "name": "Period",
         "rawType": "object",
         "type": "string"
        },
        {
         "name": "Authors",
         "rawType": "object",
         "type": "string"
        },
        {
         "name": "Closeness Centrality",
         "rawType": "float64",
         "type": "float"
        }
       ],
       "ref": "86b10d5e-9c79-46fe-a19e-6a5ff8221333",
       "rows": [
        [
         "317",
         "High-Ranking Authors",
         "1971-2025",
         "Missori, Mauro",
         "0.007323943661971831"
        ],
        [
         "630",
         "High-Ranking Authors",
         "1971-2025",
         "Petrov, Yurii",
         "0.006197183098591549"
        ],
        [
         "625",
         "High-Ranking Authors",
         "1971-2025",
         "Podkovyrova, Vera",
         "0.006197183098591549"
        ],
        [
         "622",
         "High-Ranking Authors",
         "1971-2025",
         "Povolotckaia, Anastasia",
         "0.006197183098591549"
        ],
        [
         "629",
         "High-Ranking Authors",
         "1971-2025",
         "Mikhailova, Alexandra",
         "0.006197183098591549"
        ],
        [
         "623",
         "High-Ranking Authors",
         "1971-2025",
         "Korogodina, Maria",
         "0.006197183098591549"
        ],
        [
         "631",
         "High-Ranking Authors",
         "1971-2025",
         "Povolotskiy, Alexey",
         "0.006197183098591549"
        ],
        [
         "628",
         "High-Ranking Authors",
         "1971-2025",
         "Tseveleva, Irina",
         "0.006197183098591549"
        ],
        [
         "633",
         "High-Ranking Authors",
         "1971-2025",
         "Kurochkin, Alexey",
         "0.006197183098591549"
        ],
        [
         "626",
         "High-Ranking Authors",
         "1971-2025",
         "Kurganov, Nikolai",
         "0.006197183098591549"
        ]
       ],
       "shape": {
        "columns": 4,
        "rows": 10
       }
      },
      "text/html": [
       "<div>\n",
       "<style scoped>\n",
       "    .dataframe tbody tr th:only-of-type {\n",
       "        vertical-align: middle;\n",
       "    }\n",
       "\n",
       "    .dataframe tbody tr th {\n",
       "        vertical-align: top;\n",
       "    }\n",
       "\n",
       "    .dataframe thead th {\n",
       "        text-align: right;\n",
       "    }\n",
       "</style>\n",
       "<table border=\"1\" class=\"dataframe\">\n",
       "  <thead>\n",
       "    <tr style=\"text-align: right;\">\n",
       "      <th></th>\n",
       "      <th>Journal</th>\n",
       "      <th>Period</th>\n",
       "      <th>Authors</th>\n",
       "      <th>Closeness Centrality</th>\n",
       "    </tr>\n",
       "  </thead>\n",
       "  <tbody>\n",
       "    <tr>\n",
       "      <th>317</th>\n",
       "      <td>High-Ranking Authors</td>\n",
       "      <td>1971-2025</td>\n",
       "      <td>Missori, Mauro</td>\n",
       "      <td>0.007324</td>\n",
       "    </tr>\n",
       "    <tr>\n",
       "      <th>630</th>\n",
       "      <td>High-Ranking Authors</td>\n",
       "      <td>1971-2025</td>\n",
       "      <td>Petrov, Yurii</td>\n",
       "      <td>0.006197</td>\n",
       "    </tr>\n",
       "    <tr>\n",
       "      <th>625</th>\n",
       "      <td>High-Ranking Authors</td>\n",
       "      <td>1971-2025</td>\n",
       "      <td>Podkovyrova, Vera</td>\n",
       "      <td>0.006197</td>\n",
       "    </tr>\n",
       "    <tr>\n",
       "      <th>622</th>\n",
       "      <td>High-Ranking Authors</td>\n",
       "      <td>1971-2025</td>\n",
       "      <td>Povolotckaia, Anastasia</td>\n",
       "      <td>0.006197</td>\n",
       "    </tr>\n",
       "    <tr>\n",
       "      <th>629</th>\n",
       "      <td>High-Ranking Authors</td>\n",
       "      <td>1971-2025</td>\n",
       "      <td>Mikhailova, Alexandra</td>\n",
       "      <td>0.006197</td>\n",
       "    </tr>\n",
       "    <tr>\n",
       "      <th>623</th>\n",
       "      <td>High-Ranking Authors</td>\n",
       "      <td>1971-2025</td>\n",
       "      <td>Korogodina, Maria</td>\n",
       "      <td>0.006197</td>\n",
       "    </tr>\n",
       "    <tr>\n",
       "      <th>631</th>\n",
       "      <td>High-Ranking Authors</td>\n",
       "      <td>1971-2025</td>\n",
       "      <td>Povolotskiy, Alexey</td>\n",
       "      <td>0.006197</td>\n",
       "    </tr>\n",
       "    <tr>\n",
       "      <th>628</th>\n",
       "      <td>High-Ranking Authors</td>\n",
       "      <td>1971-2025</td>\n",
       "      <td>Tseveleva, Irina</td>\n",
       "      <td>0.006197</td>\n",
       "    </tr>\n",
       "    <tr>\n",
       "      <th>633</th>\n",
       "      <td>High-Ranking Authors</td>\n",
       "      <td>1971-2025</td>\n",
       "      <td>Kurochkin, Alexey</td>\n",
       "      <td>0.006197</td>\n",
       "    </tr>\n",
       "    <tr>\n",
       "      <th>626</th>\n",
       "      <td>High-Ranking Authors</td>\n",
       "      <td>1971-2025</td>\n",
       "      <td>Kurganov, Nikolai</td>\n",
       "      <td>0.006197</td>\n",
       "    </tr>\n",
       "  </tbody>\n",
       "</table>\n",
       "</div>"
      ],
      "text/plain": [
       "                  Journal     Period                  Authors  \\\n",
       "317  High-Ranking Authors  1971-2025           Missori, Mauro   \n",
       "630  High-Ranking Authors  1971-2025            Petrov, Yurii   \n",
       "625  High-Ranking Authors  1971-2025        Podkovyrova, Vera   \n",
       "622  High-Ranking Authors  1971-2025  Povolotckaia, Anastasia   \n",
       "629  High-Ranking Authors  1971-2025    Mikhailova, Alexandra   \n",
       "623  High-Ranking Authors  1971-2025        Korogodina, Maria   \n",
       "631  High-Ranking Authors  1971-2025      Povolotskiy, Alexey   \n",
       "628  High-Ranking Authors  1971-2025         Tseveleva, Irina   \n",
       "633  High-Ranking Authors  1971-2025        Kurochkin, Alexey   \n",
       "626  High-Ranking Authors  1971-2025        Kurganov, Nikolai   \n",
       "\n",
       "     Closeness Centrality  \n",
       "317              0.007324  \n",
       "630              0.006197  \n",
       "625              0.006197  \n",
       "622              0.006197  \n",
       "629              0.006197  \n",
       "623              0.006197  \n",
       "631              0.006197  \n",
       "628              0.006197  \n",
       "633              0.006197  \n",
       "626              0.006197  "
      ]
     },
     "execution_count": 7,
     "metadata": {},
     "output_type": "execute_result"
    }
   ],
   "source": [
    "tools.get_undirected_graph_centrality_(df=df, category='author', centrality='closeness', top_num=10)"
   ]
  },
  {
   "cell_type": "markdown",
   "id": "a2f37e1c",
   "metadata": {},
   "source": [
    "Top 10 authors with high eigenvector centrality among co-authorship for the entire period."
   ]
  },
  {
   "cell_type": "code",
   "execution_count": 8,
   "id": "36aefd68",
   "metadata": {},
   "outputs": [
    {
     "name": "stdout",
     "output_type": "stream",
     "text": [
      "high-ranking_author_1971_2025_co_author_edge_list.csv is already created.\n"
     ]
    },
    {
     "data": {
      "application/vnd.microsoft.datawrangler.viewer.v0+json": {
       "columns": [
        {
         "name": "index",
         "rawType": "int64",
         "type": "integer"
        },
        {
         "name": "Journal",
         "rawType": "object",
         "type": "string"
        },
        {
         "name": "Period",
         "rawType": "object",
         "type": "string"
        },
        {
         "name": "Authors",
         "rawType": "object",
         "type": "string"
        },
        {
         "name": "Eigenvector Centrality",
         "rawType": "float64",
         "type": "float"
        }
       ],
       "ref": "d127182f-56a6-4c3e-9021-48e747bc3bb9",
       "rows": [
        [
         "622",
         "High-Ranking Authors",
         "1971-2025",
         "Povolotckaia, Anastasia",
         "0.2886725968900588"
        ],
        [
         "626",
         "High-Ranking Authors",
         "1971-2025",
         "Kurganov, Nikolai",
         "0.2886725968900588"
        ],
        [
         "628",
         "High-Ranking Authors",
         "1971-2025",
         "Tseveleva, Irina",
         "0.2886725968900588"
        ],
        [
         "627",
         "High-Ranking Authors",
         "1971-2025",
         "Tileva, Ekaterina",
         "0.2886725968900588"
        ],
        [
         "625",
         "High-Ranking Authors",
         "1971-2025",
         "Podkovyrova, Vera",
         "0.2886725968900588"
        ],
        [
         "624",
         "High-Ranking Authors",
         "1971-2025",
         "Pankin, Dmitrii",
         "0.2886725968900588"
        ],
        [
         "623",
         "High-Ranking Authors",
         "1971-2025",
         "Korogodina, Maria",
         "0.2886725968900588"
        ],
        [
         "629",
         "High-Ranking Authors",
         "1971-2025",
         "Mikhailova, Alexandra",
         "0.2886725968900588"
        ],
        [
         "632",
         "High-Ranking Authors",
         "1971-2025",
         "Borisov, Evgenii",
         "0.2886725968900588"
        ],
        [
         "631",
         "High-Ranking Authors",
         "1971-2025",
         "Povolotskiy, Alexey",
         "0.2886725968900588"
        ]
       ],
       "shape": {
        "columns": 4,
        "rows": 10
       }
      },
      "text/html": [
       "<div>\n",
       "<style scoped>\n",
       "    .dataframe tbody tr th:only-of-type {\n",
       "        vertical-align: middle;\n",
       "    }\n",
       "\n",
       "    .dataframe tbody tr th {\n",
       "        vertical-align: top;\n",
       "    }\n",
       "\n",
       "    .dataframe thead th {\n",
       "        text-align: right;\n",
       "    }\n",
       "</style>\n",
       "<table border=\"1\" class=\"dataframe\">\n",
       "  <thead>\n",
       "    <tr style=\"text-align: right;\">\n",
       "      <th></th>\n",
       "      <th>Journal</th>\n",
       "      <th>Period</th>\n",
       "      <th>Authors</th>\n",
       "      <th>Eigenvector Centrality</th>\n",
       "    </tr>\n",
       "  </thead>\n",
       "  <tbody>\n",
       "    <tr>\n",
       "      <th>622</th>\n",
       "      <td>High-Ranking Authors</td>\n",
       "      <td>1971-2025</td>\n",
       "      <td>Povolotckaia, Anastasia</td>\n",
       "      <td>0.288673</td>\n",
       "    </tr>\n",
       "    <tr>\n",
       "      <th>626</th>\n",
       "      <td>High-Ranking Authors</td>\n",
       "      <td>1971-2025</td>\n",
       "      <td>Kurganov, Nikolai</td>\n",
       "      <td>0.288673</td>\n",
       "    </tr>\n",
       "    <tr>\n",
       "      <th>628</th>\n",
       "      <td>High-Ranking Authors</td>\n",
       "      <td>1971-2025</td>\n",
       "      <td>Tseveleva, Irina</td>\n",
       "      <td>0.288673</td>\n",
       "    </tr>\n",
       "    <tr>\n",
       "      <th>627</th>\n",
       "      <td>High-Ranking Authors</td>\n",
       "      <td>1971-2025</td>\n",
       "      <td>Tileva, Ekaterina</td>\n",
       "      <td>0.288673</td>\n",
       "    </tr>\n",
       "    <tr>\n",
       "      <th>625</th>\n",
       "      <td>High-Ranking Authors</td>\n",
       "      <td>1971-2025</td>\n",
       "      <td>Podkovyrova, Vera</td>\n",
       "      <td>0.288673</td>\n",
       "    </tr>\n",
       "    <tr>\n",
       "      <th>624</th>\n",
       "      <td>High-Ranking Authors</td>\n",
       "      <td>1971-2025</td>\n",
       "      <td>Pankin, Dmitrii</td>\n",
       "      <td>0.288673</td>\n",
       "    </tr>\n",
       "    <tr>\n",
       "      <th>623</th>\n",
       "      <td>High-Ranking Authors</td>\n",
       "      <td>1971-2025</td>\n",
       "      <td>Korogodina, Maria</td>\n",
       "      <td>0.288673</td>\n",
       "    </tr>\n",
       "    <tr>\n",
       "      <th>629</th>\n",
       "      <td>High-Ranking Authors</td>\n",
       "      <td>1971-2025</td>\n",
       "      <td>Mikhailova, Alexandra</td>\n",
       "      <td>0.288673</td>\n",
       "    </tr>\n",
       "    <tr>\n",
       "      <th>632</th>\n",
       "      <td>High-Ranking Authors</td>\n",
       "      <td>1971-2025</td>\n",
       "      <td>Borisov, Evgenii</td>\n",
       "      <td>0.288673</td>\n",
       "    </tr>\n",
       "    <tr>\n",
       "      <th>631</th>\n",
       "      <td>High-Ranking Authors</td>\n",
       "      <td>1971-2025</td>\n",
       "      <td>Povolotskiy, Alexey</td>\n",
       "      <td>0.288673</td>\n",
       "    </tr>\n",
       "  </tbody>\n",
       "</table>\n",
       "</div>"
      ],
      "text/plain": [
       "                  Journal     Period                  Authors  \\\n",
       "622  High-Ranking Authors  1971-2025  Povolotckaia, Anastasia   \n",
       "626  High-Ranking Authors  1971-2025        Kurganov, Nikolai   \n",
       "628  High-Ranking Authors  1971-2025         Tseveleva, Irina   \n",
       "627  High-Ranking Authors  1971-2025        Tileva, Ekaterina   \n",
       "625  High-Ranking Authors  1971-2025        Podkovyrova, Vera   \n",
       "624  High-Ranking Authors  1971-2025          Pankin, Dmitrii   \n",
       "623  High-Ranking Authors  1971-2025        Korogodina, Maria   \n",
       "629  High-Ranking Authors  1971-2025    Mikhailova, Alexandra   \n",
       "632  High-Ranking Authors  1971-2025         Borisov, Evgenii   \n",
       "631  High-Ranking Authors  1971-2025      Povolotskiy, Alexey   \n",
       "\n",
       "     Eigenvector Centrality  \n",
       "622                0.288673  \n",
       "626                0.288673  \n",
       "628                0.288673  \n",
       "627                0.288673  \n",
       "625                0.288673  \n",
       "624                0.288673  \n",
       "623                0.288673  \n",
       "629                0.288673  \n",
       "632                0.288673  \n",
       "631                0.288673  "
      ]
     },
     "execution_count": 8,
     "metadata": {},
     "output_type": "execute_result"
    }
   ],
   "source": [
    "tools.get_undirected_graph_centrality_(df=df, category='author', centrality='eigenvector', top_num=10)"
   ]
  },
  {
   "cell_type": "markdown",
   "id": "05cbce44",
   "metadata": {},
   "source": [
    "#### Check highly counted institutions."
   ]
  },
  {
   "cell_type": "markdown",
   "id": "2dacc883",
   "metadata": {},
   "source": [
    "Top 10 highly counted institutions for the entire period."
   ]
  },
  {
   "cell_type": "code",
   "execution_count": 9,
   "id": "8cad9283",
   "metadata": {},
   "outputs": [
    {
     "data": {
      "image/png": "[encoded data removed]",
      "text/plain": [
       "<Figure size 640x480 with 1 Axes>"
      ]
     },
     "metadata": {},
     "output_type": "display_data"
    },
    {
     "name": "stdout",
     "output_type": "stream",
     "text": [
      "High-Ranking Institutions 1971-2025\n",
      "-----------------------------------  --\n",
      "Department of Psychology             46\n",
      "Department of Computer Science       39\n",
      "Department of Philosophy             11\n",
      "School of Psychology                 10\n",
      "Department of Linguistics             9\n",
      "Department of Mathematics             8\n",
      "Department of English                 8\n",
      "Department of Economics               8\n",
      "Faculty of Fine and Applied Arts      6\n",
      "Haskins Laboratories, United States   6\n",
      "-----------------------------------  --\n"
     ]
    }
   ],
   "source": [
    "tools.plot_top_(df=df, category='institution', top_num=10)"
   ]
  },
  {
   "cell_type": "markdown",
   "id": "4ac7aaf3",
   "metadata": {},
   "source": [
    "### Check institutions with high centrality among co-institutions."
   ]
  },
  {
   "cell_type": "markdown",
   "id": "b762fda9",
   "metadata": {},
   "source": [
    "Top 10 insititutions with high degree centrality for the entire period."
   ]
  },
  {
   "cell_type": "code",
   "execution_count": 10,
   "id": "8c997621",
   "metadata": {},
   "outputs": [
    {
     "name": "stdout",
     "output_type": "stream",
     "text": [
      "high-ranking_institution_1971_2025_co_institution_edge_list.csv is created.\n"
     ]
    },
    {
     "data": {
      "application/vnd.microsoft.datawrangler.viewer.v0+json": {
       "columns": [
        {
         "name": "index",
         "rawType": "int64",
         "type": "integer"
        },
        {
         "name": "Journal",
         "rawType": "object",
         "type": "string"
        },
        {
         "name": "Period",
         "rawType": "object",
         "type": "string"
        },
        {
         "name": "Institutions",
         "rawType": "object",
         "type": "string"
        },
        {
         "name": "Degree Centrality",
         "rawType": "float64",
         "type": "float"
        }
       ],
       "ref": "1b484b03-fa02-4d6e-b969-483aa33bac7d",
       "rows": [
        [
         "45",
         "High-Ranking Institutions",
         "1971-2025",
         "Department of Computer Science",
         "0.05543237250554324"
        ],
        [
         "13",
         "High-Ranking Institutions",
         "1971-2025",
         "Department of Psychology",
         "0.025498891352549888"
        ],
        [
         "62",
         "High-Ranking Institutions",
         "1971-2025",
         "University of Birmingham",
         "0.014412416851441241"
        ],
        [
         "821",
         "High-Ranking Institutions",
         "1971-2025",
         "Davidson College, United States",
         "0.012195121951219513"
        ],
        [
         "822",
         "High-Ranking Institutions",
         "1971-2025",
         "Duke University, United States",
         "0.012195121951219513"
        ],
        [
         "46",
         "High-Ranking Institutions",
         "1971-2025",
         "Institution of Electrical Engineers, United Kingdom",
         "0.012195121951219513"
        ],
        [
         "823",
         "High-Ranking Institutions",
         "1971-2025",
         "University of North Carolina",
         "0.012195121951219513"
        ],
        [
         "824",
         "High-Ranking Institutions",
         "1971-2025",
         "Mathematical Association of America",
         "0.012195121951219513"
        ],
        [
         "825",
         "High-Ranking Institutions",
         "1971-2025",
         "Dept. of Math. and Computer Science",
         "0.012195121951219513"
        ],
        [
         "47",
         "High-Ranking Institutions",
         "1971-2025",
         "British Computer Society, United Kingdom",
         "0.012195121951219513"
        ]
       ],
       "shape": {
        "columns": 4,
        "rows": 10
       }
      },
      "text/html": [
       "<div>\n",
       "<style scoped>\n",
       "    .dataframe tbody tr th:only-of-type {\n",
       "        vertical-align: middle;\n",
       "    }\n",
       "\n",
       "    .dataframe tbody tr th {\n",
       "        vertical-align: top;\n",
       "    }\n",
       "\n",
       "    .dataframe thead th {\n",
       "        text-align: right;\n",
       "    }\n",
       "</style>\n",
       "<table border=\"1\" class=\"dataframe\">\n",
       "  <thead>\n",
       "    <tr style=\"text-align: right;\">\n",
       "      <th></th>\n",
       "      <th>Journal</th>\n",
       "      <th>Period</th>\n",
       "      <th>Institutions</th>\n",
       "      <th>Degree Centrality</th>\n",
       "    </tr>\n",
       "  </thead>\n",
       "  <tbody>\n",
       "    <tr>\n",
       "      <th>45</th>\n",
       "      <td>High-Ranking Institutions</td>\n",
       "      <td>1971-2025</td>\n",
       "      <td>Department of Computer Science</td>\n",
       "      <td>0.055432</td>\n",
       "    </tr>\n",
       "    <tr>\n",
       "      <th>13</th>\n",
       "      <td>High-Ranking Institutions</td>\n",
       "      <td>1971-2025</td>\n",
       "      <td>Department of Psychology</td>\n",
       "      <td>0.025499</td>\n",
       "    </tr>\n",
       "    <tr>\n",
       "      <th>62</th>\n",
       "      <td>High-Ranking Institutions</td>\n",
       "      <td>1971-2025</td>\n",
       "      <td>University of Birmingham</td>\n",
       "      <td>0.014412</td>\n",
       "    </tr>\n",
       "    <tr>\n",
       "      <th>821</th>\n",
       "      <td>High-Ranking Institutions</td>\n",
       "      <td>1971-2025</td>\n",
       "      <td>Davidson College, United States</td>\n",
       "      <td>0.012195</td>\n",
       "    </tr>\n",
       "    <tr>\n",
       "      <th>822</th>\n",
       "      <td>High-Ranking Institutions</td>\n",
       "      <td>1971-2025</td>\n",
       "      <td>Duke University, United States</td>\n",
       "      <td>0.012195</td>\n",
       "    </tr>\n",
       "    <tr>\n",
       "      <th>46</th>\n",
       "      <td>High-Ranking Institutions</td>\n",
       "      <td>1971-2025</td>\n",
       "      <td>Institution of Electrical Engineers, United Ki...</td>\n",
       "      <td>0.012195</td>\n",
       "    </tr>\n",
       "    <tr>\n",
       "      <th>823</th>\n",
       "      <td>High-Ranking Institutions</td>\n",
       "      <td>1971-2025</td>\n",
       "      <td>University of North Carolina</td>\n",
       "      <td>0.012195</td>\n",
       "    </tr>\n",
       "    <tr>\n",
       "      <th>824</th>\n",
       "      <td>High-Ranking Institutions</td>\n",
       "      <td>1971-2025</td>\n",
       "      <td>Mathematical Association of America</td>\n",
       "      <td>0.012195</td>\n",
       "    </tr>\n",
       "    <tr>\n",
       "      <th>825</th>\n",
       "      <td>High-Ranking Institutions</td>\n",
       "      <td>1971-2025</td>\n",
       "      <td>Dept. of Math. and Computer Science</td>\n",
       "      <td>0.012195</td>\n",
       "    </tr>\n",
       "    <tr>\n",
       "      <th>47</th>\n",
       "      <td>High-Ranking Institutions</td>\n",
       "      <td>1971-2025</td>\n",
       "      <td>British Computer Society, United Kingdom</td>\n",
       "      <td>0.012195</td>\n",
       "    </tr>\n",
       "  </tbody>\n",
       "</table>\n",
       "</div>"
      ],
      "text/plain": [
       "                       Journal     Period  \\\n",
       "45   High-Ranking Institutions  1971-2025   \n",
       "13   High-Ranking Institutions  1971-2025   \n",
       "62   High-Ranking Institutions  1971-2025   \n",
       "821  High-Ranking Institutions  1971-2025   \n",
       "822  High-Ranking Institutions  1971-2025   \n",
       "46   High-Ranking Institutions  1971-2025   \n",
       "823  High-Ranking Institutions  1971-2025   \n",
       "824  High-Ranking Institutions  1971-2025   \n",
       "825  High-Ranking Institutions  1971-2025   \n",
       "47   High-Ranking Institutions  1971-2025   \n",
       "\n",
       "                                          Institutions  Degree Centrality  \n",
       "45                      Department of Computer Science           0.055432  \n",
       "13                            Department of Psychology           0.025499  \n",
       "62                            University of Birmingham           0.014412  \n",
       "821                    Davidson College, United States           0.012195  \n",
       "822                     Duke University, United States           0.012195  \n",
       "46   Institution of Electrical Engineers, United Ki...           0.012195  \n",
       "823                       University of North Carolina           0.012195  \n",
       "824                Mathematical Association of America           0.012195  \n",
       "825                Dept. of Math. and Computer Science           0.012195  \n",
       "47            British Computer Society, United Kingdom           0.012195  "
      ]
     },
     "execution_count": 10,
     "metadata": {},
     "output_type": "execute_result"
    }
   ],
   "source": [
    "tools.get_undirected_graph_centrality_(df=df, category='institution', centrality='degree', top_num=10)"
   ]
  },
  {
   "cell_type": "markdown",
   "id": "37d1293f",
   "metadata": {},
   "source": [
    "Top 10 insititutions with high betweenness centrality for the entire period."
   ]
  },
  {
   "cell_type": "code",
   "execution_count": 11,
   "id": "1db7e941",
   "metadata": {},
   "outputs": [
    {
     "name": "stdout",
     "output_type": "stream",
     "text": [
      "high-ranking_institution_1971_2025_co_institution_edge_list.csv is already created.\n"
     ]
    },
    {
     "data": {
      "application/vnd.microsoft.datawrangler.viewer.v0+json": {
       "columns": [
        {
         "name": "index",
         "rawType": "int64",
         "type": "integer"
        },
        {
         "name": "Journal",
         "rawType": "object",
         "type": "string"
        },
        {
         "name": "Period",
         "rawType": "object",
         "type": "string"
        },
        {
         "name": "Institutions",
         "rawType": "object",
         "type": "string"
        },
        {
         "name": "Betweenness Centrality",
         "rawType": "float64",
         "type": "float"
        }
       ],
       "ref": "91288ea1-a3ea-4ef7-8ed4-1080261d1d58",
       "rows": [
        [
         "45",
         "High-Ranking Institutions",
         "1971-2025",
         "Department of Computer Science",
         "0.009004530565939299"
        ],
        [
         "13",
         "High-Ranking Institutions",
         "1971-2025",
         "Department of Psychology",
         "0.005415269065413891"
        ],
        [
         "20",
         "High-Ranking Institutions",
         "1971-2025",
         "School of Psychology",
         "0.0050965790658814665"
        ],
        [
         "23",
         "High-Ranking Institutions",
         "1971-2025",
         "Department of Mathematics",
         "0.0007025945549537223"
        ],
        [
         "53",
         "High-Ranking Institutions",
         "1971-2025",
         "Department of Philosophy",
         "0.0006816766785365361"
        ],
        [
         "73",
         "High-Ranking Institutions",
         "1971-2025",
         "Department of Electrical and Computer Engineering",
         "0.0006718329719872721"
        ],
        [
         "478",
         "High-Ranking Institutions",
         "1971-2025",
         "MRC Cognition and Brain Sciences Unit",
         "0.000663219728756666"
        ],
        [
         "52",
         "High-Ranking Institutions",
         "1971-2025",
         "Institute for Logic",
         "0.000499568107375151"
        ],
        [
         "178",
         "High-Ranking Institutions",
         "1971-2025",
         "Department of English",
         "0.000497107180737835"
        ],
        [
         "741",
         "High-Ranking Institutions",
         "1971-2025",
         "University of Western Ontario",
         "0.00045527142790346276"
        ]
       ],
       "shape": {
        "columns": 4,
        "rows": 10
       }
      },
      "text/html": [
       "<div>\n",
       "<style scoped>\n",
       "    .dataframe tbody tr th:only-of-type {\n",
       "        vertical-align: middle;\n",
       "    }\n",
       "\n",
       "    .dataframe tbody tr th {\n",
       "        vertical-align: top;\n",
       "    }\n",
       "\n",
       "    .dataframe thead th {\n",
       "        text-align: right;\n",
       "    }\n",
       "</style>\n",
       "<table border=\"1\" class=\"dataframe\">\n",
       "  <thead>\n",
       "    <tr style=\"text-align: right;\">\n",
       "      <th></th>\n",
       "      <th>Journal</th>\n",
       "      <th>Period</th>\n",
       "      <th>Institutions</th>\n",
       "      <th>Betweenness Centrality</th>\n",
       "    </tr>\n",
       "  </thead>\n",
       "  <tbody>\n",
       "    <tr>\n",
       "      <th>45</th>\n",
       "      <td>High-Ranking Institutions</td>\n",
       "      <td>1971-2025</td>\n",
       "      <td>Department of Computer Science</td>\n",
       "      <td>0.009005</td>\n",
       "    </tr>\n",
       "    <tr>\n",
       "      <th>13</th>\n",
       "      <td>High-Ranking Institutions</td>\n",
       "      <td>1971-2025</td>\n",
       "      <td>Department of Psychology</td>\n",
       "      <td>0.005415</td>\n",
       "    </tr>\n",
       "    <tr>\n",
       "      <th>20</th>\n",
       "      <td>High-Ranking Institutions</td>\n",
       "      <td>1971-2025</td>\n",
       "      <td>School of Psychology</td>\n",
       "      <td>0.005097</td>\n",
       "    </tr>\n",
       "    <tr>\n",
       "      <th>23</th>\n",
       "      <td>High-Ranking Institutions</td>\n",
       "      <td>1971-2025</td>\n",
       "      <td>Department of Mathematics</td>\n",
       "      <td>0.000703</td>\n",
       "    </tr>\n",
       "    <tr>\n",
       "      <th>53</th>\n",
       "      <td>High-Ranking Institutions</td>\n",
       "      <td>1971-2025</td>\n",
       "      <td>Department of Philosophy</td>\n",
       "      <td>0.000682</td>\n",
       "    </tr>\n",
       "    <tr>\n",
       "      <th>73</th>\n",
       "      <td>High-Ranking Institutions</td>\n",
       "      <td>1971-2025</td>\n",
       "      <td>Department of Electrical and Computer Engineering</td>\n",
       "      <td>0.000672</td>\n",
       "    </tr>\n",
       "    <tr>\n",
       "      <th>478</th>\n",
       "      <td>High-Ranking Institutions</td>\n",
       "      <td>1971-2025</td>\n",
       "      <td>MRC Cognition and Brain Sciences Unit</td>\n",
       "      <td>0.000663</td>\n",
       "    </tr>\n",
       "    <tr>\n",
       "      <th>52</th>\n",
       "      <td>High-Ranking Institutions</td>\n",
       "      <td>1971-2025</td>\n",
       "      <td>Institute for Logic</td>\n",
       "      <td>0.000500</td>\n",
       "    </tr>\n",
       "    <tr>\n",
       "      <th>178</th>\n",
       "      <td>High-Ranking Institutions</td>\n",
       "      <td>1971-2025</td>\n",
       "      <td>Department of English</td>\n",
       "      <td>0.000497</td>\n",
       "    </tr>\n",
       "    <tr>\n",
       "      <th>741</th>\n",
       "      <td>High-Ranking Institutions</td>\n",
       "      <td>1971-2025</td>\n",
       "      <td>University of Western Ontario</td>\n",
       "      <td>0.000455</td>\n",
       "    </tr>\n",
       "  </tbody>\n",
       "</table>\n",
       "</div>"
      ],
      "text/plain": [
       "                       Journal     Period  \\\n",
       "45   High-Ranking Institutions  1971-2025   \n",
       "13   High-Ranking Institutions  1971-2025   \n",
       "20   High-Ranking Institutions  1971-2025   \n",
       "23   High-Ranking Institutions  1971-2025   \n",
       "53   High-Ranking Institutions  1971-2025   \n",
       "73   High-Ranking Institutions  1971-2025   \n",
       "478  High-Ranking Institutions  1971-2025   \n",
       "52   High-Ranking Institutions  1971-2025   \n",
       "178  High-Ranking Institutions  1971-2025   \n",
       "741  High-Ranking Institutions  1971-2025   \n",
       "\n",
       "                                          Institutions  Betweenness Centrality  \n",
       "45                      Department of Computer Science                0.009005  \n",
       "13                            Department of Psychology                0.005415  \n",
       "20                                School of Psychology                0.005097  \n",
       "23                           Department of Mathematics                0.000703  \n",
       "53                            Department of Philosophy                0.000682  \n",
       "73   Department of Electrical and Computer Engineering                0.000672  \n",
       "478              MRC Cognition and Brain Sciences Unit                0.000663  \n",
       "52                                 Institute for Logic                0.000500  \n",
       "178                              Department of English                0.000497  \n",
       "741                      University of Western Ontario                0.000455  "
      ]
     },
     "execution_count": 11,
     "metadata": {},
     "output_type": "execute_result"
    }
   ],
   "source": [
    "tools.get_undirected_graph_centrality_(df=df, category='institution', centrality='betweenness', top_num=10)"
   ]
  },
  {
   "cell_type": "markdown",
   "id": "fa402213",
   "metadata": {},
   "source": [
    "Top 10 insititutions with high closeness centrality for the entire period."
   ]
  },
  {
   "cell_type": "code",
   "execution_count": 12,
   "id": "bea319a8",
   "metadata": {},
   "outputs": [
    {
     "name": "stdout",
     "output_type": "stream",
     "text": [
      "high-ranking_institution_1971_2025_co_institution_edge_list.csv is already created.\n"
     ]
    },
    {
     "data": {
      "application/vnd.microsoft.datawrangler.viewer.v0+json": {
       "columns": [
        {
         "name": "index",
         "rawType": "int64",
         "type": "integer"
        },
        {
         "name": "Journal",
         "rawType": "object",
         "type": "string"
        },
        {
         "name": "Period",
         "rawType": "object",
         "type": "string"
        },
        {
         "name": "Institutions",
         "rawType": "object",
         "type": "string"
        },
        {
         "name": "Closeness Centrality",
         "rawType": "float64",
         "type": "float"
        }
       ],
       "ref": "502cb533-97eb-4246-8534-feb2723eb8c1",
       "rows": [
        [
         "45",
         "High-Ranking Institutions",
         "1971-2025",
         "Department of Computer Science",
         "0.05597719353816915"
        ],
        [
         "20",
         "High-Ranking Institutions",
         "1971-2025",
         "School of Psychology",
         "0.04849509341178021"
        ],
        [
         "629",
         "High-Ranking Institutions",
         "1971-2025",
         "Manufacturing Engineering Centre (MEC)",
         "0.041863285765724796"
        ],
        [
         "630",
         "High-Ranking Institutions",
         "1971-2025",
         "School of Electronics and Computer Science",
         "0.041863285765724796"
        ],
        [
         "13",
         "High-Ranking Institutions",
         "1971-2025",
         "Department of Psychology",
         "0.040987484808282855"
        ],
        [
         "62",
         "High-Ranking Institutions",
         "1971-2025",
         "University of Birmingham",
         "0.0385669640518882"
        ],
        [
         "49",
         "High-Ranking Institutions",
         "1971-2025",
         "Computer Conservation Society, United Kingdom",
         "0.03826565964523282"
        ],
        [
         "46",
         "High-Ranking Institutions",
         "1971-2025",
         "Institution of Electrical Engineers, United Kingdom",
         "0.03826565964523282"
        ],
        [
         "823",
         "High-Ranking Institutions",
         "1971-2025",
         "University of North Carolina",
         "0.03826565964523282"
        ],
        [
         "824",
         "High-Ranking Institutions",
         "1971-2025",
         "Mathematical Association of America",
         "0.03826565964523282"
        ]
       ],
       "shape": {
        "columns": 4,
        "rows": 10
       }
      },
      "text/html": [
       "<div>\n",
       "<style scoped>\n",
       "    .dataframe tbody tr th:only-of-type {\n",
       "        vertical-align: middle;\n",
       "    }\n",
       "\n",
       "    .dataframe tbody tr th {\n",
       "        vertical-align: top;\n",
       "    }\n",
       "\n",
       "    .dataframe thead th {\n",
       "        text-align: right;\n",
       "    }\n",
       "</style>\n",
       "<table border=\"1\" class=\"dataframe\">\n",
       "  <thead>\n",
       "    <tr style=\"text-align: right;\">\n",
       "      <th></th>\n",
       "      <th>Journal</th>\n",
       "      <th>Period</th>\n",
       "      <th>Institutions</th>\n",
       "      <th>Closeness Centrality</th>\n",
       "    </tr>\n",
       "  </thead>\n",
       "  <tbody>\n",
       "    <tr>\n",
       "      <th>45</th>\n",
       "      <td>High-Ranking Institutions</td>\n",
       "      <td>1971-2025</td>\n",
       "      <td>Department of Computer Science</td>\n",
       "      <td>0.055977</td>\n",
       "    </tr>\n",
       "    <tr>\n",
       "      <th>20</th>\n",
       "      <td>High-Ranking Institutions</td>\n",
       "      <td>1971-2025</td>\n",
       "      <td>School of Psychology</td>\n",
       "      <td>0.048495</td>\n",
       "    </tr>\n",
       "    <tr>\n",
       "      <th>629</th>\n",
       "      <td>High-Ranking Institutions</td>\n",
       "      <td>1971-2025</td>\n",
       "      <td>Manufacturing Engineering Centre (MEC)</td>\n",
       "      <td>0.041863</td>\n",
       "    </tr>\n",
       "    <tr>\n",
       "      <th>630</th>\n",
       "      <td>High-Ranking Institutions</td>\n",
       "      <td>1971-2025</td>\n",
       "      <td>School of Electronics and Computer Science</td>\n",
       "      <td>0.041863</td>\n",
       "    </tr>\n",
       "    <tr>\n",
       "      <th>13</th>\n",
       "      <td>High-Ranking Institutions</td>\n",
       "      <td>1971-2025</td>\n",
       "      <td>Department of Psychology</td>\n",
       "      <td>0.040987</td>\n",
       "    </tr>\n",
       "    <tr>\n",
       "      <th>62</th>\n",
       "      <td>High-Ranking Institutions</td>\n",
       "      <td>1971-2025</td>\n",
       "      <td>University of Birmingham</td>\n",
       "      <td>0.038567</td>\n",
       "    </tr>\n",
       "    <tr>\n",
       "      <th>49</th>\n",
       "      <td>High-Ranking Institutions</td>\n",
       "      <td>1971-2025</td>\n",
       "      <td>Computer Conservation Society, United Kingdom</td>\n",
       "      <td>0.038266</td>\n",
       "    </tr>\n",
       "    <tr>\n",
       "      <th>46</th>\n",
       "      <td>High-Ranking Institutions</td>\n",
       "      <td>1971-2025</td>\n",
       "      <td>Institution of Electrical Engineers, United Ki...</td>\n",
       "      <td>0.038266</td>\n",
       "    </tr>\n",
       "    <tr>\n",
       "      <th>823</th>\n",
       "      <td>High-Ranking Institutions</td>\n",
       "      <td>1971-2025</td>\n",
       "      <td>University of North Carolina</td>\n",
       "      <td>0.038266</td>\n",
       "    </tr>\n",
       "    <tr>\n",
       "      <th>824</th>\n",
       "      <td>High-Ranking Institutions</td>\n",
       "      <td>1971-2025</td>\n",
       "      <td>Mathematical Association of America</td>\n",
       "      <td>0.038266</td>\n",
       "    </tr>\n",
       "  </tbody>\n",
       "</table>\n",
       "</div>"
      ],
      "text/plain": [
       "                       Journal     Period  \\\n",
       "45   High-Ranking Institutions  1971-2025   \n",
       "20   High-Ranking Institutions  1971-2025   \n",
       "629  High-Ranking Institutions  1971-2025   \n",
       "630  High-Ranking Institutions  1971-2025   \n",
       "13   High-Ranking Institutions  1971-2025   \n",
       "62   High-Ranking Institutions  1971-2025   \n",
       "49   High-Ranking Institutions  1971-2025   \n",
       "46   High-Ranking Institutions  1971-2025   \n",
       "823  High-Ranking Institutions  1971-2025   \n",
       "824  High-Ranking Institutions  1971-2025   \n",
       "\n",
       "                                          Institutions  Closeness Centrality  \n",
       "45                      Department of Computer Science              0.055977  \n",
       "20                                School of Psychology              0.048495  \n",
       "629             Manufacturing Engineering Centre (MEC)              0.041863  \n",
       "630         School of Electronics and Computer Science              0.041863  \n",
       "13                            Department of Psychology              0.040987  \n",
       "62                            University of Birmingham              0.038567  \n",
       "49       Computer Conservation Society, United Kingdom              0.038266  \n",
       "46   Institution of Electrical Engineers, United Ki...              0.038266  \n",
       "823                       University of North Carolina              0.038266  \n",
       "824                Mathematical Association of America              0.038266  "
      ]
     },
     "execution_count": 12,
     "metadata": {},
     "output_type": "execute_result"
    }
   ],
   "source": [
    "tools.get_undirected_graph_centrality_(df=df, category='institution', centrality='closeness', top_num=10)"
   ]
  },
  {
   "cell_type": "markdown",
   "id": "ba9ac18d",
   "metadata": {},
   "source": [
    "Top 10 insititutions with high eigenvector centrality for the entire period."
   ]
  },
  {
   "cell_type": "code",
   "execution_count": 13,
   "id": "b337052f",
   "metadata": {},
   "outputs": [
    {
     "name": "stdout",
     "output_type": "stream",
     "text": [
      "high-ranking_institution_1971_2025_co_institution_edge_list.csv is already created.\n"
     ]
    },
    {
     "data": {
      "application/vnd.microsoft.datawrangler.viewer.v0+json": {
       "columns": [
        {
         "name": "index",
         "rawType": "int64",
         "type": "integer"
        },
        {
         "name": "Journal",
         "rawType": "object",
         "type": "string"
        },
        {
         "name": "Period",
         "rawType": "object",
         "type": "string"
        },
        {
         "name": "Institutions",
         "rawType": "object",
         "type": "string"
        },
        {
         "name": "Eigenvector Centrality",
         "rawType": "float64",
         "type": "float"
        }
       ],
       "ref": "fd9b10fa-8dcd-4762-b6f4-294a99ca4924",
       "rows": [
        [
         "45",
         "High-Ranking Institutions",
         "1971-2025",
         "Department of Computer Science",
         "0.3860353946978059"
        ],
        [
         "62",
         "High-Ranking Institutions",
         "1971-2025",
         "University of Birmingham",
         "0.27243091188956187"
        ],
        [
         "46",
         "High-Ranking Institutions",
         "1971-2025",
         "Institution of Electrical Engineers, United Kingdom",
         "0.26824643654277175"
        ],
        [
         "47",
         "High-Ranking Institutions",
         "1971-2025",
         "British Computer Society, United Kingdom",
         "0.26824643654277175"
        ],
        [
         "50",
         "High-Ranking Institutions",
         "1971-2025",
         "Wern Ddu",
         "0.26824643654277175"
        ],
        [
         "49",
         "High-Ranking Institutions",
         "1971-2025",
         "Computer Conservation Society, United Kingdom",
         "0.26824643654277175"
        ],
        [
         "48",
         "High-Ranking Institutions",
         "1971-2025",
         "Ferranti Ltd.",
         "0.26824643654277175"
        ],
        [
         "825",
         "High-Ranking Institutions",
         "1971-2025",
         "Dept. of Math. and Computer Science",
         "0.2682464365427717"
        ],
        [
         "824",
         "High-Ranking Institutions",
         "1971-2025",
         "Mathematical Association of America",
         "0.2682464365427717"
        ],
        [
         "823",
         "High-Ranking Institutions",
         "1971-2025",
         "University of North Carolina",
         "0.2682464365427717"
        ]
       ],
       "shape": {
        "columns": 4,
        "rows": 10
       }
      },
      "text/html": [
       "<div>\n",
       "<style scoped>\n",
       "    .dataframe tbody tr th:only-of-type {\n",
       "        vertical-align: middle;\n",
       "    }\n",
       "\n",
       "    .dataframe tbody tr th {\n",
       "        vertical-align: top;\n",
       "    }\n",
       "\n",
       "    .dataframe thead th {\n",
       "        text-align: right;\n",
       "    }\n",
       "</style>\n",
       "<table border=\"1\" class=\"dataframe\">\n",
       "  <thead>\n",
       "    <tr style=\"text-align: right;\">\n",
       "      <th></th>\n",
       "      <th>Journal</th>\n",
       "      <th>Period</th>\n",
       "      <th>Institutions</th>\n",
       "      <th>Eigenvector Centrality</th>\n",
       "    </tr>\n",
       "  </thead>\n",
       "  <tbody>\n",
       "    <tr>\n",
       "      <th>45</th>\n",
       "      <td>High-Ranking Institutions</td>\n",
       "      <td>1971-2025</td>\n",
       "      <td>Department of Computer Science</td>\n",
       "      <td>0.386035</td>\n",
       "    </tr>\n",
       "    <tr>\n",
       "      <th>62</th>\n",
       "      <td>High-Ranking Institutions</td>\n",
       "      <td>1971-2025</td>\n",
       "      <td>University of Birmingham</td>\n",
       "      <td>0.272431</td>\n",
       "    </tr>\n",
       "    <tr>\n",
       "      <th>46</th>\n",
       "      <td>High-Ranking Institutions</td>\n",
       "      <td>1971-2025</td>\n",
       "      <td>Institution of Electrical Engineers, United Ki...</td>\n",
       "      <td>0.268246</td>\n",
       "    </tr>\n",
       "    <tr>\n",
       "      <th>47</th>\n",
       "      <td>High-Ranking Institutions</td>\n",
       "      <td>1971-2025</td>\n",
       "      <td>British Computer Society, United Kingdom</td>\n",
       "      <td>0.268246</td>\n",
       "    </tr>\n",
       "    <tr>\n",
       "      <th>50</th>\n",
       "      <td>High-Ranking Institutions</td>\n",
       "      <td>1971-2025</td>\n",
       "      <td>Wern Ddu</td>\n",
       "      <td>0.268246</td>\n",
       "    </tr>\n",
       "    <tr>\n",
       "      <th>49</th>\n",
       "      <td>High-Ranking Institutions</td>\n",
       "      <td>1971-2025</td>\n",
       "      <td>Computer Conservation Society, United Kingdom</td>\n",
       "      <td>0.268246</td>\n",
       "    </tr>\n",
       "    <tr>\n",
       "      <th>48</th>\n",
       "      <td>High-Ranking Institutions</td>\n",
       "      <td>1971-2025</td>\n",
       "      <td>Ferranti Ltd.</td>\n",
       "      <td>0.268246</td>\n",
       "    </tr>\n",
       "    <tr>\n",
       "      <th>825</th>\n",
       "      <td>High-Ranking Institutions</td>\n",
       "      <td>1971-2025</td>\n",
       "      <td>Dept. of Math. and Computer Science</td>\n",
       "      <td>0.268246</td>\n",
       "    </tr>\n",
       "    <tr>\n",
       "      <th>824</th>\n",
       "      <td>High-Ranking Institutions</td>\n",
       "      <td>1971-2025</td>\n",
       "      <td>Mathematical Association of America</td>\n",
       "      <td>0.268246</td>\n",
       "    </tr>\n",
       "    <tr>\n",
       "      <th>823</th>\n",
       "      <td>High-Ranking Institutions</td>\n",
       "      <td>1971-2025</td>\n",
       "      <td>University of North Carolina</td>\n",
       "      <td>0.268246</td>\n",
       "    </tr>\n",
       "  </tbody>\n",
       "</table>\n",
       "</div>"
      ],
      "text/plain": [
       "                       Journal     Period  \\\n",
       "45   High-Ranking Institutions  1971-2025   \n",
       "62   High-Ranking Institutions  1971-2025   \n",
       "46   High-Ranking Institutions  1971-2025   \n",
       "47   High-Ranking Institutions  1971-2025   \n",
       "50   High-Ranking Institutions  1971-2025   \n",
       "49   High-Ranking Institutions  1971-2025   \n",
       "48   High-Ranking Institutions  1971-2025   \n",
       "825  High-Ranking Institutions  1971-2025   \n",
       "824  High-Ranking Institutions  1971-2025   \n",
       "823  High-Ranking Institutions  1971-2025   \n",
       "\n",
       "                                          Institutions  Eigenvector Centrality  \n",
       "45                      Department of Computer Science                0.386035  \n",
       "62                            University of Birmingham                0.272431  \n",
       "46   Institution of Electrical Engineers, United Ki...                0.268246  \n",
       "47            British Computer Society, United Kingdom                0.268246  \n",
       "50                                            Wern Ddu                0.268246  \n",
       "49       Computer Conservation Society, United Kingdom                0.268246  \n",
       "48                                       Ferranti Ltd.                0.268246  \n",
       "825                Dept. of Math. and Computer Science                0.268246  \n",
       "824                Mathematical Association of America                0.268246  \n",
       "823                       University of North Carolina                0.268246  "
      ]
     },
     "execution_count": 13,
     "metadata": {},
     "output_type": "execute_result"
    }
   ],
   "source": [
    "tools.get_undirected_graph_centrality_(df=df, category='institution', centrality='eigenvector', top_num=10)"
   ]
  },
  {
   "cell_type": "markdown",
   "id": "818c40e1",
   "metadata": {},
   "source": [
    "#### Check highly counted countries."
   ]
  },
  {
   "cell_type": "markdown",
   "id": "54aa29ce",
   "metadata": {},
   "source": [
    "Top 10 highly counted countries for the entire period."
   ]
  },
  {
   "cell_type": "code",
   "execution_count": 14,
   "id": "3444fca5",
   "metadata": {},
   "outputs": [
    {
     "data": {
      "image/png": "[encoded data removed]",
      "text/plain": [
       "<Figure size 640x480 with 1 Axes>"
      ]
     },
     "metadata": {},
     "output_type": "display_data"
    },
    {
     "name": "stdout",
     "output_type": "stream",
     "text": [
      "High-Ranking Countries 1971-2025\n",
      "--------------  ---\n",
      "United States   291\n",
      "United Kingdom  169\n",
      "Italy            91\n",
      "France           75\n",
      "Netherlands      73\n",
      "Germany          71\n",
      "Spain            55\n",
      "Canada           55\n",
      "Australia        53\n",
      "China            50\n",
      "--------------  ---\n"
     ]
    }
   ],
   "source": [
    "tools.plot_top_(df=df, category='country', top_num=10)"
   ]
  },
  {
   "cell_type": "markdown",
   "id": "10e82cda",
   "metadata": {},
   "source": [
    "#### Check countries with high centrality among co-countries."
   ]
  },
  {
   "cell_type": "markdown",
   "id": "00d03c7e",
   "metadata": {},
   "source": [
    "Top 10 countries with high degree centrality for the entire period."
   ]
  },
  {
   "cell_type": "code",
   "execution_count": 15,
   "id": "86358c34",
   "metadata": {},
   "outputs": [
    {
     "name": "stdout",
     "output_type": "stream",
     "text": [
      "high-ranking_country_1971_2025_co_country_edge_list.csv is created.\n"
     ]
    },
    {
     "data": {
      "application/vnd.microsoft.datawrangler.viewer.v0+json": {
       "columns": [
        {
         "name": "index",
         "rawType": "int64",
         "type": "integer"
        },
        {
         "name": "Journal",
         "rawType": "object",
         "type": "string"
        },
        {
         "name": "Period",
         "rawType": "object",
         "type": "string"
        },
        {
         "name": "Countries",
         "rawType": "object",
         "type": "string"
        },
        {
         "name": "Degree Centrality",
         "rawType": "float64",
         "type": "float"
        }
       ],
       "ref": "2232405f-d99f-45ea-8fc5-15de6071dbaf",
       "rows": [
        [
         "1",
         "High-Ranking Countries",
         "1971-2025",
         "United Kingdom",
         "0.42592592592592593"
        ],
        [
         "0",
         "High-Ranking Countries",
         "1971-2025",
         "United States",
         "0.35185185185185186"
        ],
        [
         "5",
         "High-Ranking Countries",
         "1971-2025",
         "France",
         "0.31481481481481477"
        ],
        [
         "6",
         "High-Ranking Countries",
         "1971-2025",
         "Italy",
         "0.2777777777777778"
        ],
        [
         "9",
         "High-Ranking Countries",
         "1971-2025",
         "Germany",
         "0.24074074074074073"
        ],
        [
         "12",
         "High-Ranking Countries",
         "1971-2025",
         "China",
         "0.24074074074074073"
        ],
        [
         "11",
         "High-Ranking Countries",
         "1971-2025",
         "Netherlands",
         "0.2037037037037037"
        ],
        [
         "18",
         "High-Ranking Countries",
         "1971-2025",
         "Canada",
         "0.2037037037037037"
        ],
        [
         "8",
         "High-Ranking Countries",
         "1971-2025",
         "Australia",
         "0.2037037037037037"
        ],
        [
         "2",
         "High-Ranking Countries",
         "1971-2025",
         "Spain",
         "0.16666666666666666"
        ]
       ],
       "shape": {
        "columns": 4,
        "rows": 10
       }
      },
      "text/html": [
       "<div>\n",
       "<style scoped>\n",
       "    .dataframe tbody tr th:only-of-type {\n",
       "        vertical-align: middle;\n",
       "    }\n",
       "\n",
       "    .dataframe tbody tr th {\n",
       "        vertical-align: top;\n",
       "    }\n",
       "\n",
       "    .dataframe thead th {\n",
       "        text-align: right;\n",
       "    }\n",
       "</style>\n",
       "<table border=\"1\" class=\"dataframe\">\n",
       "  <thead>\n",
       "    <tr style=\"text-align: right;\">\n",
       "      <th></th>\n",
       "      <th>Journal</th>\n",
       "      <th>Period</th>\n",
       "      <th>Countries</th>\n",
       "      <th>Degree Centrality</th>\n",
       "    </tr>\n",
       "  </thead>\n",
       "  <tbody>\n",
       "    <tr>\n",
       "      <th>1</th>\n",
       "      <td>High-Ranking Countries</td>\n",
       "      <td>1971-2025</td>\n",
       "      <td>United Kingdom</td>\n",
       "      <td>0.425926</td>\n",
       "    </tr>\n",
       "    <tr>\n",
       "      <th>0</th>\n",
       "      <td>High-Ranking Countries</td>\n",
       "      <td>1971-2025</td>\n",
       "      <td>United States</td>\n",
       "      <td>0.351852</td>\n",
       "    </tr>\n",
       "    <tr>\n",
       "      <th>5</th>\n",
       "      <td>High-Ranking Countries</td>\n",
       "      <td>1971-2025</td>\n",
       "      <td>France</td>\n",
       "      <td>0.314815</td>\n",
       "    </tr>\n",
       "    <tr>\n",
       "      <th>6</th>\n",
       "      <td>High-Ranking Countries</td>\n",
       "      <td>1971-2025</td>\n",
       "      <td>Italy</td>\n",
       "      <td>0.277778</td>\n",
       "    </tr>\n",
       "    <tr>\n",
       "      <th>9</th>\n",
       "      <td>High-Ranking Countries</td>\n",
       "      <td>1971-2025</td>\n",
       "      <td>Germany</td>\n",
       "      <td>0.240741</td>\n",
       "    </tr>\n",
       "    <tr>\n",
       "      <th>12</th>\n",
       "      <td>High-Ranking Countries</td>\n",
       "      <td>1971-2025</td>\n",
       "      <td>China</td>\n",
       "      <td>0.240741</td>\n",
       "    </tr>\n",
       "    <tr>\n",
       "      <th>11</th>\n",
       "      <td>High-Ranking Countries</td>\n",
       "      <td>1971-2025</td>\n",
       "      <td>Netherlands</td>\n",
       "      <td>0.203704</td>\n",
       "    </tr>\n",
       "    <tr>\n",
       "      <th>18</th>\n",
       "      <td>High-Ranking Countries</td>\n",
       "      <td>1971-2025</td>\n",
       "      <td>Canada</td>\n",
       "      <td>0.203704</td>\n",
       "    </tr>\n",
       "    <tr>\n",
       "      <th>8</th>\n",
       "      <td>High-Ranking Countries</td>\n",
       "      <td>1971-2025</td>\n",
       "      <td>Australia</td>\n",
       "      <td>0.203704</td>\n",
       "    </tr>\n",
       "    <tr>\n",
       "      <th>2</th>\n",
       "      <td>High-Ranking Countries</td>\n",
       "      <td>1971-2025</td>\n",
       "      <td>Spain</td>\n",
       "      <td>0.166667</td>\n",
       "    </tr>\n",
       "  </tbody>\n",
       "</table>\n",
       "</div>"
      ],
      "text/plain": [
       "                   Journal     Period       Countries  Degree Centrality\n",
       "1   High-Ranking Countries  1971-2025  United Kingdom           0.425926\n",
       "0   High-Ranking Countries  1971-2025   United States           0.351852\n",
       "5   High-Ranking Countries  1971-2025          France           0.314815\n",
       "6   High-Ranking Countries  1971-2025           Italy           0.277778\n",
       "9   High-Ranking Countries  1971-2025         Germany           0.240741\n",
       "12  High-Ranking Countries  1971-2025           China           0.240741\n",
       "11  High-Ranking Countries  1971-2025     Netherlands           0.203704\n",
       "18  High-Ranking Countries  1971-2025          Canada           0.203704\n",
       "8   High-Ranking Countries  1971-2025       Australia           0.203704\n",
       "2   High-Ranking Countries  1971-2025           Spain           0.166667"
      ]
     },
     "execution_count": 15,
     "metadata": {},
     "output_type": "execute_result"
    }
   ],
   "source": [
    "tools.get_undirected_graph_centrality_(df=df, category='country', centrality='degree', top_num=10)"
   ]
  },
  {
   "cell_type": "markdown",
   "id": "cb2b702b",
   "metadata": {},
   "source": [
    "Top 10 countries with high betweenness centrality for the entire period."
   ]
  },
  {
   "cell_type": "code",
   "execution_count": 16,
   "id": "050c277d",
   "metadata": {},
   "outputs": [
    {
     "name": "stdout",
     "output_type": "stream",
     "text": [
      "high-ranking_country_1971_2025_co_country_edge_list.csv is already created.\n"
     ]
    },
    {
     "data": {
      "application/vnd.microsoft.datawrangler.viewer.v0+json": {
       "columns": [
        {
         "name": "index",
         "rawType": "int64",
         "type": "integer"
        },
        {
         "name": "Journal",
         "rawType": "object",
         "type": "string"
        },
        {
         "name": "Period",
         "rawType": "object",
         "type": "string"
        },
        {
         "name": "Countries",
         "rawType": "object",
         "type": "string"
        },
        {
         "name": "Betweenness Centrality",
         "rawType": "float64",
         "type": "float"
        }
       ],
       "ref": "3abe3524-beb1-46e1-845c-0043e25c83f8",
       "rows": [
        [
         "1",
         "High-Ranking Countries",
         "1971-2025",
         "United Kingdom",
         "0.3076182921046653"
        ],
        [
         "0",
         "High-Ranking Countries",
         "1971-2025",
         "United States",
         "0.19354183358376237"
        ],
        [
         "5",
         "High-Ranking Countries",
         "1971-2025",
         "France",
         "0.16657536888144853"
        ],
        [
         "18",
         "High-Ranking Countries",
         "1971-2025",
         "Canada",
         "0.13064799165428093"
        ],
        [
         "12",
         "High-Ranking Countries",
         "1971-2025",
         "China",
         "0.11937881979810708"
        ],
        [
         "6",
         "High-Ranking Countries",
         "1971-2025",
         "Italy",
         "0.11521247406991637"
        ],
        [
         "26",
         "High-Ranking Countries",
         "1971-2025",
         "Norway",
         "0.11066631559294031"
        ],
        [
         "9",
         "High-Ranking Countries",
         "1971-2025",
         "Germany",
         "0.07410958867981926"
        ],
        [
         "8",
         "High-Ranking Countries",
         "1971-2025",
         "Australia",
         "0.05866421023653728"
        ],
        [
         "2",
         "High-Ranking Countries",
         "1971-2025",
         "Spain",
         "0.05768812094807902"
        ]
       ],
       "shape": {
        "columns": 4,
        "rows": 10
       }
      },
      "text/html": [
       "<div>\n",
       "<style scoped>\n",
       "    .dataframe tbody tr th:only-of-type {\n",
       "        vertical-align: middle;\n",
       "    }\n",
       "\n",
       "    .dataframe tbody tr th {\n",
       "        vertical-align: top;\n",
       "    }\n",
       "\n",
       "    .dataframe thead th {\n",
       "        text-align: right;\n",
       "    }\n",
       "</style>\n",
       "<table border=\"1\" class=\"dataframe\">\n",
       "  <thead>\n",
       "    <tr style=\"text-align: right;\">\n",
       "      <th></th>\n",
       "      <th>Journal</th>\n",
       "      <th>Period</th>\n",
       "      <th>Countries</th>\n",
       "      <th>Betweenness Centrality</th>\n",
       "    </tr>\n",
       "  </thead>\n",
       "  <tbody>\n",
       "    <tr>\n",
       "      <th>1</th>\n",
       "      <td>High-Ranking Countries</td>\n",
       "      <td>1971-2025</td>\n",
       "      <td>United Kingdom</td>\n",
       "      <td>0.307618</td>\n",
       "    </tr>\n",
       "    <tr>\n",
       "      <th>0</th>\n",
       "      <td>High-Ranking Countries</td>\n",
       "      <td>1971-2025</td>\n",
       "      <td>United States</td>\n",
       "      <td>0.193542</td>\n",
       "    </tr>\n",
       "    <tr>\n",
       "      <th>5</th>\n",
       "      <td>High-Ranking Countries</td>\n",
       "      <td>1971-2025</td>\n",
       "      <td>France</td>\n",
       "      <td>0.166575</td>\n",
       "    </tr>\n",
       "    <tr>\n",
       "      <th>18</th>\n",
       "      <td>High-Ranking Countries</td>\n",
       "      <td>1971-2025</td>\n",
       "      <td>Canada</td>\n",
       "      <td>0.130648</td>\n",
       "    </tr>\n",
       "    <tr>\n",
       "      <th>12</th>\n",
       "      <td>High-Ranking Countries</td>\n",
       "      <td>1971-2025</td>\n",
       "      <td>China</td>\n",
       "      <td>0.119379</td>\n",
       "    </tr>\n",
       "    <tr>\n",
       "      <th>6</th>\n",
       "      <td>High-Ranking Countries</td>\n",
       "      <td>1971-2025</td>\n",
       "      <td>Italy</td>\n",
       "      <td>0.115212</td>\n",
       "    </tr>\n",
       "    <tr>\n",
       "      <th>26</th>\n",
       "      <td>High-Ranking Countries</td>\n",
       "      <td>1971-2025</td>\n",
       "      <td>Norway</td>\n",
       "      <td>0.110666</td>\n",
       "    </tr>\n",
       "    <tr>\n",
       "      <th>9</th>\n",
       "      <td>High-Ranking Countries</td>\n",
       "      <td>1971-2025</td>\n",
       "      <td>Germany</td>\n",
       "      <td>0.074110</td>\n",
       "    </tr>\n",
       "    <tr>\n",
       "      <th>8</th>\n",
       "      <td>High-Ranking Countries</td>\n",
       "      <td>1971-2025</td>\n",
       "      <td>Australia</td>\n",
       "      <td>0.058664</td>\n",
       "    </tr>\n",
       "    <tr>\n",
       "      <th>2</th>\n",
       "      <td>High-Ranking Countries</td>\n",
       "      <td>1971-2025</td>\n",
       "      <td>Spain</td>\n",
       "      <td>0.057688</td>\n",
       "    </tr>\n",
       "  </tbody>\n",
       "</table>\n",
       "</div>"
      ],
      "text/plain": [
       "                   Journal     Period       Countries  Betweenness Centrality\n",
       "1   High-Ranking Countries  1971-2025  United Kingdom                0.307618\n",
       "0   High-Ranking Countries  1971-2025   United States                0.193542\n",
       "5   High-Ranking Countries  1971-2025          France                0.166575\n",
       "18  High-Ranking Countries  1971-2025          Canada                0.130648\n",
       "12  High-Ranking Countries  1971-2025           China                0.119379\n",
       "6   High-Ranking Countries  1971-2025           Italy                0.115212\n",
       "26  High-Ranking Countries  1971-2025          Norway                0.110666\n",
       "9   High-Ranking Countries  1971-2025         Germany                0.074110\n",
       "8   High-Ranking Countries  1971-2025       Australia                0.058664\n",
       "2   High-Ranking Countries  1971-2025           Spain                0.057688"
      ]
     },
     "execution_count": 16,
     "metadata": {},
     "output_type": "execute_result"
    }
   ],
   "source": [
    "tools.get_undirected_graph_centrality_(df=df, category='country', centrality='betweenness', top_num=10)"
   ]
  },
  {
   "cell_type": "markdown",
   "id": "88192ba5",
   "metadata": {},
   "source": [
    "Top 10 countries with high closeness centrality for the entire period."
   ]
  },
  {
   "cell_type": "code",
   "execution_count": 17,
   "id": "a5faa823",
   "metadata": {},
   "outputs": [
    {
     "name": "stdout",
     "output_type": "stream",
     "text": [
      "high-ranking_country_1971_2025_co_country_edge_list.csv is already created.\n"
     ]
    },
    {
     "data": {
      "application/vnd.microsoft.datawrangler.viewer.v0+json": {
       "columns": [
        {
         "name": "index",
         "rawType": "int64",
         "type": "integer"
        },
        {
         "name": "Journal",
         "rawType": "object",
         "type": "string"
        },
        {
         "name": "Period",
         "rawType": "object",
         "type": "string"
        },
        {
         "name": "Countries",
         "rawType": "object",
         "type": "string"
        },
        {
         "name": "Closeness Centrality",
         "rawType": "float64",
         "type": "float"
        }
       ],
       "ref": "85a9d54d-ad7b-44a7-9743-b88ef3b1ab46",
       "rows": [
        [
         "1",
         "High-Ranking Countries",
         "1971-2025",
         "United Kingdom",
         "0.6067415730337079"
        ],
        [
         "0",
         "High-Ranking Countries",
         "1971-2025",
         "United States",
         "0.5684210526315789"
        ],
        [
         "5",
         "High-Ranking Countries",
         "1971-2025",
         "France",
         "0.5454545454545454"
        ],
        [
         "6",
         "High-Ranking Countries",
         "1971-2025",
         "Italy",
         "0.54"
        ],
        [
         "9",
         "High-Ranking Countries",
         "1971-2025",
         "Germany",
         "0.54"
        ],
        [
         "8",
         "High-Ranking Countries",
         "1971-2025",
         "Australia",
         "0.5192307692307693"
        ],
        [
         "11",
         "High-Ranking Countries",
         "1971-2025",
         "Netherlands",
         "0.5192307692307693"
        ],
        [
         "12",
         "High-Ranking Countries",
         "1971-2025",
         "China",
         "0.5046728971962616"
        ],
        [
         "18",
         "High-Ranking Countries",
         "1971-2025",
         "Canada",
         "0.5"
        ],
        [
         "2",
         "High-Ranking Countries",
         "1971-2025",
         "Spain",
         "0.46956521739130436"
        ]
       ],
       "shape": {
        "columns": 4,
        "rows": 10
       }
      },
      "text/html": [
       "<div>\n",
       "<style scoped>\n",
       "    .dataframe tbody tr th:only-of-type {\n",
       "        vertical-align: middle;\n",
       "    }\n",
       "\n",
       "    .dataframe tbody tr th {\n",
       "        vertical-align: top;\n",
       "    }\n",
       "\n",
       "    .dataframe thead th {\n",
       "        text-align: right;\n",
       "    }\n",
       "</style>\n",
       "<table border=\"1\" class=\"dataframe\">\n",
       "  <thead>\n",
       "    <tr style=\"text-align: right;\">\n",
       "      <th></th>\n",
       "      <th>Journal</th>\n",
       "      <th>Period</th>\n",
       "      <th>Countries</th>\n",
       "      <th>Closeness Centrality</th>\n",
       "    </tr>\n",
       "  </thead>\n",
       "  <tbody>\n",
       "    <tr>\n",
       "      <th>1</th>\n",
       "      <td>High-Ranking Countries</td>\n",
       "      <td>1971-2025</td>\n",
       "      <td>United Kingdom</td>\n",
       "      <td>0.606742</td>\n",
       "    </tr>\n",
       "    <tr>\n",
       "      <th>0</th>\n",
       "      <td>High-Ranking Countries</td>\n",
       "      <td>1971-2025</td>\n",
       "      <td>United States</td>\n",
       "      <td>0.568421</td>\n",
       "    </tr>\n",
       "    <tr>\n",
       "      <th>5</th>\n",
       "      <td>High-Ranking Countries</td>\n",
       "      <td>1971-2025</td>\n",
       "      <td>France</td>\n",
       "      <td>0.545455</td>\n",
       "    </tr>\n",
       "    <tr>\n",
       "      <th>6</th>\n",
       "      <td>High-Ranking Countries</td>\n",
       "      <td>1971-2025</td>\n",
       "      <td>Italy</td>\n",
       "      <td>0.540000</td>\n",
       "    </tr>\n",
       "    <tr>\n",
       "      <th>9</th>\n",
       "      <td>High-Ranking Countries</td>\n",
       "      <td>1971-2025</td>\n",
       "      <td>Germany</td>\n",
       "      <td>0.540000</td>\n",
       "    </tr>\n",
       "    <tr>\n",
       "      <th>8</th>\n",
       "      <td>High-Ranking Countries</td>\n",
       "      <td>1971-2025</td>\n",
       "      <td>Australia</td>\n",
       "      <td>0.519231</td>\n",
       "    </tr>\n",
       "    <tr>\n",
       "      <th>11</th>\n",
       "      <td>High-Ranking Countries</td>\n",
       "      <td>1971-2025</td>\n",
       "      <td>Netherlands</td>\n",
       "      <td>0.519231</td>\n",
       "    </tr>\n",
       "    <tr>\n",
       "      <th>12</th>\n",
       "      <td>High-Ranking Countries</td>\n",
       "      <td>1971-2025</td>\n",
       "      <td>China</td>\n",
       "      <td>0.504673</td>\n",
       "    </tr>\n",
       "    <tr>\n",
       "      <th>18</th>\n",
       "      <td>High-Ranking Countries</td>\n",
       "      <td>1971-2025</td>\n",
       "      <td>Canada</td>\n",
       "      <td>0.500000</td>\n",
       "    </tr>\n",
       "    <tr>\n",
       "      <th>2</th>\n",
       "      <td>High-Ranking Countries</td>\n",
       "      <td>1971-2025</td>\n",
       "      <td>Spain</td>\n",
       "      <td>0.469565</td>\n",
       "    </tr>\n",
       "  </tbody>\n",
       "</table>\n",
       "</div>"
      ],
      "text/plain": [
       "                   Journal     Period       Countries  Closeness Centrality\n",
       "1   High-Ranking Countries  1971-2025  United Kingdom              0.606742\n",
       "0   High-Ranking Countries  1971-2025   United States              0.568421\n",
       "5   High-Ranking Countries  1971-2025          France              0.545455\n",
       "6   High-Ranking Countries  1971-2025           Italy              0.540000\n",
       "9   High-Ranking Countries  1971-2025         Germany              0.540000\n",
       "8   High-Ranking Countries  1971-2025       Australia              0.519231\n",
       "11  High-Ranking Countries  1971-2025     Netherlands              0.519231\n",
       "12  High-Ranking Countries  1971-2025           China              0.504673\n",
       "18  High-Ranking Countries  1971-2025          Canada              0.500000\n",
       "2   High-Ranking Countries  1971-2025           Spain              0.469565"
      ]
     },
     "execution_count": 17,
     "metadata": {},
     "output_type": "execute_result"
    }
   ],
   "source": [
    "tools.get_undirected_graph_centrality_(df=df, category='country', centrality='closeness', top_num=10)"
   ]
  },
  {
   "cell_type": "markdown",
   "id": "e5676444",
   "metadata": {},
   "source": [
    "Top 10 countries with high eigenvector centrality for the entire period."
   ]
  },
  {
   "cell_type": "code",
   "execution_count": 18,
   "id": "1407a647",
   "metadata": {},
   "outputs": [
    {
     "name": "stdout",
     "output_type": "stream",
     "text": [
      "high-ranking_country_1971_2025_co_country_edge_list.csv is already created.\n"
     ]
    },
    {
     "data": {
      "application/vnd.microsoft.datawrangler.viewer.v0+json": {
       "columns": [
        {
         "name": "index",
         "rawType": "int64",
         "type": "integer"
        },
        {
         "name": "Journal",
         "rawType": "object",
         "type": "string"
        },
        {
         "name": "Period",
         "rawType": "object",
         "type": "string"
        },
        {
         "name": "Countries",
         "rawType": "object",
         "type": "string"
        },
        {
         "name": "Eigenvector Centrality",
         "rawType": "float64",
         "type": "float"
        }
       ],
       "ref": "b2ca398a-61b1-4262-b696-fc9102e6316d",
       "rows": [
        [
         "1",
         "High-Ranking Countries",
         "1971-2025",
         "United Kingdom",
         "0.35299933895164365"
        ],
        [
         "0",
         "High-Ranking Countries",
         "1971-2025",
         "United States",
         "0.3464944478077113"
        ],
        [
         "5",
         "High-Ranking Countries",
         "1971-2025",
         "France",
         "0.3113869299261973"
        ],
        [
         "6",
         "High-Ranking Countries",
         "1971-2025",
         "Italy",
         "0.29493394673412054"
        ],
        [
         "9",
         "High-Ranking Countries",
         "1971-2025",
         "Germany",
         "0.2751833969416265"
        ],
        [
         "11",
         "High-Ranking Countries",
         "1971-2025",
         "Netherlands",
         "0.2732881781983109"
        ],
        [
         "8",
         "High-Ranking Countries",
         "1971-2025",
         "Australia",
         "0.24157199386069972"
        ],
        [
         "12",
         "High-Ranking Countries",
         "1971-2025",
         "China",
         "0.22421834884587902"
        ],
        [
         "10",
         "High-Ranking Countries",
         "1971-2025",
         "Belgium",
         "0.19133234144658895"
        ],
        [
         "18",
         "High-Ranking Countries",
         "1971-2025",
         "Canada",
         "0.18201680293716727"
        ]
       ],
       "shape": {
        "columns": 4,
        "rows": 10
       }
      },
      "text/html": [
       "<div>\n",
       "<style scoped>\n",
       "    .dataframe tbody tr th:only-of-type {\n",
       "        vertical-align: middle;\n",
       "    }\n",
       "\n",
       "    .dataframe tbody tr th {\n",
       "        vertical-align: top;\n",
       "    }\n",
       "\n",
       "    .dataframe thead th {\n",
       "        text-align: right;\n",
       "    }\n",
       "</style>\n",
       "<table border=\"1\" class=\"dataframe\">\n",
       "  <thead>\n",
       "    <tr style=\"text-align: right;\">\n",
       "      <th></th>\n",
       "      <th>Journal</th>\n",
       "      <th>Period</th>\n",
       "      <th>Countries</th>\n",
       "      <th>Eigenvector Centrality</th>\n",
       "    </tr>\n",
       "  </thead>\n",
       "  <tbody>\n",
       "    <tr>\n",
       "      <th>1</th>\n",
       "      <td>High-Ranking Countries</td>\n",
       "      <td>1971-2025</td>\n",
       "      <td>United Kingdom</td>\n",
       "      <td>0.352999</td>\n",
       "    </tr>\n",
       "    <tr>\n",
       "      <th>0</th>\n",
       "      <td>High-Ranking Countries</td>\n",
       "      <td>1971-2025</td>\n",
       "      <td>United States</td>\n",
       "      <td>0.346494</td>\n",
       "    </tr>\n",
       "    <tr>\n",
       "      <th>5</th>\n",
       "      <td>High-Ranking Countries</td>\n",
       "      <td>1971-2025</td>\n",
       "      <td>France</td>\n",
       "      <td>0.311387</td>\n",
       "    </tr>\n",
       "    <tr>\n",
       "      <th>6</th>\n",
       "      <td>High-Ranking Countries</td>\n",
       "      <td>1971-2025</td>\n",
       "      <td>Italy</td>\n",
       "      <td>0.294934</td>\n",
       "    </tr>\n",
       "    <tr>\n",
       "      <th>9</th>\n",
       "      <td>High-Ranking Countries</td>\n",
       "      <td>1971-2025</td>\n",
       "      <td>Germany</td>\n",
       "      <td>0.275183</td>\n",
       "    </tr>\n",
       "    <tr>\n",
       "      <th>11</th>\n",
       "      <td>High-Ranking Countries</td>\n",
       "      <td>1971-2025</td>\n",
       "      <td>Netherlands</td>\n",
       "      <td>0.273288</td>\n",
       "    </tr>\n",
       "    <tr>\n",
       "      <th>8</th>\n",
       "      <td>High-Ranking Countries</td>\n",
       "      <td>1971-2025</td>\n",
       "      <td>Australia</td>\n",
       "      <td>0.241572</td>\n",
       "    </tr>\n",
       "    <tr>\n",
       "      <th>12</th>\n",
       "      <td>High-Ranking Countries</td>\n",
       "      <td>1971-2025</td>\n",
       "      <td>China</td>\n",
       "      <td>0.224218</td>\n",
       "    </tr>\n",
       "    <tr>\n",
       "      <th>10</th>\n",
       "      <td>High-Ranking Countries</td>\n",
       "      <td>1971-2025</td>\n",
       "      <td>Belgium</td>\n",
       "      <td>0.191332</td>\n",
       "    </tr>\n",
       "    <tr>\n",
       "      <th>18</th>\n",
       "      <td>High-Ranking Countries</td>\n",
       "      <td>1971-2025</td>\n",
       "      <td>Canada</td>\n",
       "      <td>0.182017</td>\n",
       "    </tr>\n",
       "  </tbody>\n",
       "</table>\n",
       "</div>"
      ],
      "text/plain": [
       "                   Journal     Period       Countries  Eigenvector Centrality\n",
       "1   High-Ranking Countries  1971-2025  United Kingdom                0.352999\n",
       "0   High-Ranking Countries  1971-2025   United States                0.346494\n",
       "5   High-Ranking Countries  1971-2025          France                0.311387\n",
       "6   High-Ranking Countries  1971-2025           Italy                0.294934\n",
       "9   High-Ranking Countries  1971-2025         Germany                0.275183\n",
       "11  High-Ranking Countries  1971-2025     Netherlands                0.273288\n",
       "8   High-Ranking Countries  1971-2025       Australia                0.241572\n",
       "12  High-Ranking Countries  1971-2025           China                0.224218\n",
       "10  High-Ranking Countries  1971-2025         Belgium                0.191332\n",
       "18  High-Ranking Countries  1971-2025          Canada                0.182017"
      ]
     },
     "execution_count": 18,
     "metadata": {},
     "output_type": "execute_result"
    }
   ],
   "source": [
    "tools.get_undirected_graph_centrality_(df=df, category='country', centrality='eigenvector', top_num=10)"
   ]
  }
 ],
 "metadata": {
  "kernelspec": {
   "display_name": "bibliometric-analysis-1SpXn6OA-py3.12",
   "language": "python",
   "name": "python3"
  },
  "language_info": {
   "codemirror_mode": {
    "name": "ipython",
    "version": 3
   },
   "file_extension": ".py",
   "mimetype": "text/x-python",
   "name": "python",
   "nbconvert_exporter": "python",
   "pygments_lexer": "ipython3",
   "version": "3.12.4"
  }
 },
 "nbformat": 4,
 "nbformat_minor": 5
}
