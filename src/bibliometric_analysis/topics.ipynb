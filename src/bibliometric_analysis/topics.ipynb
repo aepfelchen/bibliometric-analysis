{
 "cells": [
  {
   "cell_type": "markdown",
   "id": "bb84a12f",
   "metadata": {},
   "source": [
    "### Topic Analysis\n",
    "- If full texts as PDF file is not available, abstracts are used.\n",
    "- All data about abstracts were exported from Scopus and are in CSV format."
   ]
  },
  {
   "cell_type": "code",
   "execution_count": null,
   "id": "dfb61c79",
   "metadata": {},
   "outputs": [],
   "source": [
    "import sys\n",
    "from os import getcwd\n",
    "from os.path import abspath, dirname, join\n",
    "sys.path.append(f'{getcwd()}/bibliometric')\n",
    "import warnings\n",
    "warnings.simplefilter('ignore', category=(UserWarning, FutureWarning, SyntaxWarning))\n",
    "\n",
    "import pandas as pd\n",
    "\n",
    "from bibliometric import tools, cleaner\n",
    "\n",
    "BASE_PATH = abspath(getcwd())\n",
    "PARENT_PATH = dirname(dirname(BASE_PATH))\n",
    "RESOURCE_PATH = join(PARENT_PATH, 'resources')\n",
    "target_file_path = join(RESOURCE_PATH, '20250711_scopus_work2.csv')"
   ]
  },
  {
   "cell_type": "markdown",
   "id": "e6780a92",
   "metadata": {},
   "source": [
    "#### Load the CSV file of the journal \"Environmental History\" and clean their abstracts and remove personal stopwords."
   ]
  },
  {
   "cell_type": "code",
   "execution_count": 2,
   "id": "3f59fd40",
   "metadata": {},
   "outputs": [
    {
     "name": "stdout",
     "output_type": "stream",
     "text": [
      "Texts are cleaned!\n"
     ]
    }
   ],
   "source": [
    "df = pd.read_csv(target_file_path, encoding='utf-8', sep=',')\n",
    "abstracts =  df['Abstract'][df['Abstract']!='[No abstract available]'].to_list()\n",
    "stopwords = []\n",
    "texts = cleaner.clean_texts(texts=abstracts, stopwords=stopwords)"
   ]
  },
  {
   "cell_type": "markdown",
   "id": "8b2b89fb",
   "metadata": {},
   "source": [
    "#### Calculate the topic model on the cleaned abstracts."
   ]
  },
  {
   "cell_type": "code",
   "execution_count": 3,
   "id": "21741809",
   "metadata": {},
   "outputs": [
    {
     "name": "stderr",
     "output_type": "stream",
     "text": [
      "2025-08-19 11:14:21,824 - BERTopic - Embedding - Transforming documents to embeddings.\n"
     ]
    },
    {
     "data": {
      "application/vnd.jupyter.widget-view+json": {
       "model_id": "54afb4d0aa9b47f8be6090491fe70378",
       "version_major": 2,
       "version_minor": 0
      },
      "text/plain": [
       "Batches:   0%|          | 0/30 [00:00<?, ?it/s]"
      ]
     },
     "metadata": {},
     "output_type": "display_data"
    },
    {
     "name": "stderr",
     "output_type": "stream",
     "text": [
      "2025-08-19 11:14:47,365 - BERTopic - Embedding - Completed ✓\n",
      "2025-08-19 11:14:47,367 - BERTopic - Dimensionality - Fitting the dimensionality reduction algorithm\n",
      "2025-08-19 11:14:56,569 - BERTopic - Dimensionality - Completed ✓\n",
      "2025-08-19 11:14:56,571 - BERTopic - Cluster - Start clustering the reduced embeddings\n",
      "2025-08-19 11:14:56,731 - BERTopic - Cluster - Completed ✓\n",
      "2025-08-19 11:14:56,733 - BERTopic - Representation - Extracting topics using c-TF-IDF for topic reduction.\n",
      "2025-08-19 11:14:57,321 - BERTopic - Representation - Completed ✓\n",
      "2025-08-19 11:14:57,324 - BERTopic - Topic reduction - Reducing number of topics\n",
      "2025-08-19 11:14:57,332 - BERTopic - Representation - Fine-tuning topics using representation models.\n",
      "2025-08-19 11:15:12,284 - BERTopic - Representation - Completed ✓\n",
      "2025-08-19 11:15:12,287 - BERTopic - Topic reduction - Reduced number of topics from 31 to 31\n",
      "2025-08-19 11:15:12,532 - BERTopic - WARNING: When you use `pickle` to save/load a BERTopic model,please make sure that the environments in which you saveand load the model are **exactly** the same. The version of BERTopic,its dependencies, and python need to remain the same.\n"
     ]
    }
   ],
   "source": [
    "topic_model = tools.generate_topic_model()\n",
    "my_model = tools.fit_topic_model(\n",
    "    topic_model=topic_model, texts=texts, file_name='20250711_scopus', use_reduce_outlier=False)"
   ]
  },
  {
   "cell_type": "markdown",
   "id": "c09e4003",
   "metadata": {},
   "source": [
    "Get information about each topic including its ID, frequency, name and representative words."
   ]
  },
  {
   "cell_type": "code",
   "execution_count": 4,
   "id": "64200431",
   "metadata": {},
   "outputs": [
    {
     "data": {
      "application/vnd.microsoft.datawrangler.viewer.v0+json": {
       "columns": [
        {
         "name": "index",
         "rawType": "int64",
         "type": "integer"
        },
        {
         "name": "Topic",
         "rawType": "int64",
         "type": "integer"
        },
        {
         "name": "Count",
         "rawType": "int64",
         "type": "integer"
        },
        {
         "name": "Name",
         "rawType": "object",
         "type": "string"
        },
        {
         "name": "Representation",
         "rawType": "object",
         "type": "unknown"
        },
        {
         "name": "Representative_Docs",
         "rawType": "object",
         "type": "unknown"
        }
       ],
       "ref": "d3714209-f34e-43eb-9688-04543ee67514",
       "rows": [
        [
         "0",
         "-1",
         "162",
         "-1_corpus_research_technology_language",
         "['corpus', 'research', 'technology', 'language', 'methodology', 'thesaurus', 'textual', 'study', 'cultural', 'text']",
         "['network analysis historical correspondence fruitful way address historical research question increasingly used historical study past decade many area quantitative humanity research reliability result often called question given approach require hard data input yet almost inevitably use datasets partial missing record discipline using network analysis conducted robustness experiment designed test impact data loss error result order test missing data might affect area research conducted number experiment designed simulate impact kind loss often seen historical correspondence data including random document loss missing year error disambiguation de duplication process result show network centrality measure maintain robustness large proportion data 60 removed measure showed linear change robustness others remained high fell sharply one transitivity local clustering coefficient significantly impacted throughout tested range data loss scenario random single letter folio book manuscript letter catalogue entire year range commonly used network metric addition tested robustness complex network analysis result literature combine several network metric highlight individual network found type individual would likely highlighted even 50 random letter loss alongside article web application built using shiny calculate robustness measure useruploaded network dataset conclude researcher working similar historical correspondence datasets might able consider network analysis result robust case rather work assumption missing data would lead different finding result 2021 department language literature culture mcgill university right reserved', 'traditional human computer interaction hci allowed researcher practitioner share rely five usability principle interactive system designed effective efficient engaging error tolerant easy learn recent trend hci however academic researcher well practitioner becoming increasingly interested user experience understanding designing relationship user artifact instance affective engaging fun playable sociable creative involving meaningful exciting ambiguous curious paper argued built shift perspective concurrent shift accountability drawing attention number ethical moral social cultural political issue traditionally de emphasized field research guided usability concern surprisingly shift accountability also received scarce attention hci able find answer question make good user experience field hci need develop philosophy technology one building block philosophy technology hci presented albert borgmann argues need cautious rethink relationship well often assumed correspondence consider useful think good technology junction technology may useful good technology useful purpose might also harmful less good broader context heart borgmann understanding technology borgmann notion device paradigm valuable contribution hci point increasingly experiencing world information technology technology tend designed provide commodity effortlessly grant wish without demanding anything return patience skill effort paper argues borgmann work relevant make valuable contribution hci least two way first different way seeing raise important social cultural ethical moral issue contemporary hci cannot escape second providing guidance specific value might incorporated design interactive system foster engagement reality springer verlag london limited 2009', 'network based language teaching nblt involves application global local communication network within foreign second language education warschauer kern 2000 telecollaboration type nblt distally located language learner use internet communication tool support dialogue debate collaborative research social interaction purpose language development cultural awareness kinginger et al 1999 date research nblt limited focusing primarily pedagogical implementation technology linguistic feature online communication particular researcher robustly explored social institutional dimension telecollaboration chapelle 2000 217 adequately investigated pervasive assumption telecollaborative interaction necessarily unproblematically afford language learning kramsch thorne appear drawing social realism layder 1993 sociological theory emphasizes inter relationship structure society institution agency situated activity psycho biography researching explaining social action present sociocultural account german american telecollaboration particular explore meaning macro feature language valuation hilgendorf 1996 membership electronic discourse community gee 1999 culturally determined classroom script hatch 1992 may differential functionality virtual group work partnership difference group functionality reflected micro interactional level term frequency length correspondence pattern discursive behavior question answer pair opportunity assisted l2 performance negotiation meaning ethnographic data interview electronic classroom discourse survey participant observation individual psycho biography interwoven macro level description statistic paint rich picture learner behavior intercultural telecollaboration project funded united state department education international research study program grant cfda 84 017a author research associate german component 2001 cambridge university press right reserved']"
        ],
        [
         "1",
         "0",
         "141",
         "0_word recognition_word frequency_lexical decision_lexical",
         "['word recognition', 'word frequency', 'lexical decision', 'lexical', 'phonological', 'spelling sound', 'consonant', 'verbal', 'semantic', 'vowel']",
         "['hebrew semitic language word formed non concatenated way root morpheme embedded word pattern morpheme consisting vowel vowel plus consonant previous research visual word recognition hebrew revealed robust morphological root priming effect word recognition facilitated prior sub perceptual presentation root morpheme along less stable fragile word pattern priming effect particularly nominal system finding support theory morphological principle govern lexical access root morpheme main organizational unit mental lexicon however less research done delineate algorithm underlying decomposition current study explores importance natural lexical orthographic context complex root pattern word structure root extraction using line measure based tracking eye movement sentence reading series experiment using fast priming paradigm demonstrated detaching root morpheme lexical orthographic structure hinders root priming effect presenting root non word pseudo word non existent combination real root real pattern make difference result suggest mapping orthographic root onto morphological mental representation depends orthographic context letter appear finding constrains role root visual word recognition highlighting crucial condition extracting natural setting reading 2020 elsevier inc', 'nonwords created transposing two adjacent letter transposed letter tl nonwords like jugde effective activating lexical representation base word fact pose problem computational model word recognition interactive activation model extension assume exact letter position rapidly coded word recognition process examine scope tl similarity effect asked whether tl similarity effect occur nonwords created exchanging two nonadjacent letter caniso casino three masked form priming experiment using lexical decision task two nonadjacent transposed letter consonant experiment caniso casino vowel experiment anamil animal consonant vowel experiment result showed nonadjacent tl prime produce priming effect comparison orthographic control caviro casino however transposed letter consonant final experiment examined latency nonwords created nonadjacent transposition consonant versus vowel lexical decision task type nonwords produced longer latency matched control consonant tl nonwords difficult vowel tl nonwords implication finding model position specific coding scheme well model proposing alternative coding scheme discussed 2004 elsevier inc right reserved', 'within trial priming paradigm widely used measure lexical retrieval familiarity based process speeded pronunciation perceptual identification lexical decision lexical retrieval episodic recognition task introduce novel within trial priming paradigm examine cued recall considered recollection based task experiment participant initially studied list paired associate badge gold recall test trial 500 m onset stimulus cue badge pattern masked prime briefly presented either 48 m 125 m task recall word gold paired cue badge across seven experiment prime identical gold semantically related silver orthographically related good unrelated chair recalled response item gold result consistently indicated masked identity prime benefited immediate recall 48 m 125 m duration benefit orthographically related prime condition suggesting participant using partial letter information additional cue memory retrieval semantically related prime produced benefit immediate recall 125 m prime duration delayed cued recall performance indicated facilitatory priming effect observed immediate recall eliminated addition result conditional analysis suggest benefit retrieval immediate recall condition reversed delayed recall condition consider multiple interpretation delayed recall result argue result part due priming influencing activation based mechanism immediate recall task decrease retrieval demand response item paired associate cue hence decrease long term benefit retrieval practice 2019 elsevier inc']"
        ],
        [
         "2",
         "1",
         "107",
         "1_description logic_logic program_argumentation framework_default logic",
         "['description logic', 'logic program', 'argumentation framework', 'default logic', 'semantic', 'semantics', 'formalism', 'intuitionistic logic', 'modal logic', 'expressive']",
         "['paper tackle fundamental question arising looking argumentation framework interacting component characterized input output behavior rather isolated monolithical entity modeling stance arises naturally application context like multi agent system importantly crucial impact several general application independent issue like argumentation dynamic argument summarization explanation incremental computation inter formalism translation pursuing research direction paper introduces general modeling approach provides comprehensive set theoretical result putting intuitive notion input output behavior argumentation framework solid formal ground achieved combining three main ingredient first several novel notion introduced representation level notably argumentation framework input argumentation multipole replacement multipoles within traditional argumentation framework second several relevant feature argumentation semantics identified formally characterized particular canonical local function provides input aware semantics characterization suite decomposability property introduced concerning correspondence semantics outcome global local level third ingredient glue former one consists investigation semantics dependent property newly introduced entity namely equivalence multipoles legitimacy safeness replacement transparency semantics respect replacement altogether provide basis draw limit sound interchangeability multipoles within traditional framework paper develops extensive analysis concept listed covering seven well known literature semantics taking account various less constrained way partitioning argumentation framework diverse example taken literature used illustrate application result obtained finally extensive discussion related literature provided 2014 elsevier right reserved', 'extend unified correspondence theory kripke frame impossible world associated regular modal logic logic modal connective required normal weaker property additivity multiplicativity required conceptually argued lacking necessitation make regular modal logic better suited normal modal logic formalization epistemic deontic setting technical viewpoint regularity prof natural adequate treatment algebraic canonicity jónsson style indeed additivity multiplicativity turn key extend jónsson original proof canonicity full sahlqvist class certain regular distributive modal logic naturally generalizing distributive modal logic interestingly additivity multiplicativity key jónsson style canonicity also original normal dml contribution include definition sahlqvist inequality regular modal logic distributive lattice propositional base proof canonicity following jónsson strategy adaptation algorithm alba setting regular modal logic two non classical distributive lattice intuitionistic base proof adapted alba guaranteed succeed syntactically defined class properly includes sahlqvist one finally application previous result obtain proof alternative kripke strong completeness lemmon epistemic logic e2 e5 respect elementary class kripke frame impossible world 2016 author published oxford university press right reserved', 'generalize language substructural logic interpreted ternary relational semantics introduce logic called update logic motivated intention capture within logical framework substructural logic various logic based formalism dealing common sense reasoning logical dynamic initiative based key observation update represented abstractly ternary relation substructural framework thus introduce three triple connective interconnected mean cyclic permutation usual fusion implication co implication connective form one triple define proper display calculus update logic generalizes display calculus modal logic resort structural connective truth constant show obtain display rule using gaggle theory prove soundness strong completeness display calculus via henkin style construction using correspondence result substructural logic also obtain sound complete display calculus wide variety classical substructural logic define dual substructural connective provide display calculus update logic extended dual connective finally focus specific case bi intuitionistic logic provide novel sound strongly complete display calculus companion article aucher 2016 logic comput provide sequent calculus update logic generalizes non associative lambek calculus sequent calculus dynamic epistemic logic extends sequent calculus update logic author 2016 published oxford university press right reserved']"
        ],
        [
         "3",
         "2",
         "62",
         "2_speech system_speech recognition_automatic speech_text speech",
         "['speech system', 'speech recognition', 'automatic speech', 'text speech', 'syllable data', 'speech synthesis', 'phonetic', 'speech signal', 'speech sound', 'estimated syllable']",
         "['ever increasing volume audio data available online world wide web mean automatic method indexing search becoming essential hidden markov model hmm keyword spotting lattice search technique two common approach used system keyword spotting model template defined search term prior accessing speech used find match lattice search referred spoken term detection us pre indexing speech data term word sub word unit quickly searched arbitrary term without referring original audio case search term modelled term sub word unit typically phoneme vocabulary word word appear pronunciation dictionary letter sound conversion system accepted work well however vocabulary oov search term letter sound conversion must used generate pronunciation search term usually hard decision probabilistic possibility backtracking error introduced step difficult recover therefore propose direct use grapheme letter based sub word unit acoustic modelling expected work particularly well language spanish despite letter sound mapping regular correspondence one one benefit avoiding hard decision early stage processing article compare three approach spanish keyword spotting spoken term detection within compare acoustic modelling based phone grapheme unit experiment performed using spanish geographical domain albayzin corpus result achieved two approach proposed spoken term detection show u trigrapheme unit acoustic modelling match exceed performance phone based acoustic model method proposed keyword spotting result achieved acoustic model similar 2008 elsevier right reserved', 'arabic language one six united nation official language arabic language processing particular speech synthesis challenging task due inherent complexity language text character letter may seven different sound paper provide subjective objective evaluation six different speech synthesizer application available internet arabic language namely acapela ispeech arabi sakhr google nuance case subjective evaluation author performed four intelligibility test diagnostic rhyme modified rhyme phonetically confusable sentence fourth test proposed author automatic diacritization intelligibility adi used test intelligibility speech engine predicting diacritization mark according word context statement another two test performed evaluate feature speech engine first arabic text sound atas test used evaluate different feature speech engine read arabic text contains sound different arabic letter second best worst pleasant voice test proposed author determine best worst speech engine term voice pleasantness type evaluation conducted objective evaluation evaluate output six system objectively compare result subjective evaluation performed comparison achieved computing objective metric signal generated sound system reference one text spoken human two type measurement used objective metric signal noise variation segmented snr linear predictive lp based measure originality evaluation based using arabic text diacritized non diacritized containing sound arabic letter another novelty introduced two test adi atas test arabic speech synthesizer evaluation result subject user provided measure clearness naturalness speed sound quality pronunciation clearness stress intonation pronunciation error intelligibility pleasantness addition result expert presented measure articulation sound number pronounced word speed reading obtained result reveal need speech synthesizer arabic language considers diacritization enhance performance system point also importance accurate automatic diacritization system generates diacritized text synthesized result show significance human similar voice speech synthesizer proposed set recommendation improving arabic speech synthesizer 2016 springer science business medium new york', 'letter sound rule also known grapheme phoneme rule important computational tool used variety purpose including word name lookup database search speech synthesis rule especially useful integrated database search name address since complement orthographic search algorithm make use permutation deletion insertion allowing comparison phonetic equivalent database phonetics help retrieve word proper name without user needing know correct spelling phonetic index built vocabulary application could entire dictionary list proper name searched word converted phonetics retrieved information word phonetic index phonetic lookup used retrieve misspelled word dictionary database text editor suggest correction rule also necessary formalize grapheme phoneme correspondence speech synthesis architecture text speech system rule typically used create phoneme computer text phonemic symbol turn used feed lower level phonetic module timing intonation vowel formant trajectory etc turn feed vocal tract model finally output waveform via digital analogue converter synthesized speech rule necessary integral part text speech system since database lookup dictionary search sufficient handle derived form new word nonce form proper noun low frequency technical jargon like form typically included database use dictionary important denser faster memory available smaller system letter sound still play crucial central role speech synthesis technology grapheme phoneme technology also useful speech recognition way generating pronunciation new word may available grapheme form naive user add new word easily case system must generate multiple variation word different problem language use non alphabetic writing system syllabary japanese logographic system chinese defrancis 1984 alphabetic system structured set correspondence range trivial language like spanish swahili extremely complex language english french paper outline previous attempt construct rule set describe new successful approach construction letter sound rule english french']"
        ],
        [
         "4",
         "3",
         "44",
         "3_linguistic_discourse analysis_communicative_discourse",
         "['linguistic', 'discourse analysis', 'communicative', 'discourse', 'corpus', 'speech act', 'politeness strategy', 'language', 'pragmatic', 'english']",
         "['study situated field pragmatic fiction audio visual translation study explores rendition relational work im politeness english fan subtitle korean drama provided platform www viki com dwyer 2012 2017 locher messerli 2020 within story line indexical potential language used among others character positioning character development relationship development indirectly reflection cultural norm expectation planchenault 2017 fictional data thus ideal source studying linguistic ideology relational work case korean challenging subtitlers since dynamically index relationship complex system grammaticalized politeness form set honorific morpheme vocabulary see rhee 2019 korean nuance often cannot translated straightforward correspondence index politeness target language nevertheless english subtitle give access abundance foregrounded relational work moment paper work 215 scene drama explores way complex korean politeness system fictional play system made accessible subtitle non korean audience four theme emerged character address term negotiation character meta comment relational work character meta discussion role understanding subtitler meta comment language culture result demonstrate two main issue relational work moment intricately connected character identity construction fictional artefact subtitlers take active role translating cultural assumption relational work lean towards foreignization rather domestication 2020 author', 'paper considers additional us call endangered language el context briefly review el report call el general review extra us call el include changing negative attitude towards language arousing interest language contributing language maintenance documentation order demonstrate benefit call el three example presented el discussed paper could considered different scale fishman 1991 scale el first call application discussed program irish primary school child irish celtic language regularly used 10 000 speaker ireland main aim program try increase child motivation study irish compulsory subject school ireland second application literacy program tojolab al mayan language spoken chiapas mexico tojolab al could considered relatively stable language 30 000 40 000 speaker ethnic population 80 000 people literate speaker idea project develop call courseware teach literacy beginning letter progressing word phrase third example call courseware nawat uto aztecan language el salvador remaining 150 speaker nawat mainly elderly illiterate courseware aimed document develop courseware language remaining speaker still alive paper concludes lesson learnt el general three specific example surmise despite difficulty involved call el context pragmatic approach adopted call material positive social benefit probably outweigh contribution language learning short term effort involved call el definitely worthwhile 2004 cambridge university press right reserved', 'nowadays widely accepted different culture structure discourse different way moreover research shown also hold discourse genre traditionally considered highly standardized ritual formula written business communication case point taking inspiration research computer based training cbt system using hybrid technology case based reasoning neural network based constructivist paradigm designed help italian student write effective business letter english effective mean system aim help student define attain communicative goal consonant proven business discourse practice target culture present paper offer theoretical framework major addition system current implementation point departure pedagogical principle according making student aware another culture rhetorical preference best achieved making rhetorical tradition visible contrastively metacognitive awareness developed way help student realize discourse organization basically matter making choice inevitably intrinsically culture bound foster awareness cbt system enhanced module consistent underlying constructivist paradigm help user observe notice compare contrast difference similarity discourse pattern characterizing italian english business letter implement module initial corpus authentic italian english money chasing letter analyzed contrastively paper report finding analysis theoretical framework macro textual level analysis focus rhetorical structure mainly drawing notion move micro textual level analysis concentrate mood reference system modality use metadiscourse macro micro level analysis considered necessary bring divergence business letter discourse two culture 2002 elsevier science right reserved']"
        ],
        [
         "5",
         "4",
         "40",
         "4_design medium_techno aesthetic_artistic practice_design",
         "['design medium', 'techno aesthetic', 'artistic practice', 'design', 'electroacoustic music', 'audiovisual', 'aesthetic', 'music', 'appreciation electroacoustic', 'concept']",
         "['article discusses three composition autonomous laptop performing improvising musician laptop programmed software environment make narrow band decision regarding performative soundscapes also made decision visual material presented onscreen score human improviser consider unfolding aural visual stream functional creative highlighted indeterminate composition whilst carefully embedding aesthetic composer within core programming laptop considered collaborating performer collaborating composer opening section highlight connecting principle within collection work discussing isolation placed within context late twentieth century early twenty first century composition whilst offering framework reading based deleuze guattari rhizome philosophy three last letter used case study concept wholeness within computer generated soundscapes algorithmic programming section draw together several theory surrounding mental seeing evoked sound dimensionality playground inventive hci music improvisation value principle human computer interact developed using creative play theory followed personal response musician finally evaluation offered effect audience perceptual mode experiencing live fluid composition nature article concluded poetics experience composer perspective 2014 taylor francis', 'architect depend drawing form design medium fundamental tool design medium architect discover consider design issue speculate resolution generate form evaluate proposed communicate conclusion absence rigorous reliable account design process medium analysed reconstruct long complex otherwise undocumented chronology idea method circumstance informed conception development project analysis interpretation design medium also window onto motif method technique mechanic otherwise obscure creative process given primary role medium process design design thinking form generation significant question method intention raised like many tool design medium impart content point view actively influence conceptual imagination formal vocabulary architect extent medium convention distort influence synthetic critical ability architect extent conceptual opportunity created conversely limitation imposed built form reflect opportunity limitation impact might knowledge teaching medium practice design criticism architecture consideration question paper document critically examines role design medium case study le corbusier schematic design carpenter center harvard 1963 within project design process pattern medium choice application illustrative le corbusier design method representative intention influential form building building design medium critically examined correspondence architectural principle value important architect medium convention procedure fundamental design process formal structure property completed building 1990', 'endangered sound project focus exploration sound marks1 trade marked sound initial stage project funded art victoria comprised legal search resulted listing sound mark registered australasia united state america list published internet2 call volunteer collect sample listed sound internationally volunteer sent specimen tube label cap asked collect sound placing specimen tube close source thereby capturing air sound travelled securing cap completing label documenting time place nature sound sound mark reg sound mark description time capture date capture location etc specimen tube collected displayed chemistry rack exhibition biennale electronic art perth 2004 illustrating frequency diversity environment private protected sound released exhibition project consisted web portal listing sound mark listed australasia usa negotiation underway expand include eu collection sound mark specimen tube cap label gathered internationally people volunteered collect sample sound mark environment number glass vacuum desiccator vessel containing small loudspeaker sound reproduction chip suspended vacuum reproducing sound mark vacuum notionally breaking law sound travel vacuum gallery visitor hears sound jurisdiction sound mark card index register lost deceased sound project question legitimacy privatising protecting sound released random public space multi million dollar penthouse city work night shift recourse loud harley davidson australian football league afl siren wake precious sleep sound privately protected making recording reproduction broadcast illegal legal mechanism protection repeat offender many u committed culturally conditioned moral obligation3 sound dispersion legal limit call police football siren already within legal standard still permeates private domain city dwelling noise abatement legislation applicable regular breach law take time sort apply singular occurrence although within legislated limit still disturb additionally law based amplitude really address issue propagation ownership sound addressed legislative mechanism sound emblem corporate identity able choose exposed way place junk mail sign letter box acknowledgement private domain sacrosanct area legislation fact heavily policed addressed discussion acoustic environment beyond amplitude limiptslrsmntations 2005 cambridge university press right reserved']"
        ],
        [
         "6",
         "5",
         "36",
         "5_sentiment analysis_opinion term_term opinion_opinion word",
         "['sentiment analysis', 'opinion term', 'term opinion', 'opinion word', 'classification based', 'corpus', 'domain extraction', 'classification', 'computational linguistics', 'recommender system']",
         "['past decade artificial intelligence ai technique successfully applied recommender system employed many commerce company amazon ebay netflix etc aim provide personalized recommendation product service among various ai based recommendation technique collaborative filtering proven one promising method however collaborative filtering based recommender system especially newly launched one trouble making accurate recommendation user caused data sparsity issue recommender system little existing rating information available address issue one effective practice applying transfer learning technique leveraging relatively rich collaborative data knowledge related system well running previous transfer learning model recommender system often assume sufficient set entity correspondence either user item across target auxiliary system source system given advance assumption hold many real world scenario entity correspondence across system usually unknown cost identifying expensive paper propose new transfer learning framework recommender system relaxes assumption facilitate flexible knowledge transfer across different system low cost using active learning principle construct entity correspondence across system specifically purpose maximizing knowledge transfer first iteratively select entity target system based criterion query correspondence source system plug actively constructed entity correspondence general transferred collaborative filtering model improve recommendation quality based framework propose three solution specifying three state art collaborative filtering method namely maximum margin matrix factorization regularized low rank matrix factorization probabilistic matrix factorization perform extensive experiment two real world datasets verify effectiveness proposed framework three specified solution cross system recommendation 2016 elsevier', 'fine grained opinion mining extracting aspect term opinion target opinion term opinion expression user generated text fundamental task order generate structured opinion summarization existing study shown syntactic relation aspect opinion word play important role aspect opinion term extraction however work either relied predefined rule separated relation mining feature learning moreover work focused single domain extraction failed adapt well domain interest unlabeled data available real world scenario annotated resource extremely scarce many domain motivating knowledge transfer strategy labeled source domain unlabeled target domain observe syntactic relation among target word extracted crucial single domain extraction also serve invariant pivot information bridge gap different domain article explore construction recursive neural network based dependency tree sentence associating syntactic structure feature learning furthermore construct transferable recursive neural network automatically learn domain invariant fine grained interaction among aspect word opinion word transferability built auxiliary task conditional domain adversarial network reduce domain distribution difference hidden space effectively word level syntactic relation specifically auxiliary task build structural correspondence across domain predicting dependency relation path dependency tree recursive neural network conditional domain adversarial network help learn domain invariant hidden representation word conditioned syntactic structure end integrate recursive neural network sequence labeling classifier top model contextual influence final prediction extensive experiment analysis conducted demonstrate effectiveness proposed model component three benchmark data set 2019 association computational linguistics', 'fine grained opinion mining extracting aspect term opinion target opinion term opinion expression user generated text fundamental task order generate structured opinion summarization existing study shown syntactic relation aspect opinion word play important role aspect opinion term extraction however work either relied predefined rule separated relation mining feature learning moreover work focused single domain extraction failed adapt well domain interest unlabeled data available real world scenario annotated resource extremely scarce many domain motivating knowledge transfer strategy labeled source domain unlabeled target domain observe syntactic relation among target word extracted crucial single domain extraction also serve invariant pivot information bridge gap different domain article explore construction recursive neural network based dependency tree sentence associating syntactic structure feature learning furthermore construct transferable recursive neural network automatically learn domain invariant fine grained interaction among aspect word opinion word transferability built auxiliary task conditional domain adversarial network reduce domain distribution difference hidden space effectively word level syntactic relation specifically auxiliary task build structural correspondence across domain predicting dependency relation path dependency tree recursive neural network conditional domain adversarial network help learn domaininvariant hidden representation word conditioned syntactic structure end integrate recursive neural network sequence labeling classifier top model contextual influence final prediction extensive experiment analysis conducted demonstrate effectiveness proposed model component three benchmark data set 2019 association computational linguistics']"
        ],
        [
         "7",
         "6",
         "36",
         "6_authorship_analysis text_authorship attribution_writer",
         "['authorship', 'analysis text', 'authorship attribution', 'writer', 'text representation', 'published oxford', 'author', 'published letter', 'writing', 'stylistic']",
         "['kepler book founded 1955 menlo park ca usa many year independent bookstore serving stanford university community founder roy kepler leftist pacifist view refused military service world war ii later lobbied u congress taxation military budget general trade bookstore nexus left wing counter culture voice though sold book part political spectrum ownership bookstore passed late 1980s roy kepler son clark successful year followed including selection bookseller year publisher weekly 1990 rise bookstore chain especially border barnes noble even advent internet shopping emergence amazon com america biggest bookseller kepler like many independent suffered unsustainable loss decision close store 2005 provoked uprising community people complained losing beloved store ironically stopped shopping year reopening store required refinancing business time community ownership new business model brought board silicon valley high tech entrepreneur never run bookstore marketing management experience non profit corporation peninsula art letter formed run literary event series reconfigured bookstore remained profit corporation clark kepler eventually receding via retirement background success new business configuration raise question whether business model replicable similarly vulnerable independent bookstore america whether coincidental presence high income highly educated people among kepler neighbourhood clientele put special position hard imitate elsewhere 2016 copyright 2016 koninklijke brill nv leiden netherlands', 'based text excerpt authorship linking task determine way link pair document written person together problem closely related authorship attribution question solution used author clustering task however training information provided solution must unsupervised achieve various text representation strategy applied character punctuation symbol letter gram well word lemma part speech po tag sequence estimate stylistic distance similarity two text excerpt different measure suggested based norm manhattan tanimoto norm matusita inner product cosine entropy paradigm jeffrey divergence possible implementation clear text representation distance function produce best performance study provides answer question three corpus extracted french english literature evaluated using standard methodology moreover suggest additional performance measure called high precision hprec capable judging quality ranked list link provide correct answer systematic difference found token lemma based text representation simple po tag provide effective solution short sequence form good text representation letter gram give high hprec rate distance measure study found tanimoto matusita clark distance measure perform better often used cosine function finally applying pruning procedure culling term appearing twice limiting vocabulary 500 frequent word reduces representation complexity might even improve effectiveness attribution scheme author 2018 published oxford university press behalf eadh right reserved', 'study investigates writership series 16th century annotation found least six book library audley end house essex uk possibly historic significance account alleged connection plot theme several shakespeare play especially julius caesar 1599 antony cleopatra 1601 audley end storied mansion rebuilt thomas howard 1st earl suffolk 1610 express purpose entertaining king james annual progress english great house today operated english heritage site preserve impressive library least 128 book predating 1604 2016 john casson william rubinstein proposed annotator number volume sir henry neville 1564 1616 early owner billingbear estate berkshire oldest book audley end evidently transferred circa 1920 1924 neville fact author annotation would belief hold scrutiny principle forensic document examination applied another contemporaneous writer whose control sample better fit make determination eight 21 distinguishing element handwriting identified huber headrick classic text handwriting identification fact fundamental 1999 applied eight numbered harrelson huber 2018 include class allograph allograph combination design construction allograph diacritic numeral textual symbol connection termination consistency natural variation embellishment additional standard defined whole word letter sequence comparison supply insight least two discriminating element connection spacing well affording larger field reference discriminating element single character bold face word glossary applying standard writing sir henry neville finding neville writing contains many unexplained difference audley end unknown hand article considers test alternative hypothesis edward de vere 17th earl oxford 1550 1604 writer question document annotation thorough investigation applying standard used test hypothesis neville writership evidence instead support conclusion de vere plausible writer audley end annotation 2023']"
        ],
        [
         "8",
         "7",
         "26",
         "7_preference ordering_preference function_preference_rationality preference",
         "['preference ordering', 'preference function', 'preference', 'rationality preference', 'social preference', 'choice correspondence', 'social choice', 'choice function', 'utility function', 'decision maker']",
         "['existing literature social preference either test whether certain characteristic social context like intention others influence individual decision try estimate parameter social preference function describing behavior level entire population present paper concerned measuring parameter social preference function individual level draw upon concept developed eliciting type utility function particular literature decision making incomplete information method derives parameter social preference function indifference statement distribution payoff group apply method controlled social preference experiment establish external validity estimated parameter result show expected relationship external factor like educational background subject also strong correspondence parameter estimate factor according subject description influenced behavior also find concept discussed literature social preference particular envy toward player receiving larger payoff diverse complex effect individual level 2012 springer science business medium new york', 'economics base choice theory mental experiment introduces choice correspondence associate every set possible action subset preferred action condition satisfied choice correspondence implies binary preference ordering action ordinal utility function approach applies decision certainty decision uncertainty preference ordering depends consequence action certainty one consequence every action uncertainty many consequence possible associated state world consequence represented action state world corresponding outcome current theory consider outcome theory include state dependent preference preference action considered might relevant rationality theory different question rationality decision maker moreover rationality theory may imply rationality preference ordering require rationality decision maker assumed behaves according calculation made theorist rationality preference ordering requires rationality preference outcome expectation event connection preference ordering action normative relevance rational preference removed introduction many alternative rational theory justify contrasting behavior identical situation 2021 author exclusive licence springer science business medium llc part springer nature', 'modest difference individual decisional skill may warrant substantial inequality power claim illustrated ben yashar nitzan economics letter 174 93 95 2019 applying symmetric uncertain dichotomous choice setting focusing skill dependent power decision maker optimal decision rule claim valid one focus relationship skill heterogeneity distribution second type power viz group member marginal contribution mc shown ben yashar et al journal theoretical politics 33 225 235 2021 mc formally related power preliminary study relationship inequality distribution two measure also presented current paper considerably expands investigation applying simulation shed light reason increased inequality two type power since reward term status payment depends power mc inequality distribution reward depends inequality two type power comparison two type power inequality therefore interesting one wish shed light role two type power reward inequality particular result comparison may clarify effectiveness incentive invest skill dependent prevailing norm institutional characteristic determine relationship reward two type power reason current study focus comparison inequality power marginal contribution showing small large group average latter less unequal former unequal optimal weight decision maker much unequal skill robustness finding shown applying alternative symmetric probability distribution function another novel task undertaken current study sensitivity analysis inequality power measure respect change size group skill group member 2021 author exclusive licence springer science business medium llc part springer nature']"
        ],
        [
         "9",
         "8",
         "26",
         "8_translation system_machine translation_translation application_translation model",
         "['translation system', 'machine translation', 'translation application', 'translation model', 'translation quality', 'translation lexicon', 'based translation', 'translator', 'language model', 'parallel corpus']",
         "['important extension conventional text neural machine translation nmt multi modal neural machine translation mnmt aim translate input source sentence paired image target language although lot mnmt model proposed perform multi modal semantic fusion consider fine grained semantic correspondence semantic unit different modality word visual object exploited refine multi modal representation learning via fine grained semantic interaction address issue propose graph based multi modal fusion encoder nmt concretely first employ unified multi modal graph represent input sentence image multi modal semantic unit considered node graph connected two kind edge different semantic relationship stack multiple graph based multi modal fusion layer iteratively conduct intra inter modal interaction learn node representation finally via attention mechanism induce multi modal context top node representation decoder particularly introduce progressive contrastive learning strategy based multi modal graph refine training proposed model hard negative sample introduced gradually evaluate model conduct experiment commonly used datasets experimental result analysis show mnmt model obtains significant improvement competitive baseline achieving state art performance multi30k dataset 2023 elsevier', 'propose novel approach cross lingual language model translation lexicon adaptation statistical machine translation smt based bilingual latent semantic analysis bilingual lsa enables latent topic distribution efficiently transferred across language enforcing one one topic correspondence training using proposed bilingual lsa framework model adaptation performed first inferring topic posterior distribution source text applying inferred distribution gram language model target language translation lexicon via marginal adaptation background phrase table enhanced additional phrase score computed using adapted translation lexicon proposed framework also feature rapid bootstrapping lsa model new language based source lsa model another language approach evaluated chinese english mt06 test set using medium scale smt system gale smt system measured bleu nist score improvement score observed system adapted language model adapted translation lexicon applied individually adapted language model adapted translation lexicon applied simultaneously gain additive 95 confidence interval unadapted baseline system gain score statistically significant using medium scale smt system gain nist score statistically significant using gale smt system 2008 springer science business medium', 'viewing machine translation mt structured classification problem provided gateway host structured prediction technique enter field particular large margin method discriminative training feature weight structured perceptron mira started match exceed performance existing method mert one issue problem general difficulty obtaining fully structured label mt obtaining reference translation parallel sentence corpus arbitrary language pair another issue specific translation domain difficulty online training updating mt system since existing method often require bilingual knowledge correct translation output online problem important one especially usage mt mobile domain process translating user input system also receive feedback user quality translation produced propose solution two problem demonstrating principled way incorporate binary labeled feedback feedback whether translation hypothesis good understandable one form supervision easily integrated online monolingual manner mt framework experimental result chinese english arabic english corpus sparse dense feature set show marked improvement incorporating binary feedback unseen test data gain case exceeding bleu point experiment human evaluator providing feedback present reasonable correspondence larger scale synthetic experiment underline relative ease binary feedback translation hypothesis collected comparison parallel data 2014 springer science business medium dordrecht']"
        ],
        [
         "10",
         "9",
         "24",
         "9_investigation publisher_retracted article_digital scholarly_editorial handling",
         "['investigation publisher', 'retracted article', 'digital scholarly', 'editorial handling', 'archive', 'scholarly edition', 'information author', 'text retracted', 'issue investigation', 'research']",
         "['last two decade library archive natural history museum botanical garden u spent major effort digitize holding however transporting digitized resource individual repository wider community researcher challenging many primary resource handwritten limit use reuse cursive writing personal shorthand difficult decipher document mostly lack machine readable data article present three case study harvard university herbarium huh botany library harvard university ernst mayr library archive emla museum comparative zoology mcz utilize crowd sourcing detailed access discovery tool open access platform make handwritten material accessible researcher bridging content across collection held within outside harvard university case study show different approach yield opportunity mining data transcription handwritten document enhanced metadata allow searching previously unavailable word phrase taxonomic name content contributed biodiversity heritage library bhl tool service available bhl integral work end result show information held natural history library archive contributes expansion scientific cultural historical knowledge increasing access previously unavailable historical scientific information digitization metadata enhancement transcription 2023 copyright held owner author publication right licensed acm', 'harold pinter archive british library contains correspondence dating 1977 2008 including mail archive total correspondence strand archive contains 20 000 paper letter 3500 mail project used data analytics python network visualisation gephi interrogate way digital analogue correspondence function together within pinter literary archive attendant paper reflects upon analysis might mean archivist curator researcher working hybrid correspondence collection context digital humanity artificial intelligence based research methodology paper includes analysis email materially functionally constituent part way like unlike physical letter well discussion leverage highly structured nature mail data advantage using computational technique limitation approach socalled dark archive network visualisation used represent correspondence visually order shed light activity represents particularly literary collaboration administration paper concludes attempt draw conclusion analysis think implication repository researcher collecting using hybrid correspondence collection python code produced project collection agnostic available creative common licence meaning collecting repository holding email archive mbox format use extract gdpr compliant metadata collection visualise gephi author exclusive licence springer verlag london ltd part springer nature 2025', 'paper present enhanced accessibility utility historical linguistic data project bullinger digital project involved transformation 100 letter primarily available scanned pdfs dynamic fully digital format expanded digital collection includes 12 000 letter 100 edited 400 transcribed 500 represented detailed metadata result handwritten text recognition central discussion innovative workflow developed multilingual corpus includes strategy text normalisation machine translation handwritten text recognition particularly focusing challenge code switching within historical document resulting digital platform feature advanced search system offering user various filtering option correspondent name time period language location also incorporates fuzzy exact search capability ability focus search within specific text part like summary footnote beyond detailing technical process paper underscore project contribution historical research digital humanity bullinger digital platform serf model similar project corpus behind demonstrates vast potential data reuse historical linguistics project exemplifies digital humanity methodology revitalise historical text collection offering researcher access interaction historical data paper aim provide reader comprehensive understanding project scope broader implication field digital humanity highlighting transformative potential digital endeavour historical linguistic research 2024 author open access article distributed term creative common attribution international license cc permit unrestricted use distribution reproduction medium provided original author source credited see http creativecommons org license']"
        ],
        [
         "11",
         "10",
         "24",
         "10_based instruction_teacher instruction_teaching learning_instructional package",
         "['based instruction', 'teacher instruction', 'teaching learning', 'instructional package', 'classroom', 'teaching', 'writing task', 'peer teacher', 'instructional', 'assessment']",
         "['feedback researcher given little attention administration language focused instruction writing second language combined subsequent error correction writing affect grammatical accuracy learner future writing moreover mode instruction teacher instruction game based instruction also undervalued address gap research literature taiwanese university student participant 45 randomly equally divided two experimental one control group teacher instruction error correction digital game based instruction error correction error correction participant asked write three letter application three similar job advertisement pretest immediate posttest delayed posttest gain score result immediate posttest showed teacher instruction error correction group significantly outperformed error correction group whereas gain delayed posttest showed teacher instruction error correction digital game based instruction error correction group significantly outperformed error correction group result indicate pedagogical practice provide focused grammatical instruction direct focused feedback beneficial l2 writer providing error correction furthermore time grammar feedback provided game play afforded learner opportunity engage awareness raising language related episode game play combined written corrective feedback resulted stronger retention grammatical knowledge compared learner received teacher instruction combined written corrective feedback 2019 informa uk limited trading taylor francis group', 'current study aimed investigating effect three type prewriting planning condition namely teacher monitored collaborative planning tmcp student led collaborative planning slcp individual planning ip efl learner computer mediated l2 written production learning transfer pedagogic task new task similar complexity end 76 efl learner randomly assigned one three group tmcp group slcp group ip group two complex letter writing task used study collect required data complex task ct complex task ct perform ct first participant tmcp slcp group required prewriting collaborative planning via telegram instant messaging participant ip group required prewriting planning individually examine learning transfer one week performed ct participant three group asked perform ct planning time result revealed three type prewriting planning condition used present study promoted different dimension participant computer mediated l2 writing participant different group differently transferred linguistic ability new task factor teacher monitoring directing student performance seemed channel participant attention toward specific dimension l2 production hence influenced quality l2 writing learning transfer implication discussed avenue future research outlined 2017 informa uk limited trading taylor francis group', 'today web technology including blog presenting teacher learner new horizon field language teaching learning blog online journal continuously updated user matheson 2004 weblogs epistemology news trend online journalism new medium society 443 468 blog easy construct without need understanding html appearance content enhanced use picture audio video file due asynchronous nature blog allow people write publish thought view pace without space time constraint language learning use blog considered similar journal writing mcleod 2001 cited lowe 2004 moving public weblogs writing classroom blogosphere retrieved april 16 2009 fromhttp blog lib umn edu blogosphere moving_to_public_pf html hence student use basis worldviews shape interpret meaning writing using task based activity encourage student interaction present study explores blog computer mediated tool engages group english foreign language learner language school spain reflective collaborative learning eleven student preparing certificate advanced english cae cambridge examination involved study lasted five month participant created personal blog could read view share idea comment peer posting activity focused specific writing task letter writing report proposal article etc comprised aforementioned examination consequently project aimed enhance writing skill specific writing task perceive effect learner feedback foster collaborative skill drawing triangulated data collated blog entry class discussion based peer feedback questionnaire paper argues personal blog motivate student build writing skill self reflection peer feedback engagement negotiation meaning peer led better planning choice right register style required task prior writing submitting work collaborative skill also fostered student regular interaction blog meaningful learning take place pedagogical intervention could encourage student take peer comment account edit work view enhancing writing task producing mistake free text 2013 copyright taylor francis group llc']"
        ],
        [
         "12",
         "11",
         "21",
         "11_historical architectural_land use_architectural_landscape",
         "['historical architectural', 'land use', 'architectural', 'landscape', 'architecture', 'rural building', 'building', 'archaeological', 'methodology', 'historical archaeological']",
         "['past twenty year archaeological survey changed radically thanks progress field technology particular concerning 3d massive acquisition method variety data acquisition mode based active passive sensor system increasingly easier access use document cultural heritage scientific debate focus primarily two issue use free proprietary software control data quality term metric accuracy comparing 3d image based acquisition method consolidated method laser scansion topographic survey collecting interpreting filing large amount information help define system use understand archaeological heritage system based scientific process used achieve dual objective first document acquisition using heterogeneous set data rgb metadata information processing guarantee repeatability secondly ensure data quality acquisition processing data processing obtained using 3d massive acquisition method make possible build model characterized biunivocal correspondence real object studied geometric spatial point view study focus shift quantitative data acquired semi automatic manner qualitative data meticulously controlled regard uncertainty framework branch science representation ensure metric spatial formal control built model study 13th century gate city bologna far led development scientific process providing important data metric quality vi vi scale model 2017 consiglio nazionale delle ricerche right reserved', 'rural building shaped century landscape last decade however traditional balance vernacular architecture agricultural area often altered without correspondence production building identifying rural building distribution recognizing change land us understanding criterion process characterize strategic protect traditional cultural heritage support suitable landscape development main aim work support identification vernacular architecture mediterranean costal less productive context recognize land use change impact landscape structure support decision maker activity considering historical building heritage local community development issue study area sorrento peninsula southern italy local scale due absence regional archive rural building building identification last fifty year inside agricultural area comparison topographic aesthetic connectivity index developed regional scale land us change recognition impact assessment term landscape metric assessed considerably huge area 20 subjected land use change mainly due urban forested area increase agricultural land decrease fragmentation process result landscape structure complex disaggregated consisting smaller numerous isolated parcel furthermore despite reduction agricultural area number building doubled highlighting strong pressure territory subjected today due land consumption result stand need decision maker monitor context stem effect vernacular architecture preservation agricultural us improvement support new different socio economic activity opportunity present work proved useful meta analysis rural building distribution compared land use changed driving force allowing significant reduction analysis cost time approach method integration allows providing replicable model mediterranean european region combination traditional knowledge modern technology offer comprehensive approach support landscape management respect past future fostering resilience sustainable development rural area 2024 elsevier masson sa', 'end middle age iberian peninsula history driving force behind evolution architecture towards rational efficient solution among driving force behind change military order managed solve problem whose solution impossible find century vast plain peninsula plateau unconquerable christian among order santiago stood managed configure fairly homogeneous architectural model large territory order inspection record libros de visita included many text information allowed multiple analysis article study medieval architectural heritage order santiago uclés developed historical account architecture built medieval time due historical architectural breadth defining modest concrete context necessary conquest order santiago territory uclés nowadays area current spanish province cuenca madrid toledo comprised land town village uclés located addition nearby village place related history order uclés defining called territory uclés area framed within conquest iberian peninsula 12th 13th century architecture order included type construction regardless form function typology common characteristic node socio economic variable plus hierarchical organizing aspect political space converged study take account symbolic function construction acquired relation territory occupation first image architecture military building followed religious construction survived civil architecture town planning also studied initially understood defensive tool later became fundamental pillar territorial organization based research focused mainly improving historical architectural reality knowledge territory uclés history evolution analysed conquest consolidation architecture built supported previous study bibliography documentation found beginning advisable study content inspection record main source learning order architecture although first preserved description date back second half 15th century therefore architecture study territory uclés done context 12th 13th century looking back architecture described end 15th century onwards proposed methodology based historical archaeological vision architecture relying documentary information gathered written source also archaeological reality author encountered many limitation regard history archaeology architecture specific situation possible develop proposed method reason scarcity writing remains well text vestige lack coherence elaborate graphic hypothesis construction necessary filter text presented certain confusion description development contained scarce architectural detail building studied totally preserved even completely disappeared passing time alteration change use make difficult impossible find correspondence building exact current location addition another difficulty found making drawing way visitor described building author tried alleviate possible confirm determine certain aspect done studying inspection record different year study provided expected usefulness especially term facilitating graphic analysis even interest covered research inspection record turned source historical study providing information beyond imagined source hypothesizing construction drawing thanks descriptive richness analysis include various description also source enriching historical architectural lexicon integration digital technology architectural environment allows u one hand extend knowledge creating building registration list hand also possible carry broader analysis delf deeper floor plan volume thus completing renewed architectural catalogue favour interest studying legacy year ago destined lost upv seav 2015']"
        ],
        [
         "13",
         "12",
         "20",
         "12_word processor_writing system_text speech_text",
         "['word processor', 'writing system', 'text speech', 'text', 'translation dictionary', 'english asl', 'writing process', 'dictionary', 'language', 'software']",
         "['paper attempt define limitation present bilingual dictionary printed form suggests basic requirement computerized form foreign language dictionary describes hypermedia system developed open minerva janus project oporto glasgow university central dictionary module linked graphic speech contextual item form basis system used central look resource language learning module fulfil various funcations simple drill practice exercise gap filling close exercise vocabulary aid technical business commercial correspondence translator tutorial literary linguistic commentary link back central dictionary module process construction facility afforded hypercard discussed together possible enhancement system user however forgotten problem designing hypermedia system touched upon especially need proper orientation learner move two dimensional paper format three dimensional realm computer screen brings need careful consideration several cognitive issue work hardman others area hci covered finding compared intuitive experience gained project finally need hypermedia author adhere guide line proposed 1990 oxford university press', 'overall program dictionary computer window version offer many useful advantage mac version strength window version clear screen design flexibility language selection branching amount information reference table show valuable product general reference language learning unfortunately mac version lack many capability search major strength lie search engine quick easyto use copy paste also ability copy paste word phrase dictionary document help user save typing time bilingual menu educational purpose also like ability choose spanish english menu mac way program set teacher option giving student access menu one language depending pedagogical goal level student window version provide button user toggle language weakness reference table like concept reference table quite limited scope also macintosh version geared toward native speaker english hindrance bilingual native spanish speaking user text speech text speech feature supposed help learner pronunciation english text speech barely acceptable synthesized voice unclear artificial spanish text speech unacceptable frequent mispronunciation even simple word lack recognition accented letter speech lack capability window version 1999 equinox publishing ltd right reserved', 'scaled rating low high implementation possibility wordace sold translation dictionary conjugation engine help learn new language expand vocabulary understand foreign correspondence dispute claim product indeed help learn new language find conjugation engine verb game well designed pedagogically sound dictionary however cannot become learning tool unless form guidance offered ability build lexical chain limit quickly reached semantic complexity lexical item hand good teacher however possible exploit weakness instance product capacity produce synonym cluster could become starting point vocabulary development class student could asked research synonym appropriate context etc however one strong advantage dictionary hearing word pronounced native speaker definite plus synonym game amusing feature also dispute pedagogical fit reason outlined socio linguistic accuracy far could determine great care taken ensure quality product described reservation regarding selection headword generally speaking limitation type dictionary approach pedagogical feature translation dictionary unquestionably well designed technical point view evaluation show lexical content moderately adequate task serious reservation pedagogical fit language inert collection word learner must steered away reliance word word translation problem somewhat overcome program used tool generate word studied wider controlled pedagogical context use computer capability well designed product take full advantage multimedia environment ease use product extremely easy use either stand alone program program run background window cleverly designed evaluation fairly good product company take mission produce tool language study seriously product rate used alone used conjunction translation program supervision teacher rate value money wordace competitive price make bargain 2000 equinox publishing ltd right reserved']"
        ],
        [
         "14",
         "13",
         "20",
         "13_human behavior_cognitive model_cognitive_behavioral",
         "['human behavior', 'cognitive model', 'cognitive', 'behavioral', 'perception', 'behavior', 'psychology', 'sensory', 'stimulus', 'consciousness']",
         "['efficient social interaction human developed mean predict understand others behavior often reference intention desire infer others intention however one must assume agent mind mental state two experiment study examined human perceptual system sensitive detecting human agent based subtle behavioral cue participant observed robot performed pointing gesture interchangeably left right one two arm onset time pointing movement could pre programmed human controlled experiment modeled human behavior experiment task determine observed behavior controlled human computer program without information parameter behavior judgment based result showed participant able detect human behavior chance experiment moreover participant asked discriminate letter presented left right side screen letter could either validly cued robot location robot pointed coincided location letter invalidly cued robot pointed opposite location letter presented cueing task target discrimination better valid versus invalid condition experiment human face presented centrally screen throughout experiment effect significant experiment participant exposed robotic face sum present result show human perceptual system sensitive subtlety human behavior attending others attend however modulated adopting intentional stance also way participant interpret observed stimulus 2015 springer science business medium dordrecht', 'touching smartphone screen one frequent activity everyday life touch gesture recently investigated user centered approach collect gesture proposed end user despite advantage cognitive behavioral performance gestural study neglect effect visual property interface object digital affordances study aim explore effect digital affordances screen two sequential study preliminary study online questionnaire interview conducted investigate user defined gesture twenty participant responded survey select appropriate gesture combination four function five gesture eight stimulus manipulated several visual property collected gesture function statistically compared term visual property main study behavioral experiment conducted examine object based correspondence effect twenty six participant executed real touch gesture eight stimulus gestural response time collected compare corresponding non corresponding condition gesture stimulus result preliminary main study indicated significant effect visual property gesture execution concluded digital affordance exists touchscreen furthermore unique characteristic grounded hybrid materiality digital environment consisting hardware software new finding digital affordance summarized digital entity perceived freely manipulable regardless physical law visuo perceptible entity perceptually constrained visual obstacle gestural priority depends embodied direction inherent particular content study contributes theoretically better understanding digital affordance practically designing touch gesture based characteristic affordances screen 2022 elsevier ltd', 'suggested impetus generate model probably fundamental point connection mysticism psychology concern relation unseen realm seen mystical map parallel cognitive model relation unconscious conscious process map model constitutes explanation employing term current within respective canon case language mysticism examined illustrate premise cognitive model may benefit understanding kind experience gained explanatory concept advanced within mystical tradition language mysticism particular interest account central role thought played language relation self individual construction reality discussion focus tradition language mysticism within judaism emphasis placed deconstruction language primary element ii overarching significance divine name analysis detailed technique used suggests way multiple association given word concept consciously explored altered state appears mystic consciously engaging normally preconscious cognitive process whereby schematic association sensory image thought activated testimony writing implies mystic experienced distortion sense self may suggest normal state constructed relation preconscious system association moreover important feature hebrew language mysticism emphasis embodiment specific association deemed exist letter structure body implication first relationship language self second role embodiment relation self discussed importance continual emphasis name god throughout linguistic practice may provided mean effectively replacing cognitive indexing function hypothesized normally played transpersonal cognitive index especially relation memory']"
        ],
        [
         "15",
         "14",
         "17",
         "14_robotics_automated_completion system_control knowledge",
         "['robotics', 'automated', 'completion system', 'control knowledge', 'problem solver', 'cognitive science', 'automated driving', 'ai', 'driving system', 'correspondence object']",
         "['although neutrosophic soft set quite successful expressing neutral uncertain information mathematical approach insufficient dimension uncertain information increase therefore order present better approach uncertainty problem encountered neutrosophic soft set abu qamar entropy 20 172 2018 generalization neutrosophic soft set proposed processing two dimensional uncertain information moreover relation one method preferred researcher explain correspondence object uncertain environment purpose paper explain correspondence object better way neutrosophic soft set theory defined abu qamar hassan entropy 20 172 2018 modified taking inspiration definition neutrosophic soft set proposed deli broumi intell fuzzy syst 28 2233 2241 2015 way ensured two dimensional information used effectively uncertainty problem encountered many real life problem paper neutrosophic soft relation defined referring modified neutrosophic soft set theory analyzed detail later concept related neutrosophic soft relation composition inverse function equivalence class partition given concept especially exemplified selecting uncertainty problem encountered real life related property theorem presented finally uncertainty problem decision making algorithm proposed using correspondence object comparison given 2022 author exclusive licence springer nature', 'dynamic world modeling requires integration multiple sensor observation obtained multiple vehicle location different time crucial problem interpretation task presence uncertainty origin measurement data association correspondence uncertainty well value measurement noise uncertainty almost previous work robotics distinguished two different form uncertainty paper propose model uncertainty due noise error object position conventional covariance matrix represent data association uncertainty hypothesis tree constructed branch node representing different possible assignment measurement feature rigorous bayesian data association framework introduced allows probability hypothesis calculated probability used guide intelligent pruning strategy multiple hypothesis tree allows decision concerning assignment measurement postponed instead many different hypothesis considered expected observation predicted hypothesis compared actual measurement hypothesis prediction supported measurement increase probability compared hypothesis whose prediction unsupported looking ahead two three time step examining probability leaf tree accurate assignment decision made dynamic world modeling approach result multiple world model given time step one representing possible interpretation past current measurement associated probability addition geometric feature associated covariance model uncertainty due noise framework independent sensing modality applicable temporal data association problem therefore appropriate broad class vision acoustic range sensor currently used existing mobile robot preliminary result using ultrasonic range data demonstrate feasibility approach 1994', 'recent year robotic engineering enriched artificial intelligence ai technology preparing industry enter industry era powerful neoteric paradigm ai serve automotive industry one largest sector world inevitably change outdated manufacturing strategy industrial sector increasingly encountering mega data inevitably carry uncertainty available methodology capable deal efficiently theoretically resolve gap generalized intuitionistic fuzzy set ifs theory proposed efficient fast flexible method based membership non membership degree multi aspect system developed model complex real system inspired multi attribute system ifs approach novel mathematical concept namely intuitionistic fuzzy subring ifγ method developed establish ai platform robotic automotive manufacturing significant characteristic ifγ developed including overlapping element ifγ property ifγ also image inverse image element ifγ property ifγ ring homomorphism additionally connection upper lower bound level cut image inverse image property parametrically discussed effect surjective homomorphism upper lower level cut would equivalent upper lower level cut image inverse image ifγ environment developed notion ifγ obtained generalization ideal ring along resultant fundamental property ifγ overlapping intersection family ifγ proved ifγ also upper lower bound level cut element ifγ property ideal finally proposed ifγ method utilized automotive ai system aais mean mathematical algebraic notion ring ifs ring isomorphism upper lower bound level developed methodology validated using real dataset industrial robot supply chain element characterized term metric overall factory effectiveness systematic pattern ring structure ifγ model accomplished element intercomponent correspondence aais established ring isomorphism based qc quality criterion non qc index derivation upper lower bound level cut analysis parameter robot simplified identification effective compatible component aais generalized ifs based method complex system potential used different ai platform 2023 author exclusive licence springer nature']"
        ],
        [
         "16",
         "15",
         "17",
         "15_font classification_thai typeface_typeface_typeface type",
         "['font classification', 'thai typeface', 'typeface', 'typeface type', 'font search', 'conventional text', 'text font', 'ud typeface', 'hangeul typeface', 'letterforms']",
         "['background advancing font production environment catalyzed development diverse typeface convenient environment use however major problem current korean font classification system standard reflecting reality current system fail provide integrated organic classification standard due present excessively rigid outdated classification standard insufficient depth study standard classification various font impact therefore part study korean font classification system causing problem study seek explore present major font classification standard necessary update system detailed distinguishing element associated standard method three current font classification system examined identify problem explore option improvement classification standard analyzed corroborate font distinguishing feature used classification system preliminary study follow existing study reviewed find thoroughly study addressed discussed font distinguishing feature analysis identifying distinguishing feature korean font conducted four main direction analysis font related design application requirement analysis font related copyright literary examination handwriting analysis analysis distinguishing characteristic considered creating korean font referred glyph user manual result four major classification standard comprehensive broadly applicable identified analysis related subject based distinguishing characteristic featured existing classification system skeleton frame space related distance size individual letter weight corresponds thickness stroke shape related font family subcategories distinguishing characteristic include frame length stroke angle stem curve slant junction section height side stem position syllabic block height consonant number stroke writing method structure width space distance consonant vowel width syllabic block position syllabic block center line width outline weight thickness stroke comparative thickness stroke shape presence point serif junction shape morpheme writing tool method flow conclusion study meaningful faithfully examines font distinguishing characteristic used current font classification system us analysis result propose font classification standard major classification standard comprehensive broad direction believed study contribute improving closed problem one typeface belong one classification system due excessively specific criterion current classification system open access article distributed term creative common attribution non commercial license http creativecommons org license nc permit unrestricted educational noncommercial use provided original work properly cited', 'background study effectiveness thai drug labeling documentation focused readability comprehension drug content without considering essential contributing factor typographical design issue indicates lack knowledge improving legibility use appropriate typeface size thai drug package patient information leaflet study intended review thai typeface size used thai drug labeling documentation discern legibility understand problem small typeface study could lead study would beneficial applied development appropriate legislation method understand status design thai drug labeling documentation first part study qualitatively reviewed typographical issue related use typeface determined type size printed several thai drug package patient information leaflet typeface letter size observed via digital microscope later pilot study followed comparatively examined small font size different typeface participant reading sample text drug content measured preference sorting reading text card typed different typeface result found two significant thai typeface used drug labeling drug documentation conventional thai text font roman like thai font typeface composed varied small size found minimum type size approximately mm diminutive average reading finding suggested conventional thai text font facilitated participant varied age roman like thai font moreover found average reading time early adulthood participant middle adulthood participant dissimilar average reading time younger participant fast average reading time older participant much slower conclusion present study examines use proper typeface type size thai drug package patient information leaflet affect reading time participant satisfaction study also reveals regulation developed implemented reflecting fact designer medicine manufacturer lack sufficient knowledge social responsibility based typographic principle finding suggest need study featuring synergy discipline pharmaceutic psychology design social science law copyright open access article distributed term creative common attribution non commercial license http creativecommons org license nc permit unrestricted educational non commercial use provided original work properly cited', 'background typeface font born motive context creation formatted however easy specify background motive proposed usage font typeface acquires new context incorporated context user purpose use environment font search service meaningful help user find optimal font intended use many font marked complicated diverse impression however font classification system applied currently available korean font search service use different font classification standard making difficult user judge objectively addition difficult update detailed specification new type shape us numerous font continuously created available time difficult user obtain accurate information font looking ever expanding font use environment range font search service changed accommodate large amount font related information user organically obtain necessary information realizing problem study reexamines problem font classification system currently used font search service proposes new direction standard font classification system network structure organically combine use range complex font classification information method study conducted theoretical examination case analysis case analysis font classification system selected subject study analyzed find utilized current font search service identify content problem appear applied service result examination case analysis revealed problem originated classification structure designed visually present various font based result study focused information delivery diagram type hierarchical structure network structure font classification system former defined current font classification system case latter structure marked mixture intersection different group information subject different standard difference mind study compared identified difference hierarchical network structure proposed possibility using network structure font classification system alternative current one well direction design standard example result hierarchical classification structure current font classification system contradiction generalizes lot information associated font font type development period copyright format classifying hierarchically based specific criterion hand network structure emphasizing symmetrical proposition place complex information letter line interconnects relationship without special class distinction superior inferior convinced font classification method overcome limitation current font classification system offer font information study identified basic font classification standard based collection classification information used distinguish font type end standard category existing font classification system well various font legibility related problem reexamined comprehensive editing attempted based reexamination way font classification criterion keywords newly proposed based result network font classification system model created example utilization proposed conclusion korean font classification system presented specific criterion font shape expression use problem korean writing system hangul grouping structure difficult distinguish font based standard addition easy design font search service meet various aesthetic demand user current hierarchical classification system reason believed network type font classification system proposed study provide alternative judged network font classification system proposed result study meaningfully used follow study related user font selection definition common term related font analysis font structure shape information deep learning open access article distributed term creative common attribution non commercial license']"
        ],
        [
         "17",
         "16",
         "15",
         "16_pigment_painting_reflectance_gall ink",
         "['pigment', 'painting', 'reflectance', 'gall ink', 'ink used', 'ink', 'artwork', 'watermarked paper', 'dye', 'parchment']",
         "['exhibition matisse red studio allowed depth study red studio 1911 six work featured painting henri matisse 1869 1954 studio issy le moulineaux near paris grouping includes three painting collection statens museum kunst le luxe ii 1907 nude white scarf 1909 bather 1909 one painting collection metropolitan museum art young sailor ii 1906 painting private collection cyclamen 1911 glazed hand painted earthenware plate collection museum modern art untitled female nude 1907 six painting investigated using technical radiography ultraviolet induced fluorescence infrared reflectography chemical imaging xrf case spectroscopic technique fors sem ed raman sers ftir better elucidate matisse material working technique selection painting plate also analyzed using xrf new finding revealed full extent matisse completed red studio applying hallmark color referred venetian red correspondence original palette blue pink ochre dominated composition particular attention given identifying wide range pigment choice made matisse execution work 1906 1911 depicted red studio pigment include lead white zinc white bone black earth red madder lake carmine lake vermilion cadmium yellow yellow ochre aureolin cobalt yellow orpiment viridian green chromium oxide green cobalt blue ultramarine blue prussian blue cobalt violet deep light cobalt violet well possibly manganese violet eosin red lake result analysis allowed direct comparison original work depiction revealed matisse unsurprisingly given strong association color often translated pigment choice faithfully actual work depiction red studio 2022 author', 'fire flood invisible ink redaction information accidentally intentionally obscured countless document map photograph collection archive library museum across world removed catalogue reading room therefore inaccessible researcher general public new knowledge would obscured document reveal able read paper demonstrates current imaging technology used unlock lost content used high resolution multiband imaging mbi reflectance imaging spectroscopy ri micro ray fluorescence µxrf imaging reveal illegible letter form whole word written iron gall ink parchment medieval document relevant virtual record treasury ireland project digital reconstruction archive destroyed 1922 public record office ireland outset irish civil war readability text historic document faded iron gall ink parchment obscured damp stain ingrained dirt successfully enhanced mbi technique uv induced visible luminescence uvl uv reflected uvr imaging able recover contrast ink however visualising text document showing chemical damage caused application reagent ink enhancement 19th century practice known galling challenging similar composition ink staining ri proved helpful read document moderate severe chemical damage particularly applying principal component analysis pca text document severely damaged galling also recoverable µxrf imaging distribution iron ink also posed several challenge minimising movement parchment overnight scan separating data corresponding iron front parchment combined signal back subtraction elemental map post processing managed tackle latter issue combination different imaging technique enabled palaeographers medieval record specialist identify individual character whole word thereby recovering meaning text previously indecipherable research adapt methodology broad range cause information loss including reagent historically used ink enhancement well variety document medium temporality require extensive multi faceted approach advanced imaging post processing technique balance preservation need fragile invaluable historic material 2024', 'morgan library museum new york owns twenty five work paper 18th century english artist thomas gainsborough scholarly publication past 20 year well gainsborough writing highlighted proclivity toward innovative method experimentation particular letter artist wrote 1773 reveals detail secret recipe making oil paper recommended use lead white unorthodox practice dipping work skim milk possibly prevent pigment discoloring dozen gainsborough creation included 2018 exhibition morgan entitled thomas gainsborough experiment drawing occasion depth scientific study aimed explore artist work draftsman special focus mastery material technical innovation development original approach drawing initially selection artwork examined using magnification along transmitted raking light improve surface visualization investigate structure piece photographic documentation ultraviolet infrared light performed gather preliminary information variety white pigment employed wet dry chalk technique used certain work well possible presence coating underdrawings subsequently scientific analysis mean ray fluorescence xrf raman spectroscopy aimed characterizing white pigment present morgan drawing mostly consisted calcite lead white moreover combination advanced micro sampling tool polyvinyl chloride pvc free eraser fine polishing film ad hoc sample preparation method highly sensitive proteomics analysis via nano liquid chromatography mass spectrometry nano lc m sophisticated bioinformatics data processing employed assess gainsborough use skim milk secret fixative work result revealed presence specifically bovine milk sample evaluated date notably combined use advanced technical resource interrogation milk protein retrieved sample provide evidence presence milk fixative open discussion milk processing method 18th century addition granting conservator art historian deeper understanding complexity gainsborough drawing technique study pave way investigation probe use casein based fixative artist working paper degas van gogh 2020 author']"
        ],
        [
         "18",
         "17",
         "13",
         "17_correspondence image_rigid registration_computer vision_motion correspondence",
         "['correspondence image', 'rigid registration', 'computer vision', 'motion correspondence', 'vision based', 'model matching', 'object pose', 'pose estimation', '3d geometry', '3d']",
         "['present simple fast robust complete framework 2d 3d registration capable align semiautomatic completely automatic manner large set unordered image massive point cloud method convert hard solve image geometry registration task structure motion sfm plus 3d 3d alignment problem exploit sfm framework starting unordered image collection computes estimate camera parameter sparse 3d geometry deriving matched image feature coarsely register model given 3d geometry estimating global scale absolute orientation using two solution minimal user intervention stochastic global point set registration approach specialized sparse bundle adjustment sba step exploit correspondence sparse geometry fine input 3d model used refine intrinsic extrinsic parameter camera output data suitable photo blending framework produce seamless colored model effectiveness method demonstrated series synthetic real world 2d 3d cultural heritage datasets 2015 acm', 'paper present comprehensive survey vision based robotic grasping conclude three key task vision based robotic grasping object localization object pose estimation grasp estimation detail object localization task contains object localization without classification object detection object instance segmentation task provides region target object input data object pose estimation task mainly refers estimating 6d object pose includes correspondence based method template based method voting based method affords generation grasp pose known object grasp estimation task includes 2d planar grasp method 6dof grasp method former constrained grasp one direction three task could accomplish robotic grasping different combination lot object pose estimation method need object localization conduct object localization object pose estimation jointly lot grasp estimation method need object localization object pose estimation conduct grasp estimation end end manner traditional method latest deep learning based method based rgb image input reviewed elaborately survey related datasets comparison state art method summarized well addition challenge vision based robotic grasping future direction addressing challenge also pointed 2020 springer nature', 'people willing rank simple object different shape colour basis similarity machine reason structure comparison process must formalized distance measure formal object representation must defined machine reasoning information presented human distance measure need accord human notion object similarity since perception similarity subjective strongly influenced situation measure tunable particular user context paper describes distance measure solid model incorporates heuristic mental mapping human use compare object first step formally represent object way reflects human visual segmentation use modified boundary representation scheme colour physical space next step define family map representation motivated consideration human match shape distance two object essentially cost lowest cost map cost map incorporates geometric measure smooth deformation required edge face feature measure based visually significant singular point topological measure based correspondence visually significant vertex edge face tunable feature match relative cost ignoring part object treatment colour whether distance measure required rotation invariant important application distance measure development user friendly query cad image database query example depends implementation concept likeness object model database useful must reflect user concept another important application distance measure automatic recognition object class whose member identical concept object like object required common situation class based human perception visual similarity distance measure class prototype object classified reflect human perception 1994']"
        ],
        [
         "19",
         "18",
         "12",
         "18_romanian manuscript_literature bulgarian_manuscript_greek text",
         "['romanian manuscript', 'literature bulgarian', 'manuscript', 'greek text', 'manuscript preserve', 'translation produced', 'status manuscript', 'corpus 24', 'bulgarian original', 'corpus']",
         "['paper includes edition recently discovered second witness letter patriarch callistus bulgarian spiritual leader theodosius tǎrnovo associate romanus rgb 98 egorov 274 edition accompanied variant reading taken syrku edition text found rnb 211 known witness document century witness western russian provenance date second half 15th new one recently dated last quarter 15th witness compared term orthography grammar lexis order establish connection supposed bulgarian original detailed philological analysis allows u conclude though witness show significant trace second slavic influence russian literature two scribe introduced innovation different way different extent taking account dare suppose witness descend rather earlier copy mediator russian spelling feature directly middle bulgarian original 2022 institute literature bulgarian academy science right reserved', 'mont saint michel abbey normandy france important pilgrimage site christianity scriptorium produced numerous manuscript end 10th middle 13th century present study investigates practice mont saint michel scriptorium use parchment produce manuscript 11th century based corpus 67 manuscript produced 980 1100 combination information gained codicological study proteomic analysis thickness measurement parchment revealed copyist artist deliberately select type skin depending content folio status manuscript thus sheep parchment used folio text lightly illuminated manuscript calf parchment selectively used valued part manuscript full page illumination often large ornate letter opening manuscript prestigious manuscript concern four volume corpus calfskin used entire manuscript occasional addition mont saint michel sacramentary goatskin confirming special status manuscript liturgical use demonstration practice constitutes historian invaluable information parchment production time well insight manuscript folio significance 2024 author', 'within museo virtuale della musica bellininrete project corpus letter written renowned composer vincenzo bellini 1801 1835 catania encoded made publicly available contribution aim illustrating part project regarding implementation ongoing prototype metadata text encoding indexing visualization bellini correspondence encoding scheme defined according latest guideline text encoding initiative instantiated sample letter contextually first environment implemented customizing two open source tool edition visualization technology omega scholarly platform main objective digital edition engage general public cultural heritage held belliniano civic museum catania wide access bellini correspondence conceived preserving scholarly transcription letter edited seminara within recent critical edition digital edition corpus take care handling correspondence metadata mean correspdesc tei tagset finally bellini letter accessible via web platform well integrated forthcoming interactive multimedia tour hosted museum 2019 university bologna department classical italian philology alma mater studiorum right reserved']"
        ],
        [
         "20",
         "19",
         "11",
         "19_among adolescent_based survey_adolescent_online disclosure",
         "['among adolescent', 'based survey', 'adolescent', 'online disclosure', 'survey response', 'internet use', 'study internet', 'partner behavior', 'disclosure sexual', 'confidentiality concern']",
         "['article present finding three year community based research study discusses implication finding relate building college community relationship face face digital context researcher collected data digital deliverable work process study partnered university writing center adult education program state employment agency develop online literacy resource housed widely used owl resource designed help marginalized population pas writing section ged compose cover letter résumés study driven question might mixed method research help writing study form relationship local organization might method help community member help outcome using method help answer question researcher used descriptive statistic grounded theory code analyze data finding indicate project helped researcher develop close relationship community partner compose deliverable met partner need assist participant improving writing despite result however participant limited adoption online material suggests research needed technology use within risk community 2014 elsevier inc', 'possible socialize adolescent become vigilant spotting fake news present preregistered randomized controlled trial 1476 aimed implement scalable online counter misinformation intervention promoting family based prosocial value putting expert role build resistance misinformation among adolescent intervention participant endowed expert role requested write letter digitally less experienced relative elucidating six strategy identify misinformation found immediate effect intervention 17 effect disappeared four week however high school student followed instruction 791 higher need cognition demonstrated substantial benefit correctly spotting fake news four week intervention compared control group sd need cognition 28 sd need cognition 51 present work demonstrates power using classic social psychological component digital mindset expertise role prosocial strategy achieve long term behavioral change among certain adolescent approach might complement prior nudge inoculation intervention fight misinformation age group 2024', 'study aimed develop short screening instrument item assess problematic internet use among adolescent short problematic internet use test spiut developed based review existing literature tested using cius compulsive internet use scale concurrent scale data collected within espad italia european school survey project alcohol drug cross sectional school survey conducted monitor risk behavior representative sample italian student 15 19 year spiut validated two step construct validity optimal scaling analysis assessment difference mean score related hour spent online study internet user 10 153 reliability test cius concurrent validity spiut study internet user 21 205 spiut showed good psychometric property multiple correspondence analysis optimal weight item found improving internal consistency reliability significant increase mean score increasing daily hour spent online found high correlation cius utilization spiut school survey could help u understand risk profile problematic internet user among adolescent 2014 elsevier ltd right reserved']"
        ],
        [
         "21",
         "20",
         "10",
         "20_indigenous research_technology indigenous_indigenous_indigenous community",
         "['indigenous research', 'technology indigenous', 'indigenous', 'indigenous community', 'heritage collection', 'legacy', 'australian research', 'arc indigenous', 'culture', 'engu heritage']",
         "['yollatin small letter engu elder academic joseph neparrlatin small letter enga gumbula curated exhibition makarr garma aboriginal collection yollatin small letter engu perspective makarr garma staged university sydney macleay museum 29 november 2009 15 may 2010 article describes exhibition development curatorial rationale product 2007 australian research council arc indigenous research fellowship university makarr garma reflected gumbula yollatin small letter engu philosophy applied collection gallery library archive museum glam sector employing artwork cultural object historic photograph natural history specimen manikay song framed show garma open ceremonial performance spanned archetypal yollatin small letter engu day exhibition immersive culturally resonant gilchrist indigenising provides intellectual practical insight glam sector representation management indigenous collection 2019 walter de gruyter gmbh berlin boston', 'article adapted aaron corn lecture presented joe gumbula koori centre university sydney april 2007 day joe admitted degree doctor music honoris causa university recently started work koori centre first australian research council arc project arc indigenous research fellow called elder assessment early material culture collection arnhem land contemporary access need among source community di0775822 including aaron corn nominal mentor first arc project led yollatin small letter engu chief investigator enabled joe undertake detailed research yollatin small letter engu heritage collection held university sydney archive macleay museum eighteen member joe family mililatin small letter enginbi milingimbi galiwin ku visiting sydney attend graduation ceremony present lecture joe assured impassioned delivery occasion aptly demonstrates exemplary knowledge yollatin small letter engu heritage mastery applying yollatin small letter engu law interpretation ability engage others process significance collection research university sydney material joe presented lecture later published 2011 book matjabala mali buku rulatin small letter enganmaram image mililatin small letter enginbi milingimbi surround 1926 1948 article cross referenced source remains available purchase sydney university press 2019 walter de gruyter gmbh berlin boston', 'joseph neparrlatin small letter enga gumbula 1954 2015 atypical scholarly trajectory born long line yollatin small letter engu leader remote town milingimbi arnhem land aboriginal reverse left school mid teen neighbouring town galiwin ku 1971 joined country gospel band soft sand singer guitarist passion making music admission yollatin small letter engu ritual leadership 1997 gumbula discovered new calling researching documented legacy family history ethnographic collection around world pursuit set unprecedented path towards leading national research grant supported fellowship various university research would return arnhem land rare precious ethnographic material dating back far edge living memory 1920s exemplify indigenous heritage collection grown managed made accessible broad benefit paralleling emergence affordable digital medium technology research interest progressed accordingly isolated local database clouded mobile delivery platform interdisciplinary network gumbula built far reaching left lasting impact article expand upon gumbula memorial lecture 2017 information technology indigenous community itic symposium melbourne explore gumbula challenged student colleague think work beyond convention disciplinary professional methodology thereby transforming understanding knowledge encouraging u act proactive agent world 2019 walter de gruyter gmbh berlin boston']"
        ],
        [
         "22",
         "21",
         "10",
         "21_heuristic search_extracting heuristic_search planner_planning model",
         "['heuristic search', 'extracting heuristic', 'search planner', 'planning model', 'planning problem', 'planner based', 'general heuristic', 'new heuristic', 'relaxation heuristic', 'heuristic']",
         "['aips98 planning contest hsp planner showed heuristic search planner competitive state art graphplan sat planner heuristic search planner like hsp transform planning problem problem heuristic search automatically extracting heuristic strip encoding differ specialized problem solver developed 24 puzzle rubik cube use general declarative language stating problem general mechanism extracting heuristic representation paper study family heuristic search planner based simple general heuristic assumes action precondition independent heuristic used context best first hill climbing search algorithm tested large collection domain consider variation extension reversing direction search speeding node evaluation extracting information propositional invariant avoiding dead end analyze resulting planner evaluate performance explain best also compare performance planner two state art planner show simplest planner based pure best first search yield solid performance large set problem also discus strength limitation approach establish correspondence heuristic search planning graphplan briefly survey recent idea reduce current gap performance general heuristic search planner specialized solver 2001 elsevier science', 'automatic derivation heuristic function guiding search plan fundamental technique planning type heuristic considered far however deal simple planning model cost associated action state work address limitation formulating expressive planning model corresponding heuristic preference form penalty reward associated fluents well heuristic generalization well known delete relaxation heuristic admissible informative intractable exploiting correspondence heuristic preferred model property formula compiled dnnf show however suitable relaxation domain expressed strong completion logic program time index horizon compiled dnnf heuristic computed search state time linear size compiled representation representation defines evaluation network circuit map state heuristic value linear time circuit may exponential size worst case obdds necessarily report empirical result discus application framework setting goal preference illustrate versatility account developing new heuristic overcomes limitation delete based relaxation use valid implicit plan constraint particular traveling salesman problem new heuristic capture exact cost delete relaxation heuristic also exponential worst case capture minimum spanning tree lower bound 2008 elsevier right reserved', 'paper study partitioning constraint temporal planning problem formulated mixed integer nonlinear programming minlp problem constraint partitioning attractive lead much easier subproblems significant relaxation original problem moreover subproblem similar original problem solved existing solver little modification constraint partitioning however introduces global constraint may violated subproblems evaluated independently reduce overhead resolving global constraint develop paper new condition algorithm limiting search space backtracked subproblem using penalty formulation minlp constraint function minlp transformed non negative function present necessary sufficient extended saddle point condition espc constrained local minimization penalty larger threshold theory show one one correspondence constrained local minimum minlp extended saddle point penalty function hence one way find constrained local minimum increase gradually penalty violated constraint look local minimum penalty function using existing algorithm solution constrained model found next extend espc constraint partitioned minlps propose partition resolve strategy resolving violated global constraint across subproblems using discrete space aspen mixed space mips planner solve subproblems show significant improvement planning benchmark term quality plan generated execution time find 2005 elsevier right reserved']"
        ],
        [
         "23",
         "22",
         "8",
         "22_game immersion_game genre_game study_recognized gaming",
         "['game immersion', 'game genre', 'game study', 'recognized gaming', 'video game', 'gameplay', 'game community', 'game world', 'game mechanic', 'game localization']",
         "['widely played world video game led thriving industry whose global boom owes much significant contribution audiovisual translation game localization current study shed light translation solution employed tailoring video game persian evaluate growing field game localization iran accordingly four video game localized darinoos prominent iranian game localization company selected textual material extracted compiled corpus 3068 source target pair result showed copying structure frequently used solution indicating prominence word word translation cultural correspondence hand revealed received lowest proportion suggesting lack creativity failure transfer culture specific language finding revealed several inadequacy video game localization persian explored within cultural industrial setting iran author 2022', 'video game afford authentic heritage experience comparable physical visit heritage site authenticity historical setting related player immersion article explores question looking notion experience authenticity tourism heritage study experience economy mapping onto layer game immersion video game site visitation user centred designed experience share experiential dimension five strategic experiential module sems sense feel think act relate linked sems five form heritage authenticity reveal close correspondence five six dimension game immersion involvement therefore player perception heritage authenticity historical setting seems intertwined immersion incorporation dual framework authenticity immersion presented allows detailed analysis central example assassin creed unity famous representation notre dame cathedral author 2021', 'scholarly opposition concept game addiction statement apa division 46 scholar open letter world health organization officially recognized gaming disorder disease however dearth communication study social function game playing game community study aim demonstrate whether specific game genre medium usage discussion game issue social network conceptualized gamers communicative ecology significantly contribute game community involvement self identification gamer way game playing positively linked personal identity social interaction lead sociability gamers analyzing data online survey korean gamers 1362 study found game community serve public sphere gamers played politically targeted game genre perceived gamers regard game interaction via game playing encourage social consciousness social behavior engaging public discourse information sharing expression community activity respect game social simulator allows social experience experience may transferred positive real life consequence 2019 elsevier ltd']"
        ],
        [
         "24",
         "23",
         "8",
         "23_digital research_technological_digital humanity_intellectual technological",
         "['digital research', 'technological', 'digital humanity', 'intellectual technological', 'information scientist', 'research object', 'knowledge exchange', 'acknowledgement digital', 'information science', 'enterprise']",
         "['paper discusses development digital intellectual technological geography showing spatial distribution information proposes combine network representation actor document relevant history knowledge exchange early modern europe amount technical fortification drawing copied throughout europe new world different nature network exchanged raise question whether belonged republic letter author claim argue instead trying explain knowledge exchange early modern europe focusing republic letter one entity consisting scholar might useful reconstruct spatial distribution actor non textual document virtual network knowledge inspired term deep map coined david bodenhamer introduce concept deep network explore requirement future development hereto focus representation historical evidence uncertainty analysis intellectual technological letter drawing hybrid combination edinburgh university press 2015', 'biotechnology promise widely recognized major enterprise accelerating commodification biological 11 event subsequent anthrax letter biotechnology additionally described contributing construction biosecurity risk paper proposes investigate collaboration fbi diybio biology network case study illustrating productive entanglement biological risk promise paper explores social construction risk promise associated vision distributed biotechnology enacted collaboration argue fbi need police diybio network order disseminate specific notion bioterrorist risk counter intuitive manner diybio network benefit policed fbi help disseminate socio technological vision entanglement technoscientific risk promise well established finding sts literature case study suggests entanglement additionally comprises sphere biosecurity promise distributed biotechnology available everyone 2015 author 2015', 'article examines impact digital humanity information science information scientist information scientist contribute digital collaboration digital humanity article us three basic concept user researcher digital information system digital research object framework description digital humanity shift discusses consequence shift information science reference concept second part article investigates two pillar digital humanity shift acknowledgement digital structure exploring mind detail case correspondence acknowledgement digital structure involves respecting thing like property letter cannot handled searched classified etc unless translated digitized metadata elevates metadata genuine digital research object theoretical issue illustrated prior archive collection digitized letter manuscript draft grey material bequeathed new zealand logician philosopher arthur norman prior concept exploring mind connected movement information science away needful user information gap paradigm towards open exploratory information behaviour digital humanity concluding literature review examines selected work information science deal non standard serendipitous information behaviour identifies exploratory serendipitous design feature information system digital humanity feature represented taxonomy consisting six design category 2020 author 2020 published oxford university press behalf eadh right reserved permission please email journal permission oup com']"
        ],
        [
         "25",
         "24",
         "8",
         "24_schema coordination_approach schema_interoperability_schema",
         "['schema coordination', 'approach schema', 'interoperability', 'schema', 'schema integration', 'data management', 'model management', 'ontology based', 'approach metadata', 'acms database']",
         "['supply chain partnering one approach decreasing risk maintaining high inventory improving due date requirement whether partnership run smoothly depends sharing information successful information sharing determined manner previously independent database coordinated study proposes construction attribute correspondence matrix acms database extending conventional schema coordination peer peer relationship vertical relationship supply chain relationship using acms company supply chain share data upstream downstream partner without leaking information competitor 2002 elsevier science right reserved', 'ontology based model product design manufacture becoming increasingly important effort towards achieving interoperability among various stakeholder within across product lifecycle system however eventuality interoperate multiple ontology based model intention sharing knowledge among process still remains difficult one although concept ontology mapping matching developed mean interoperate across ontology based model yet concept remained relatively weak term ability enable formalization verification cross model semantic correspondence design manufacture paper improved concept achieve semantic reconciliation investigated context semantic manufacturing interoperability framework smif approach us common logic based underpinning enabling evaluation verification cross model correspondence approach successfully tested applying relevant logic based mechanism order show reconciliation two individually developed knowledge model demonstrated approach enables semantic reconciliation important structure within ontology based model design manufacture 2011 io press author right reserved', 'business intelligence bi powerful tool conduct causality analysis corporate diagnosis since provides data driven approach link firm strategic goal tactical policy operational action specifically bi consists series architecture technique like database data warehousing data mining transform raw data useful information provide decision support reality typical bi user group involve financial analyst marketing planner general manager field staff upstream supplier downstream customer inspired concept stp segmentation target positioning product family design bi system need customized satisfy diverse user group tailored firm solving complicated specific business problem consequently novel framework proposed fulfill following goal incorporating user preference identify key design feature best fit bi main segment achieving customer acquisition transforming user perception quantitative degree satisfaction accomplishing customer retention conducting importance satisfaction analysis generate managerial insight developing next generation bi system 2015 elsevier ltd right reserved']"
        ],
        [
         "26",
         "25",
         "7",
         "25_recognition ocr_character recognition_text recognition_algorithm ocr",
         "['recognition ocr', 'character recognition', 'text recognition', 'algorithm ocr', 'ocr analysis', 'ocr', 'character segmentation', 'digitization', 'recognition', 'segmentation tamil']",
         "['seal small coin shaped artifact mostly made lead held string seal letter work present first attempt towards automatic reading inscribed text byzantine seal image byzantine seal generally decorated iconography obverse side greek text reverse side text may include sender name position byzantine aristocracy element prayer text iconography precious literary source wait exploited electronically development computerized system interpreting seal image paramount importance work contribution hence deep two stage character reading pipeline transcribing byzantine seal image first deep convolutional neural network cnn detects character seal character localization second convolutional network read localized character character classification finally diplomatic transcription seal provided post processing two network output provide experimental evaluation cnn isolation cnns combination performance evaluated cross validation character localization achieves mean average precision map greater intersection union threshold classification character achieves accuracy greater 92 performance compare favorably similar task recognition inscribed character ancient coin transcription level provide novel performance result term character error rate novel seal image differs result isolated character recognition 2025 author', 'coin classification one main aspect numismatics introduction automated image based coin classification system could assist numismatist everyday work allow hobby numismatist gain additional information coin collection uploading image respective web site roman republican coin inscription one significant feature recognition essential part successful research image based coin recognition system article present novel way recognition ancient roman republican coin legend traditional optical character recognition ocr strategy designed printed handwritten text rely binarization course recognition process since coin legend simply embossed onto piece metal color background binarization becomes error prone prohibits use standard ocr therefore proposed method based state art scene text recognition method rooted object recognition sift descriptor computed dense grid keypoints tested using support vector machine trained letter respective alphabet descriptor receives score every letter use pictorial structure allows one detect optimal configuration lexicon word within image word causing lowest cost recognized character word recognition capability proposed method evaluated individually character recognition benchmarked three word recognition different datasets depending sift configuration lexicon dataset used word recognition rate range 29 67 2014 acm', 'palm leaf manuscript rich ancient knowledge area history art medicine vital cultural treasure making digitization essential preserving heritage digitization organic fragile manuscript required safeguard essential ancient data requires optimal character segmentation recognition algorithm limited number study carried tamil character recognition literature handling row overlapped character noise introduced due lightning issue dirt well removal punch hole auto cropping content filtering noisy improper segmentation etc essential concern carried proposed work work executed four step process palm leaf manuscript acquisition pre processing segmentation tamil character tamil character recognition acquisition scanner used recording palm leaf manuscript tamil nadu oriented manuscript library pre processing step fast non local mean fast nlm method paired median filtering used denoising scanner output image later pixel make character border foreground identified using sauvola thresholding proposed methodology introduces efficient technique remove punch hole impression pre processed image crop written content edge pre processing segmentation tamil character performed three step process manuscript line character segmentation address conjoined line partially completely empty segmentation previously addressed existing technique work introduces augmented hpp line splitting algorithm accurately segment written line handling wrong segmentation case previously considered existing technique system achieves average segmentation accuracy 98 25 far outperforms existing technique also proposes novel punch hole removal algorithm locate remove punch hole impression manuscript image algorithm along automated content cropping technique increase recognition accuracy eliminates manual labor needed feature make proposed methodology highly suitable real time archaeological historical research include manuscript 247 letter 12 numeric digit analyzed separated 125 distinct writable character work character segmented used recognition 247 letter 12 digit tamil using multi class cnn 125 class drastically reduces complexity neural network compared 257 output node offered notable performance 96 04 accuracy compared existing tamil character recognition work effective essence considering real time image increased number character used author 2024']"
        ],
        [
         "27",
         "26",
         "7",
         "26_handwriting physical_effect handwriting_using handwriting_handwriting",
         "['handwriting physical', 'effect handwriting', 'using handwriting', 'handwriting', 'handwriting picture', 'book handwriting', 'text communication', 'signature', 'tele handwriter', 'signature group']",
         "['background digital text medium mail instant messaging widely used communication due swiftness convenience handwriting still preferred situation call sincerity love letter greeting card however outside particular situation handwritten medium seldom used due slowness paper investigated effect handwriting physical representation digital text communication using novel prototype new hybrid communication medium tele handwriter th allows one handwriting instantly physically delivered opponent pen paper method investigate user experience tele handwriter th especially effect using handwriting physical representation conducted comparative user study eight couple relationship weused three different type text medium th shared canvas instant messaging asked casual conversation write long affectionate message participant interviewed experience pro con medium interview thematically analyzed using bottom affinity diagram result finding th largely regarded increased intimacy wholly delivered effort sincerity contextual cue naturally added message use handwritingenabled text based communication message distinct characteristic naturally incorporates sender identity attitude writing effort furthermore physically representing message using pen paper effective delivering sender effort commitment receiver entirety also allowed sender fully deliver contextual cue within message conclusion investigated effect adopting handwriting physical representation text based communication using novel hybrid communication medium th identified effect handwriting physical medium essential feature th based finding discussed applicable area th design insight design physical handwriting system computer mediated text communication 2019 korean society design science', 'alzheimer disease ad progressive irreversible neurodegenerative disease involving impairment several cognitive function determine ad affect signature sample three group analysed da1 17 participant medical diagnosis ad mini mental state examination test mmse 20 12 00 da2 17 participant medical diagnosis ad mmse 11 06 93 control group 30 healthy matched individual mmse 28 07 60 general feature chi square test linear linear association 050 constructional feature fischer exact test 050 analysed statistically significant difference ad group control group found legibility tremor line quality spacing word shape direction baseline although statistical difference found size among three group case micrographia macrographia found exclusively da2 statistically significant difference found velocity level connection pressure constructional feature repetition often perseveration uncontrolled repetition stroke letter omission substitution form allographic agraphia present individual ad group also included additional writing signature result may associated overall cognitive deterioration occurs ad fdes aware change may common handwriting ad patient particularly severe stage therefore interpreting occurrence tremor decrease line quality change handwriting feature mentioned made caution obtaining earlier contemporaneous signature also assist fdes better interpret tremor alteration handwriting ad patient evaluate naturally occurring change due progression illness simulation 2017 association forensic document examiner right reserved', 'background since covid 19 pandemic value analog communication method handwriting card letter rediscovered handwriting unique mean conveying individual emotional personality appears reverse reaction cool medium digital age recent year use handwriting picture book increasing stand multiple structure textless picture book internationally prominent picture book author emily gravett matthew cordell oliver jeffers peter reynolds tend reinforce emotional communication using handwriting picture book however existing study mainly focused interaction text image focusing story study formative aspect insufficient therefore paper analyzes handwriting four picture book author mentioned qualitative research graphic perspective emotional transmission element handwriting recognized graphic form text identified system proposed method aim theoretical background understand concept characteristic handwriting printed text literature review analyze relationship picture book handwriting term graphic design understand norman emotional design theory emotion psychology emotional element handwriting divided two dimension personality acoustic primarily visual element intimacy emotionality secondary emotional element emotional transmission element systematized paie qualitative research method 49 picture book using handwriting investigated focus group interview fgi case analysis ten piece finally selected according preference survey conducted four expert group validity paie element verified two intensive interview paper three case included due paper relationship among 10 analyzed content result handwriting jeffers gravett reynolds cordell found element conveys emotional primary visual element personality artist handwriting recognized graphic element acoustic element reminiscent sound secondary emotional element embodied intimacy personal intimate feeling formed using handwriting instead printed body emotionality element transmitted regression real sense felt text element identified formative element graphic design conveyed artist various emotion based elemental system paie system proposed conclusion emotional transmission element graphic design composed personality acoustic primary visual element secondary emotional element embodied intimacy emotionality element identified formative element graphic design convey various emotion artist based element system paie system proposed therefore picture book handwriting becomes close mean providing emotional communication artist reader sensory regression 2025 korean society design science right reserved']"
        ],
        [
         "28",
         "27",
         "6",
         "27_public transport_mobility_transport_navigation",
         "['public transport', 'mobility', 'transport', 'navigation', 'railway', 'study aim', 'correspondence analysis', 'previous experience', 'traveller', 'evaluation job']",
         "['population gradually aging elderly people internet user data indicate need take action bridge digital divide several study show learning memory process faster familiarity learning object user find clear internal correspondence previous experience current experience elderly make one group affected digital divide less internet access knowledge use internet definition almost infinite structure hypertext user navigates using information active way elderly lack previous experience hypertextual application aim study test navigation variable comparing two design email web application different navigation style linear v hypertextual navigation study consisted usability testing employing method task analysis assessment tool also used eye tracker post session self report questionnaire designed ad hoc study sample 34 user 60 83 year old heterogeneous previous experience new technology participated study performed testing counterbalanced within subject design linear navigation condition compared hypertextual condition obtained higher success rate lower performance time better satisfaction rating greater user preference main contribution study demonstrate relevance navigation system oriented toward elderly indicating linear navigation suitable user 2015 elsevier ltd', 'platform train interface pti shared space several interaction traveller interaction lead congestion delay safety concern pti resulting negative experience user understanding individual behaviour crucial improving pedestrian flow station user experience fine supporting public transport use study aim understand individual experience behaviour pti specifically investigate psychological comfort link approach avoidance strategy aa used traveller pti based critical incident technique 22 interview conducted participant asked describe multiple trip according valence positive negative seventy seven critical incident representing 125 route section involving station collected coded analysed multiple correspondence analysis mca determine reason incident valence descriptive analysis 125 section aim identifying aa used individual pti result suggest reason valence trip security density could related different psychological comfort dimension aa reported seem aimed increasing psychological comfort finally observed crowd usually link avoidance strategy specific case uncertainty traveller also reported approaching crowd 2024 informa uk limited trading taylor francis group', 'exploratory study aim achieve better understanding user related factor affect choice route public transport pt also look motivate route mode change towards alternative real situation investigated experience 19 user pt using critical incident technique flanagan psychol bull 51 327 1954 asked participant report incident situation case satisfied dissatisfied choice situation case usual route case alternative considered total 91 incident collected analysed using multiple correspondence analysis additionally user profile characterized superposed analysis incident content main result follows first user choice pt route depends context aim travel time day second taking alternative usual pt route using route combining different transport mode determined context factor related pleasantness travel accompany friend along travel finally depending user profile combination attitude towards pt demographic variable factor taken account make choice pt route related efficiency pleasantness trip result show importance contextual factor user profile route choice suggest factor taken account new tool service mobility 2015 springer verlag london']"
        ],
        [
         "29",
         "28",
         "5",
         "28_speech gesture_speech signal_communicative speech_language gesture",
         "['speech gesture', 'speech signal', 'communicative speech', 'language gesture', 'annotated speech', 'gesture synthesizer', 'speech', 'sign language', 'factor speech', 'utterance']",
         "['paper introduces novel captioning method partial synchronized captioning psc tool developing second language l2 listening skill unlike conventional full captioning provides full text allows comprehension material merely reading psc promotes listening speech presenting selected subset word word synched corresponding speech signal method word level synchronization realized automatic speech recognition asr system dedicated desired corpus feature allows learner become familiar correspondence word utterance partialization done automatically selecting word phrase likely hinder listening comprehension work presume incidence infrequent specific word fast delivery speech major barrier listening comprehension word selection criterion thus based three factor speech rate word frequency specificity threshold feature adjusted proficiency level learner selected word presented aid listening comprehension remaining word masked order keep learner listening audio psc evaluated captioning full captioning condition using ted video result indicate psc lead level comprehension full captioning method presenting less 30 transcript furthermore compared method psc serve effective medium decreasing dependence caption preparing learner listen without assistance copyright european association computer assisted language learning 2017', 'multi dimensional perceptual space communicative speech prosody derived using psychometric method multi dimensional expression impression characterize paralinguistic information conveyed prosody communication single word utterance employed allow freedom lexical effect cover communicative prosodic variation much possible analysis daily conversation showed conversational speech impression manifested global f0 control difference average height high low dynamic pattern rise fall gradual fall rise fall using controlled single utterance multiple dimensional scaling analysis applied mutual distance matrix obtained 26 dimensional vector expressing perceptual impression result showed three dimensional structure perceptual impression space dimension corresponded different f0 control characteristic positive negative impression controlled average f0 height confident doubtful allowable unacceptable impression controlled f0 dynamic pattern unlike conventional categorical classification prosodic pattern frequently observed study emotional prosody control characterization enables u flexibly quantitatively describe prosodic impression experimental result allow possibility input specification communicative prosody generation using impression vector control average f0 height f0 dynamic pattern instead generation speech categorical prototypical prosody adequate communicative speech synthesis approached input specification correspondence control characteristic 2007 elsevier right reserved', 'real time speech text text speech technology significantly influenced accessibility communication individual deaf mute research aim assess efficacy technology facilitating communication deaf mute individual neither deaf mute mixed method approach incorporate qualitative quantitative data collection analysis technique study involve participant deaf mute non deaf non mute community research scrutinize precision efficiency communication using technology evaluate user experience satisfaction furthermore study intends pinpoint potential obstacle limitation technology offer suggestion enhancing effectiveness fostering inclusivity study proposes active learning framework sign language gesture recognition termed active convolutional neural network sign language activecnn sl activecnn sl aim minimize labeled data required training augment accuracy sign language gesture recognition iterative human feedback proposed framework hold potential enhance communication accessibility deaf mute individual encourage inclusivity across various environment proposed framework trained using two primary datasets sign language gesture image dataset ii american sign language letter asl v1 framework employ resnet50 yolov train datasets demonstrated high performance term precision accuracy resnet model achieved remarkable accuracy rate 99 98 training also exhibited validation accuracy 100 surpassing baseline cnn rnn model yolov8 model outperformed previous method asl alphabet dataset achieving overall mean average accuracy class 97 author 2024']"
        ],
        [
         "30",
         "29",
         "5",
         "29_letter interface_alphabet supplementation_speech_manual word",
         "['letter interface', 'alphabet supplementation', 'speech', 'manual word', 'word prediction', 'word count', 'alphabet using', 'specific semantic', 'sentence intelligibility', 'alternative communication']",
         "['fingerspelling process communicating letter spoken language alphabet using person hand hand portraying animation fingerspelling proved surprisingly resistant automation collision arise conventional interpolation keyframes individual manual letter previous method able provide convincingly realistic fingerspelling due absence effective collision avoidance underlying animation algorithm paper report development evaluation new collision avoidance algorithm aid fingerspelling instead analyzing letter transition algorithm capitalizes transition individual finger new strategy efficient enough support real time fingerspelling still maintaining high level predictive accuracy utilizing strategy signing avatar expected improve current resource deaf child hearing teacher hearing parent interpreting student want improve fingerspelling comprehension future work include testing strategy generality applying one handed manual alphabet 2021 author exclusive licence springer nature', 'goal research described article determine way speech recognition error handled best multimodal form filling interface besides two well known error correction mechanism speaking value choosing correct value list alternative interface offer novel correction mechanism user selects first letter target word soft keyboard utterance recognized limited language model lexicon multimodal interface used web based form filling gui extended speech overlay allows pen speech input effectiveness efficiency error correction mechanism error correction strategy applied user effect user satisfaction studied evaluation interface tested two condition one condition list interface provides speaking alternative list error correction facility condition letter interface provides soft keyboard technique additional error correction facility study show error correction effective letter condition list condition keyboard correction facility enables user solve error could solved using speak method choosing list alternative spite low effectiveness subject initially attempted use speaking error correction interface however also found subject rapidly learned choose effective option keyboard immediately gain experience user satisfaction turned higher letter interface list interface subject considered letter interface useful less frustrating felt control result subject clearly preferred letter interface 2005 elsevier right reserved', 'cognitive test verbal fluency vf consist verbalizing many word possible one minute either start specific letter alphabet belong specific semantic category test widely used neurological psychiatric mental health school setting validity clinical application extensively demonstrated however vf test currently administered scored manually making cumbersome use particularly longitudinal cognitive monitoring large population objective current study determine automatic speech recognition asr could used computerized administration scoring vf test examined established technique constraining language modeling predefined vocabulary specific semantic category animal also experimented post processing asr output confidence scoring well using speaker adaptation improve automated vf scoring audio response vf task collected 38 novice experienced professional fighter boxing mixed martial art participating longitudinal study effect repetitive head trauma brain function word error rate correlation manual word count distance manual word count used compare asr based approach scoring manually scored reference standard study result show response vf task contain large number extraneous utterance noise lead relatively poor baseline asr performance however also found speaker adaptation combined confidence scoring significantly improves three metric enable use asr reliable estimate traditional manual vf score 2015 elsevier right reserved']"
        ]
       ],
       "shape": {
        "columns": 5,
        "rows": 31
       }
      },
      "text/html": [
       "<div>\n",
       "<style scoped>\n",
       "    .dataframe tbody tr th:only-of-type {\n",
       "        vertical-align: middle;\n",
       "    }\n",
       "\n",
       "    .dataframe tbody tr th {\n",
       "        vertical-align: top;\n",
       "    }\n",
       "\n",
       "    .dataframe thead th {\n",
       "        text-align: right;\n",
       "    }\n",
       "</style>\n",
       "<table border=\"1\" class=\"dataframe\">\n",
       "  <thead>\n",
       "    <tr style=\"text-align: right;\">\n",
       "      <th></th>\n",
       "      <th>Topic</th>\n",
       "      <th>Count</th>\n",
       "      <th>Name</th>\n",
       "      <th>Representation</th>\n",
       "      <th>Representative_Docs</th>\n",
       "    </tr>\n",
       "  </thead>\n",
       "  <tbody>\n",
       "    <tr>\n",
       "      <th>0</th>\n",
       "      <td>-1</td>\n",
       "      <td>162</td>\n",
       "      <td>-1_corpus_research_technology_language</td>\n",
       "      <td>[corpus, research, technology, language, metho...</td>\n",
       "      <td>[network analysis historical correspondence fr...</td>\n",
       "    </tr>\n",
       "    <tr>\n",
       "      <th>1</th>\n",
       "      <td>0</td>\n",
       "      <td>141</td>\n",
       "      <td>0_word recognition_word frequency_lexical deci...</td>\n",
       "      <td>[word recognition, word frequency, lexical dec...</td>\n",
       "      <td>[hebrew semitic language word formed non conca...</td>\n",
       "    </tr>\n",
       "    <tr>\n",
       "      <th>2</th>\n",
       "      <td>1</td>\n",
       "      <td>107</td>\n",
       "      <td>1_description logic_logic program_argumentatio...</td>\n",
       "      <td>[description logic, logic program, argumentati...</td>\n",
       "      <td>[paper tackle fundamental question arising loo...</td>\n",
       "    </tr>\n",
       "    <tr>\n",
       "      <th>3</th>\n",
       "      <td>2</td>\n",
       "      <td>62</td>\n",
       "      <td>2_speech system_speech recognition_automatic s...</td>\n",
       "      <td>[speech system, speech recognition, automatic ...</td>\n",
       "      <td>[ever increasing volume audio data available o...</td>\n",
       "    </tr>\n",
       "    <tr>\n",
       "      <th>4</th>\n",
       "      <td>3</td>\n",
       "      <td>44</td>\n",
       "      <td>3_linguistic_discourse analysis_communicative_...</td>\n",
       "      <td>[linguistic, discourse analysis, communicative...</td>\n",
       "      <td>[study situated field pragmatic fiction audio ...</td>\n",
       "    </tr>\n",
       "    <tr>\n",
       "      <th>5</th>\n",
       "      <td>4</td>\n",
       "      <td>40</td>\n",
       "      <td>4_design medium_techno aesthetic_artistic prac...</td>\n",
       "      <td>[design medium, techno aesthetic, artistic pra...</td>\n",
       "      <td>[article discusses three composition autonomou...</td>\n",
       "    </tr>\n",
       "    <tr>\n",
       "      <th>6</th>\n",
       "      <td>5</td>\n",
       "      <td>36</td>\n",
       "      <td>5_sentiment analysis_opinion term_term opinion...</td>\n",
       "      <td>[sentiment analysis, opinion term, term opinio...</td>\n",
       "      <td>[past decade artificial intelligence ai techni...</td>\n",
       "    </tr>\n",
       "    <tr>\n",
       "      <th>7</th>\n",
       "      <td>6</td>\n",
       "      <td>36</td>\n",
       "      <td>6_authorship_analysis text_authorship attribut...</td>\n",
       "      <td>[authorship, analysis text, authorship attribu...</td>\n",
       "      <td>[kepler book founded 1955 menlo park ca usa ma...</td>\n",
       "    </tr>\n",
       "    <tr>\n",
       "      <th>8</th>\n",
       "      <td>7</td>\n",
       "      <td>26</td>\n",
       "      <td>7_preference ordering_preference function_pref...</td>\n",
       "      <td>[preference ordering, preference function, pre...</td>\n",
       "      <td>[existing literature social preference either ...</td>\n",
       "    </tr>\n",
       "    <tr>\n",
       "      <th>9</th>\n",
       "      <td>8</td>\n",
       "      <td>26</td>\n",
       "      <td>8_translation system_machine translation_trans...</td>\n",
       "      <td>[translation system, machine translation, tran...</td>\n",
       "      <td>[important extension conventional text neural ...</td>\n",
       "    </tr>\n",
       "    <tr>\n",
       "      <th>10</th>\n",
       "      <td>9</td>\n",
       "      <td>24</td>\n",
       "      <td>9_investigation publisher_retracted article_di...</td>\n",
       "      <td>[investigation publisher, retracted article, d...</td>\n",
       "      <td>[last two decade library archive natural histo...</td>\n",
       "    </tr>\n",
       "    <tr>\n",
       "      <th>11</th>\n",
       "      <td>10</td>\n",
       "      <td>24</td>\n",
       "      <td>10_based instruction_teacher instruction_teach...</td>\n",
       "      <td>[based instruction, teacher instruction, teach...</td>\n",
       "      <td>[feedback researcher given little attention ad...</td>\n",
       "    </tr>\n",
       "    <tr>\n",
       "      <th>12</th>\n",
       "      <td>11</td>\n",
       "      <td>21</td>\n",
       "      <td>11_historical architectural_land use_architect...</td>\n",
       "      <td>[historical architectural, land use, architect...</td>\n",
       "      <td>[past twenty year archaeological survey change...</td>\n",
       "    </tr>\n",
       "    <tr>\n",
       "      <th>13</th>\n",
       "      <td>12</td>\n",
       "      <td>20</td>\n",
       "      <td>12_word processor_writing system_text speech_text</td>\n",
       "      <td>[word processor, writing system, text speech, ...</td>\n",
       "      <td>[paper attempt define limitation present bilin...</td>\n",
       "    </tr>\n",
       "    <tr>\n",
       "      <th>14</th>\n",
       "      <td>13</td>\n",
       "      <td>20</td>\n",
       "      <td>13_human behavior_cognitive model_cognitive_be...</td>\n",
       "      <td>[human behavior, cognitive model, cognitive, b...</td>\n",
       "      <td>[efficient social interaction human developed ...</td>\n",
       "    </tr>\n",
       "    <tr>\n",
       "      <th>15</th>\n",
       "      <td>14</td>\n",
       "      <td>17</td>\n",
       "      <td>14_robotics_automated_completion system_contro...</td>\n",
       "      <td>[robotics, automated, completion system, contr...</td>\n",
       "      <td>[although neutrosophic soft set quite successf...</td>\n",
       "    </tr>\n",
       "    <tr>\n",
       "      <th>16</th>\n",
       "      <td>15</td>\n",
       "      <td>17</td>\n",
       "      <td>15_font classification_thai typeface_typeface_...</td>\n",
       "      <td>[font classification, thai typeface, typeface,...</td>\n",
       "      <td>[background advancing font production environm...</td>\n",
       "    </tr>\n",
       "    <tr>\n",
       "      <th>17</th>\n",
       "      <td>16</td>\n",
       "      <td>15</td>\n",
       "      <td>16_pigment_painting_reflectance_gall ink</td>\n",
       "      <td>[pigment, painting, reflectance, gall ink, ink...</td>\n",
       "      <td>[exhibition matisse red studio allowed depth s...</td>\n",
       "    </tr>\n",
       "    <tr>\n",
       "      <th>18</th>\n",
       "      <td>17</td>\n",
       "      <td>13</td>\n",
       "      <td>17_correspondence image_rigid registration_com...</td>\n",
       "      <td>[correspondence image, rigid registration, com...</td>\n",
       "      <td>[present simple fast robust complete framework...</td>\n",
       "    </tr>\n",
       "    <tr>\n",
       "      <th>19</th>\n",
       "      <td>18</td>\n",
       "      <td>12</td>\n",
       "      <td>18_romanian manuscript_literature bulgarian_ma...</td>\n",
       "      <td>[romanian manuscript, literature bulgarian, ma...</td>\n",
       "      <td>[paper includes edition recently discovered se...</td>\n",
       "    </tr>\n",
       "    <tr>\n",
       "      <th>20</th>\n",
       "      <td>19</td>\n",
       "      <td>11</td>\n",
       "      <td>19_among adolescent_based survey_adolescent_on...</td>\n",
       "      <td>[among adolescent, based survey, adolescent, o...</td>\n",
       "      <td>[article present finding three year community ...</td>\n",
       "    </tr>\n",
       "    <tr>\n",
       "      <th>21</th>\n",
       "      <td>20</td>\n",
       "      <td>10</td>\n",
       "      <td>20_indigenous research_technology indigenous_i...</td>\n",
       "      <td>[indigenous research, technology indigenous, i...</td>\n",
       "      <td>[yollatin small letter engu elder academic jos...</td>\n",
       "    </tr>\n",
       "    <tr>\n",
       "      <th>22</th>\n",
       "      <td>21</td>\n",
       "      <td>10</td>\n",
       "      <td>21_heuristic search_extracting heuristic_searc...</td>\n",
       "      <td>[heuristic search, extracting heuristic, searc...</td>\n",
       "      <td>[aips98 planning contest hsp planner showed he...</td>\n",
       "    </tr>\n",
       "    <tr>\n",
       "      <th>23</th>\n",
       "      <td>22</td>\n",
       "      <td>8</td>\n",
       "      <td>22_game immersion_game genre_game study_recogn...</td>\n",
       "      <td>[game immersion, game genre, game study, recog...</td>\n",
       "      <td>[widely played world video game led thriving i...</td>\n",
       "    </tr>\n",
       "    <tr>\n",
       "      <th>24</th>\n",
       "      <td>23</td>\n",
       "      <td>8</td>\n",
       "      <td>23_digital research_technological_digital huma...</td>\n",
       "      <td>[digital research, technological, digital huma...</td>\n",
       "      <td>[paper discusses development digital intellect...</td>\n",
       "    </tr>\n",
       "    <tr>\n",
       "      <th>25</th>\n",
       "      <td>24</td>\n",
       "      <td>8</td>\n",
       "      <td>24_schema coordination_approach schema_interop...</td>\n",
       "      <td>[schema coordination, approach schema, interop...</td>\n",
       "      <td>[supply chain partnering one approach decreasi...</td>\n",
       "    </tr>\n",
       "    <tr>\n",
       "      <th>26</th>\n",
       "      <td>25</td>\n",
       "      <td>7</td>\n",
       "      <td>25_recognition ocr_character recognition_text ...</td>\n",
       "      <td>[recognition ocr, character recognition, text ...</td>\n",
       "      <td>[seal small coin shaped artifact mostly made l...</td>\n",
       "    </tr>\n",
       "    <tr>\n",
       "      <th>27</th>\n",
       "      <td>26</td>\n",
       "      <td>7</td>\n",
       "      <td>26_handwriting physical_effect handwriting_usi...</td>\n",
       "      <td>[handwriting physical, effect handwriting, usi...</td>\n",
       "      <td>[background digital text medium mail instant m...</td>\n",
       "    </tr>\n",
       "    <tr>\n",
       "      <th>28</th>\n",
       "      <td>27</td>\n",
       "      <td>6</td>\n",
       "      <td>27_public transport_mobility_transport_navigation</td>\n",
       "      <td>[public transport, mobility, transport, naviga...</td>\n",
       "      <td>[population gradually aging elderly people int...</td>\n",
       "    </tr>\n",
       "    <tr>\n",
       "      <th>29</th>\n",
       "      <td>28</td>\n",
       "      <td>5</td>\n",
       "      <td>28_speech gesture_speech signal_communicative ...</td>\n",
       "      <td>[speech gesture, speech signal, communicative ...</td>\n",
       "      <td>[paper introduces novel captioning method part...</td>\n",
       "    </tr>\n",
       "    <tr>\n",
       "      <th>30</th>\n",
       "      <td>29</td>\n",
       "      <td>5</td>\n",
       "      <td>29_letter interface_alphabet supplementation_s...</td>\n",
       "      <td>[letter interface, alphabet supplementation, s...</td>\n",
       "      <td>[fingerspelling process communicating letter s...</td>\n",
       "    </tr>\n",
       "  </tbody>\n",
       "</table>\n",
       "</div>"
      ],
      "text/plain": [
       "    Topic  Count                                               Name  \\\n",
       "0      -1    162             -1_corpus_research_technology_language   \n",
       "1       0    141  0_word recognition_word frequency_lexical deci...   \n",
       "2       1    107  1_description logic_logic program_argumentatio...   \n",
       "3       2     62  2_speech system_speech recognition_automatic s...   \n",
       "4       3     44  3_linguistic_discourse analysis_communicative_...   \n",
       "5       4     40  4_design medium_techno aesthetic_artistic prac...   \n",
       "6       5     36  5_sentiment analysis_opinion term_term opinion...   \n",
       "7       6     36  6_authorship_analysis text_authorship attribut...   \n",
       "8       7     26  7_preference ordering_preference function_pref...   \n",
       "9       8     26  8_translation system_machine translation_trans...   \n",
       "10      9     24  9_investigation publisher_retracted article_di...   \n",
       "11     10     24  10_based instruction_teacher instruction_teach...   \n",
       "12     11     21  11_historical architectural_land use_architect...   \n",
       "13     12     20  12_word processor_writing system_text speech_text   \n",
       "14     13     20  13_human behavior_cognitive model_cognitive_be...   \n",
       "15     14     17  14_robotics_automated_completion system_contro...   \n",
       "16     15     17  15_font classification_thai typeface_typeface_...   \n",
       "17     16     15           16_pigment_painting_reflectance_gall ink   \n",
       "18     17     13  17_correspondence image_rigid registration_com...   \n",
       "19     18     12  18_romanian manuscript_literature bulgarian_ma...   \n",
       "20     19     11  19_among adolescent_based survey_adolescent_on...   \n",
       "21     20     10  20_indigenous research_technology indigenous_i...   \n",
       "22     21     10  21_heuristic search_extracting heuristic_searc...   \n",
       "23     22      8  22_game immersion_game genre_game study_recogn...   \n",
       "24     23      8  23_digital research_technological_digital huma...   \n",
       "25     24      8  24_schema coordination_approach schema_interop...   \n",
       "26     25      7  25_recognition ocr_character recognition_text ...   \n",
       "27     26      7  26_handwriting physical_effect handwriting_usi...   \n",
       "28     27      6  27_public transport_mobility_transport_navigation   \n",
       "29     28      5  28_speech gesture_speech signal_communicative ...   \n",
       "30     29      5  29_letter interface_alphabet supplementation_s...   \n",
       "\n",
       "                                       Representation  \\\n",
       "0   [corpus, research, technology, language, metho...   \n",
       "1   [word recognition, word frequency, lexical dec...   \n",
       "2   [description logic, logic program, argumentati...   \n",
       "3   [speech system, speech recognition, automatic ...   \n",
       "4   [linguistic, discourse analysis, communicative...   \n",
       "5   [design medium, techno aesthetic, artistic pra...   \n",
       "6   [sentiment analysis, opinion term, term opinio...   \n",
       "7   [authorship, analysis text, authorship attribu...   \n",
       "8   [preference ordering, preference function, pre...   \n",
       "9   [translation system, machine translation, tran...   \n",
       "10  [investigation publisher, retracted article, d...   \n",
       "11  [based instruction, teacher instruction, teach...   \n",
       "12  [historical architectural, land use, architect...   \n",
       "13  [word processor, writing system, text speech, ...   \n",
       "14  [human behavior, cognitive model, cognitive, b...   \n",
       "15  [robotics, automated, completion system, contr...   \n",
       "16  [font classification, thai typeface, typeface,...   \n",
       "17  [pigment, painting, reflectance, gall ink, ink...   \n",
       "18  [correspondence image, rigid registration, com...   \n",
       "19  [romanian manuscript, literature bulgarian, ma...   \n",
       "20  [among adolescent, based survey, adolescent, o...   \n",
       "21  [indigenous research, technology indigenous, i...   \n",
       "22  [heuristic search, extracting heuristic, searc...   \n",
       "23  [game immersion, game genre, game study, recog...   \n",
       "24  [digital research, technological, digital huma...   \n",
       "25  [schema coordination, approach schema, interop...   \n",
       "26  [recognition ocr, character recognition, text ...   \n",
       "27  [handwriting physical, effect handwriting, usi...   \n",
       "28  [public transport, mobility, transport, naviga...   \n",
       "29  [speech gesture, speech signal, communicative ...   \n",
       "30  [letter interface, alphabet supplementation, s...   \n",
       "\n",
       "                                  Representative_Docs  \n",
       "0   [network analysis historical correspondence fr...  \n",
       "1   [hebrew semitic language word formed non conca...  \n",
       "2   [paper tackle fundamental question arising loo...  \n",
       "3   [ever increasing volume audio data available o...  \n",
       "4   [study situated field pragmatic fiction audio ...  \n",
       "5   [article discusses three composition autonomou...  \n",
       "6   [past decade artificial intelligence ai techni...  \n",
       "7   [kepler book founded 1955 menlo park ca usa ma...  \n",
       "8   [existing literature social preference either ...  \n",
       "9   [important extension conventional text neural ...  \n",
       "10  [last two decade library archive natural histo...  \n",
       "11  [feedback researcher given little attention ad...  \n",
       "12  [past twenty year archaeological survey change...  \n",
       "13  [paper attempt define limitation present bilin...  \n",
       "14  [efficient social interaction human developed ...  \n",
       "15  [although neutrosophic soft set quite successf...  \n",
       "16  [background advancing font production environm...  \n",
       "17  [exhibition matisse red studio allowed depth s...  \n",
       "18  [present simple fast robust complete framework...  \n",
       "19  [paper includes edition recently discovered se...  \n",
       "20  [article present finding three year community ...  \n",
       "21  [yollatin small letter engu elder academic jos...  \n",
       "22  [aips98 planning contest hsp planner showed he...  \n",
       "23  [widely played world video game led thriving i...  \n",
       "24  [paper discusses development digital intellect...  \n",
       "25  [supply chain partnering one approach decreasi...  \n",
       "26  [seal small coin shaped artifact mostly made l...  \n",
       "27  [background digital text medium mail instant m...  \n",
       "28  [population gradually aging elderly people int...  \n",
       "29  [paper introduces novel captioning method part...  \n",
       "30  [fingerspelling process communicating letter s...  "
      ]
     },
     "execution_count": 4,
     "metadata": {},
     "output_type": "execute_result"
    }
   ],
   "source": [
    "my_model.get_topic_info()"
   ]
  },
  {
   "cell_type": "markdown",
   "id": "c921a545",
   "metadata": {},
   "source": [
    "Visualize documents and their topics in 2D."
   ]
  },
  {
   "cell_type": "code",
   "execution_count": 6,
   "id": "1d85e78b",
   "metadata": {},
   "outputs": [
    {
     "data": {
      "application/vnd.jupyter.widget-view+json": {
       "model_id": "d0516b507bd34389991da9bcab72dea3",
       "version_major": 2,
       "version_minor": 0
      },
      "text/plain": [
       "Batches:   0%|          | 0/30 [00:00<?, ?it/s]"
      ]
     },
     "metadata": {},
     "output_type": "display_data"
    },
    {
     "data": {
      "application/vnd.plotly.v1+json": {
       "config": {
        "plotlyServerURL": "https://plot.ly"
       },
       "data": [
        {
         "hoverinfo": "text",
         "marker": {
          "color": "#CFD8DC",
          "opacity": 0.5,
          "size": 5
         },
         "mode": "markers+text",
         "name": "other",
         "showlegend": false,
         "type": "scattergl",
         "x": {
          "bdata": "8MsvQRWZK0E8KxlBwD8nQRlnPUExAj1B/0QHQePGOEEGNTNBvMRFQQB6NkGUcD1B9SBHQVqY9kAnTDdBUDIxQbmLUEHcmKdAWp/2QAdWAkFESBRBZgM1QdAU7kDQhDpBSFsuQV8mM0G5/TxBDVhJQRDFDkH96T1BMIhCQW7iTkGDlkZBXC82QVI4MkGDjTpBEoZBQYWpNkHxF0ZBTK0HQVQTLUG6SeVAl1cDQVafNkGRGjVBE4g7Qd5sL0HrEThBqHwvQaObBEF3FChBM9gvQWXNLkG+/CVBVLMuQbOLHkE18yBB3VArQbzfS0Et5ChB7EMzQeJDKUHfVihBBJoyQS6UOUFpDC1Bo0oeQRhhLEFHwU5BXAg9QRmfOUHdLTxBhyUPQaliT0Hiwy9BVW0AQcQ+HUGzjkZBpIBMQTDAB0EiPTlB/Xg5QWEHMkGR5SZByVsdQRFVykD46DJByNorQaTVt0AAWURBCb4LQRpvRUGKfT5BcFkvQVkoLUHHjEBBfPpHQVp+OEHkqxVBVyMsQbXEOkE7PCJB6UcxQa18pUB3uUhBbwMxQSnSHkEgGy1BFDi/QOo5ykBkUS9BwS4bQc7cPkHkhCFBdvRBQUHyL0GJ0zdB0XU4QTSfI0Gh2CxBeWU5QcIX9kAHCDRB+cYyQVc5I0HqjzxB/OsyQThpREEahB9B65opQb2L7UDkMypByaQ1QVFdIkEtcjJBD9wFQZlSJ0HKhx5B+q88QUIQE0E5sjJBFlkFQRR1FUFXYjJBabs7QSkaLkF6Z+1AlswSQV6UzUACtDRBO3ExQbdRLUHFlENBMKwqQYOfKkEjMxNBw4vuQC6rJUEPuTlBqNM9QR0MM0F3M81AAoEoQQ==",
          "dtype": "f4"
         },
         "y": {
          "bdata": "oRqqQGFmX0BcbEpAvjWOQFmhZkCORXa+05svPSkqdkDm53JAsLJBQJL0k0Bg6hZAGPg5P+FtYD/kp4RAJex2QKJQir5JjAU/NnheP8+2HkBCmVhAtoiCQO2TlT8bNyJADAwjQPzFJj9Vso5AROCTP3ieSEDWhRVAUyFYQGm7rT/xTzA/+QhTQBArikDpM50/YjaQQKbgFkBrrSJADXcRvxkjlEBhK6g/SK64Pxu6FUDGmXBAszoZQDJSqUB7WYpA19JtQMP88D/nYklAjbOpQJnrvT/JPz9AKXG4PwuPkT/Ch5JAkeGFQH+T1T/vb3lA3VohPzn3MECbK4tAchNlQKGeIEBAsqJA47yVQNKwKECfv6++4WMYQKvRcUDoAyRAHu2RP9oSs74EGapAzSS3P4iTDEBp96g/vxP1PYdRoj9RowlAu2V2QAhaJECe1Y5AgNWKP2zzmj/pLJtAKG5aQI/NgT9JsAY+/We9P2TVEECqCnRAIWSpQDL6Pz9QeoBAIXgQQASHu77CxKBAyiA+P8D5DEBZhmZADRIkQKt7GD8liGg+v+B4QBoHlT/xQIxAFtDsPml35j9A2ShAIfSWQBe+d0D6SuK+iFN8QHZKiUBkVmc/GGV8QOOTaUATCl1Ac+V0QJGCZT+OxJlAEUh2QOBH5j9JmXBA8vBaQCkBgT6qb5Y/BLd5QHO2jT/qenNAOL+QQHEWvT9+LG1ATp+dP/9LYkAFbpA/bw9cQJKiokBFeVdAXDyAvO7DoUBwKI1A2cIXQKMEKEDoE5A/iHhMQOvp6z9IFZZAnGJ/QPmzxD8LUS5AajJIQO3nXUDguUtAqA+QP3CFj0BPeyFADbQ9QIkci0Ah0ew/a8opQA==",
          "dtype": "f4"
         }
        },
        {
         "hoverinfo": "text",
         "marker": {
          "opacity": 0.5,
          "size": 5
         },
         "mode": "markers+text",
         "name": "0_word recognition_word frequency_lexical decision",
         "text": [
          "",
          "",
          "",
          "",
          "",
          "",
          "",
          "",
          "",
          "",
          "",
          "",
          "",
          "",
          "",
          "",
          "",
          "",
          "",
          "",
          "",
          "",
          "",
          "",
          "",
          "",
          "",
          "",
          "",
          "",
          "",
          "",
          "",
          "",
          "",
          "",
          "",
          "",
          "",
          "",
          "",
          "",
          "",
          "",
          "",
          "",
          "",
          "",
          "",
          "",
          "",
          "",
          "",
          "",
          "",
          "",
          "",
          "",
          "",
          "",
          "",
          "",
          "",
          "",
          "",
          "",
          "",
          "",
          "",
          "",
          "",
          "",
          "",
          "",
          "",
          "",
          "",
          "",
          "",
          "",
          "",
          "",
          "",
          "",
          "",
          "",
          "",
          "",
          "",
          "",
          "",
          "",
          "",
          "",
          "",
          "",
          "",
          "",
          "",
          "",
          "",
          "",
          "",
          "",
          "",
          "",
          "",
          "",
          "",
          "",
          "",
          "",
          "",
          "",
          "",
          "",
          "",
          "",
          "",
          "",
          "",
          "",
          "",
          "",
          "",
          "",
          "",
          "",
          "",
          "",
          "",
          "",
          "",
          "",
          "",
          "",
          "",
          "",
          "",
          "",
          ""
         ],
         "textfont": {
          "size": 12
         },
         "type": "scattergl",
         "x": {
          "bdata": "zbI1QVoNOkE+kS1BC8grQd0BLEFc8StBFfMxQZIrMUHnOi5BKDAxQUsLO0Gx7jFB0AY4Qea5N0HMdzFB6uo5QQJQOUGaiD1BltYjQa6xOUGaKCdBtxU9QaJ5NEECRjNBl4I+QfVeN0FZODZBtPkxQReMLkHEUi5BdgQ6QZuXK0G0ii9BGIA0QU4yIkFk4DNBhy8zQetYOEHIaCxBY6QoQTg0PkGshjVBhT8xQQafK0Fe/jBBoTgzQcv8MEFv2zdB5XYtQcnbMkGUziFBJ7o4QYsdLkHLYjNBmmE0Qd/KLkEidTxB3xA4QW1XMkGCpyhBfcMxQVwqOUHajDhB+as0QZtBMUHwFC9B1Wc5QdkgIUE+ZSlB1McuQRrMLEGWpDlBGZ03QWW/M0Gx/jxBAag3QQpfLkE8KTlBQvk3QTaZMkEUmypBcz80QRQKN0HUVCRBazo6QcXWKEGUcClBLD4xQSvhNkEtAjlBa7o8QbeOMkHkcjNBkJQzQXlxMUGBuCtB7kYrQSDtOEHGcixBjF8vQTe7PUGnzjNB8RM0QcjaK0H+DzxB8zIsQVFOMUGQ6TpBBos6QXdXNEGNjkBBR/cwQRm1MkEofyNBrgAzQeAMMEGWLCtBjmspQRJwMUEodz1B3aA+QZ+oNUFNMz5BMJQxQXu0PEFo8jhBffMxQSN9MUHoqjJBSvczQTdfKkHBADdBuEozQVBDNEGGmj5BHqsqQfk6NUHgACxBmEgqQWJ9PkHBRj1B",
          "dtype": "f4"
         },
         "y": {
          "bdata": "h1kRvmqw574m5Ii/oAmGvzH1jr77Hc++Kqmvv4/YT7/ektG+AQ34vsBd0r72P5i//zlBv6qPOb9eSDa/KlOPv0eJnb+YxSq/dEMjvuS9ob+5Bkq+FDHsvgwyg7/+orq/qnIOv9+Ssr8Oo0q+uoiwv1B5Rr/R512/Ciikv/kk574yERK/Ju2xvywq8L6fvae9Uk3LvRwFO7+72IS/9zhBv5UlOL/9wrK+U3umv0QBrL5GKLe//5Frv+gjl76WbLe+z+2Rv0tHb7+6iwW/DlmRv1e6LL/DNkG/0qYKviXIlb97Rwq/BM+bv04ymr8IBV6+J/OgvlFko7/ns0+/UUrfPkRzS7/xkGW/lJqvv7nP875Cuzi/oLVBPryZOT9sEkG/jidqv8Ftvr9blz6/nAW2v/f4jr9MspC/k+Nuv0ByXr6GrV+/5dqzvzsZQb/lgzq+ZHihvoUmQr+co0q/CKApv+zxT78xvVK/8JLVvlhT6j7xSJe/zvO2v8O1O7+kNDE/J5ETv7u6nb8Y+7u+7rdVPsdlCb9+0iC/5YOyvzuIfr8l3fu+2lNtvntUMr+YbRK/TfOcv+tLur8qVeO+urGev4G7iL8Bcde+NWq7vyJfJb86vDS/jORBvza5lL6eSg2/mtYVv1Toir9cdxi/yfslv/xTWr/cSkC/o4O+v07C/7yl9Ga/iDuCvz6bhL5rcVO/Zxy9v0XnGL9eIxu/Ot3svqI0XL9KIs++JtIZvxHUer8TDGO/",
          "dtype": "f4"
         }
        },
        {
         "hoverinfo": "text",
         "marker": {
          "opacity": 0.5,
          "size": 5
         },
         "mode": "markers+text",
         "name": "1_description logic_logic program_argumentation framework",
         "text": [
          "",
          "",
          "",
          "",
          "",
          "",
          "",
          "",
          "",
          "",
          "",
          "",
          "",
          "",
          "",
          "",
          "",
          "",
          "",
          "",
          "",
          "",
          "",
          "",
          "",
          "",
          "",
          "",
          "",
          "",
          "",
          "",
          "",
          "",
          "",
          "",
          "",
          "",
          "",
          "",
          "",
          "",
          "",
          "",
          "",
          "",
          "",
          "",
          "",
          "",
          "",
          "",
          "",
          "",
          "",
          "",
          "",
          "",
          "",
          "",
          "",
          "",
          "",
          "",
          "",
          "",
          "",
          "",
          "",
          "",
          "",
          "",
          "",
          "",
          "",
          "",
          "",
          "",
          "",
          "",
          "",
          "",
          "",
          "",
          "",
          "",
          "",
          "",
          "",
          "",
          "",
          "",
          "",
          "",
          "",
          "",
          "",
          "",
          "",
          "",
          "",
          "",
          "",
          "",
          "",
          "",
          ""
         ],
         "textfont": {
          "size": 12
         },
         "type": "scattergl",
         "x": {
          "bdata": "Fp2PQGK4k0CGCalAMu6QQOXem0DocaFAG3KfQFpevkC527VAgkKvQEyWlkDASJtAg0ekQOfxo0B3kI5A8QaUQKC6kUDHC6BAY1aiQB9Zl0Bsx7dAzY6zQPSAmkDb6aFA/c2SQHunj0A22qVAIIKQQP8ImEChR7NAATGSQKkKm0BnQppAksiPQPUwsUCCcJRApPG+QHtflEDkJ59A55GUQHLikED67ZpAFSGUQOQItEDffq1ANRmVQEvmmEAhcq1AAwibQMQkmUB+u61Ag1SRQE63lEB0r59A2VKOQBxKlUCK+ZJAW6WSQNwspEA4L5dA99mtQLkJoEBy2J9AbtySQFkRs0CWqpRA1GePQHFSl0BEeZJAIa6TQCOOkUCqfZlAYWCQQI1DlEABnq5AQxSWQOEZlECUiJZA3CyyQBH/kkAo1pNA/66VQBq6mUC+DrZAIV2YQMRklEAroY9AsoKfQO/xkkCJDZ5AnOqZQJh9oEDhhqxA6Ay2QHndnkCjMpVAgX2QQEsmsEDzx6tAFgSgQEYXnEAWTplADuKxQN8IlEAKNKNASFehQE4kj0A=",
          "dtype": "f4"
         },
         "y": {
          "bdata": "HunQP89y1T+nejI/sm7EP1gxhD+9caE/cCeOP7I/7T4s9Q4/YymPP9eobD/P1Gw/6iemP2ZbmD+A/5Y/vyXJP8K7nT/mEp8/h0SpP6+ZQD/U2QU/Jy8xP9FrWz+s/lw/mtO2PxeGnD8ZWoM/Q3PKP7RYtz/PNSQ/o2LRP5/Moj8I9o0/ZwW5PwLoGz8sCbo/I1btPsnRpD8DrJg/7AtuPxZQoD9L9p0/v0TWP/OOGz+Alkg/oJ23P8PTvD+qeoo//byQP34zVz9l8pY/F5PXPkObrT8L71M/p++vP3hnWz8mD74/BMK+P25mkz8UQ7M/mVQeP2c/dD/WeJA/Qx6zP4nRMz+WWdw/nJfQP/20Wz9Zo7o+FlFmPz7fwz82sVg/XI+eP9Esuj9DMpM/LojbP9L+tz/TVcQ/e08kP3XvxT9+MbY/4koNPxUAqz/HJhM/8rdUPwartD+se7A/X4OYPyd1wT8bGZs/S2plP+FIgT+CFkU/q+QIP3Dznz8B3ys/2KPpPu3okD/FTQI/iDJNP5Cchz8QJFs/2YkyP8GRtT+BEFo/HtWUP3e6zz8=",
          "dtype": "f4"
         }
        },
        {
         "hoverinfo": "text",
         "marker": {
          "opacity": 0.5,
          "size": 5
         },
         "mode": "markers+text",
         "name": "2_speech system_speech recognition_automatic speech",
         "text": [
          "",
          "",
          "",
          "",
          "",
          "",
          "",
          "",
          "",
          "",
          "",
          "",
          "",
          "",
          "",
          "",
          "",
          "",
          "",
          "",
          "",
          "",
          "",
          "",
          "",
          "",
          "",
          "",
          "",
          "",
          "",
          "",
          "",
          "",
          "",
          "",
          "",
          "",
          "",
          "",
          "",
          "",
          "",
          "",
          "",
          "",
          "",
          "",
          "",
          "",
          "",
          "",
          "",
          "",
          "",
          "",
          "",
          "",
          "",
          "",
          "",
          ""
         ],
         "textfont": {
          "size": 12
         },
         "type": "scattergl",
         "x": {
          "bdata": "jYNXQbrsU0F1o1FBthpOQdNDUkE7D1FBAfhSQal9WkHorlJBIxlSQZeXW0HcIFpBs65QQak8VUFjxVhBvYBXQcn5V0HnQFVBNqpYQcTaVEGUF1VBhSpYQVWKT0GiRVhBR6RRQS5RT0GDnFdB6AlPQb2DV0FZ5lNB+ulNQUjTVUH/alNB6MFZQQA5U0EpVFtBKJxQQRbRV0HDkk9B+OVRQX0zTUEvOFdBmhFQQc/oWEGe2VZBj9FVQXSPVkH+y1VBK7ZXQZ8tW0GjX1ZBbHBZQSVuWUGAqlhB6TJWQfXWVUFYWk9BC9BVQSYUWkF/cFhBMuZUQfpvV0E=",
          "dtype": "f4"
         },
         "y": {
          "bdata": "/tsrPphy7z6Er4G+6JgIP5GQtD7I5gc/9icNP0s9pDzb9/4+lFdzvqBFOT38WcI9lGkIP5Dj1D6J5PA9V4WyPks5CT+dP/4+TNhpPuicAz+THAA/5A/GPj8OjT40JCo+B/IlPyItOD+6SCi9g2QeP8G3fT52H8w+NNhTP9frrD5M1yS+cjIkPgTlwT723M0906kTPysPaD4dGk0+RgRgvuuojD6w4pi9mJuzPvwFE721kZ091x7QPgEyUT2ZUv4++DiOPul+hj0x3Ag/nMg8PqN2DT56b7E9VYSAPpPU5j6lQAU/XUyYvUrHdzyZd5Y+njQDP/6onj4=",
          "dtype": "f4"
         }
        },
        {
         "hoverinfo": "text",
         "marker": {
          "opacity": 0.5,
          "size": 5
         },
         "mode": "markers+text",
         "name": "3_linguistic_discourse analysis_communicative",
         "text": [
          "",
          "",
          "",
          "",
          "",
          "",
          "",
          "",
          "",
          "",
          "",
          "",
          "",
          "",
          "",
          "",
          "",
          "",
          "",
          "",
          "",
          "",
          "",
          "",
          "",
          "",
          "",
          "",
          "",
          "",
          "",
          "",
          "",
          "",
          "",
          "",
          "",
          "",
          "",
          "",
          "",
          "",
          "",
          ""
         ],
         "textfont": {
          "size": 12
         },
         "type": "scattergl",
         "x": {
          "bdata": "fzk+QT4vN0G+GEJBgZk7QWkiPUFyZEJBGL5BQUwLOkEh8UJBHcNBQS3JP0EVm0FB0XdEQaOdMkHfNERBDQ9BQSn2PUGtPkNBcvM8QfqUQUHbnUFBDW5EQeIdQ0FTBkNBEuU9QcKnPkH43UNBfddDQUyiPUEw00FBs1dCQUv/REG3mzxBceBAQThhO0FlJD9BCq1BQeNOOkFT1kFBBWdBQUaRQ0EjUkJBCAxAQUwUQ0E=",
          "dtype": "f4"
         },
         "y": {
          "bdata": "8hRYQNO2SUBoHVtAXORGQMOZJkCmYS9Aa1U2QNBmQ0DtmEVAU9U4QOBvP0AjmT9A+XRJQL4JPkBO0ktATZVfQI73LEAQtU9AUo0jQOApSkAo8EZAOuZFQJR6UEAitUNAa5pOQLu2ZUDn4kRAp0tOQGQvKEDVxlVADnJFQC8QSECP8yhAr4c0QPWORkCJ4ztAeuRFQM1yR0DgdjRAVMNOQBtTR0D060dAwfJHQBFdT0A=",
          "dtype": "f4"
         }
        },
        {
         "hoverinfo": "text",
         "marker": {
          "opacity": 0.5,
          "size": 5
         },
         "mode": "markers+text",
         "name": "4_design medium_techno aesthetic_artistic practice",
         "text": [
          "",
          "",
          "",
          "",
          "",
          "",
          "",
          "",
          "",
          "",
          "",
          "",
          "",
          "",
          "",
          "",
          "",
          "",
          "",
          "",
          "",
          "",
          "",
          "",
          "",
          "",
          "",
          "",
          "",
          "",
          "",
          "",
          "",
          "",
          "",
          "",
          "",
          "",
          "",
          ""
         ],
         "textfont": {
          "size": 12
         },
         "type": "scattergl",
         "x": {
          "bdata": "JnAGQfUMBEFAuAdBWPQDQaG2DEF9UQRBKMEDQf1TA0GeYQdBbSYRQauWA0HdIQ1BidULQd+VBEFNXg9B9dENQehxBEHMnQZBhoMDQdfjC0EvqgRB3AENQZ1xA0Fg4BBBuQMKQfPzAkEPRARBaiIMQUO3EEFtggRBx4YDQd1qDUGk+glBU+ELQcPeCUGUtAtBCl4DQQN5B0GfpARByUUMQQ==",
          "dtype": "f4"
         },
         "y": {
          "bdata": "y25KQLqxVkAp519AlsNVQHjQVECxul1AbdBhQAZ5ZECtzUtAkAYvQBgCWUDY2UxAc7BQQEeXTEDnvjpAzkJJQNRMZUCS9lVA/xheQDjJUkCBT2JA0y1RQOpaVED7AkhA3EluQOPAUkAXzVVAYNhwQAmBL0CQuV1AqpQ6QHJuSECK6VhAzbpPQJLlQECLNm9A6o4/QJhsT0D/XVFAU9xQQA==",
          "dtype": "f4"
         }
        },
        {
         "hoverinfo": "text",
         "marker": {
          "opacity": 0.5,
          "size": 5
         },
         "mode": "markers+text",
         "name": "5_sentiment analysis_opinion term_term opinion",
         "text": [
          "",
          "",
          "",
          "",
          "",
          "",
          "",
          "",
          "",
          "",
          "",
          "",
          "",
          "",
          "",
          "",
          "",
          "",
          "",
          "",
          "",
          "",
          "",
          "",
          "",
          "",
          "",
          "",
          "",
          "",
          "",
          "",
          "",
          "",
          "",
          ""
         ],
         "textfont": {
          "size": 12
         },
         "type": "scattergl",
         "x": {
          "bdata": "lLlJQdnsTEHlJU5B8yNAQcGPOkFFNkBBVEBKQZgzPEE/sUtB/wtNQesPR0E+gEZBxwY/QQtVREHNw05BFrdFQfakPkFauEZBazNDQffCREFDlEVBNoFFQfMMTUFc50VB6FJFQQZHR0E1SUJBNJVIQUuoSEGciUhBjLZFQSpmREG8x0BBJFE9QZ5GSUGH3T5B",
          "dtype": "f4"
         },
         "y": {
          "bdata": "/U2iP0M0rD/l1p0/i9rBP7xP9z/IXwpAgEW1Pymukj8UTas/OOySP54J0T/wYtk/Ni/8P1Pyvj/2RKE/5xe5P3udAUCt1OA/Kb3MPyE06T9husE/SCXdPw/ssj/UsNA/8ka+Pz2b0z8OCco/U/GmP37hOz9hSzw/e5G/P5ke5z/ehbs/P34FQE65mD+h5/0/",
          "dtype": "f4"
         }
        },
        {
         "hoverinfo": "text",
         "marker": {
          "opacity": 0.5,
          "size": 5
         },
         "mode": "markers+text",
         "name": "6_authorship_analysis text_authorship attribution",
         "text": [
          "",
          "",
          "",
          "",
          "",
          "",
          "",
          "",
          "",
          "",
          "",
          "",
          "",
          "",
          "",
          "",
          "",
          "",
          "",
          "",
          "",
          "",
          "",
          "",
          "",
          "",
          "",
          "",
          "",
          "",
          "",
          "",
          "",
          "",
          "",
          ""
         ],
         "textfont": {
          "size": 12
         },
         "type": "scattergl",
         "x": {
          "bdata": "vsA6QQD/P0HwOEVBRGo+Qfn4OkGdLkVB6tlEQcmzP0G0IjpBhk0+QRFSPkEmcUNBtUA+QUptQUEKlEJBG348QRwyQUHAFUVBsxg2QeukQkGfIDpB1Yw+QTDiREEUaURBeF88QWBDOkHo40BBscY7QU0FEEG6LT9BgEs6QVnmO0FsKT9BRKNAQc01QEHQrURB",
          "dtype": "f4"
         },
         "y": {
          "bdata": "4AaYQHkwlUDcYpxAM9aVQKExl0CemphAEoibQLt8oEBgKZVAoP2UQNuVlUCxV5pA3WWVQDJ8k0AZU5xArW2UQA+En0B46ZtANbKOQALwlkBqYpdAAzufQDycnEAJKptA43GRQE6QlEA6h5JAggmaQG/RcUDOjZ9A9mqUQGunnUAaoZVAfCuXQOGRlkAgL5tA",
          "dtype": "f4"
         }
        },
        {
         "hoverinfo": "text",
         "marker": {
          "opacity": 0.5,
          "size": 5
         },
         "mode": "markers+text",
         "name": "7_preference ordering_preference function_preference",
         "text": [
          "",
          "",
          "",
          "",
          "",
          "",
          "",
          "",
          "",
          "",
          "",
          "",
          "",
          "",
          "",
          "",
          "",
          "",
          "",
          "",
          "",
          "",
          "",
          "",
          "",
          ""
         ],
         "textfont": {
          "size": 12
         },
         "type": "scattergl",
         "x": {
          "bdata": "HeWDQMUEhkD+MYRA+r+FQOFMtkD5e4VAoM+GQLGPhEBw/YVAadSCQNFwhUAKtoVAyiGIQOekgkD8tIVAarKHQGlehEDf8IZArDSIQErvhUBBwIhAibuDQIpOgkAcvYNAgFCJQMcehEA=",
          "dtype": "f4"
         },
         "y": {
          "bdata": "ztDzvvEgyL6dYc++0CHMvjJ9gD+bVNq+vr6yvrkW1b7ywde+C+zovn841r4/G8W+dGWWvsngAL+r0ca+3cSovmxX4r7dBKy+U4Ocvgd4074klYa+k+HvvrVMA7/CTu2+xNN1vnE45r4=",
          "dtype": "f4"
         }
        },
        {
         "hoverinfo": "text",
         "marker": {
          "opacity": 0.5,
          "size": 5
         },
         "mode": "markers+text",
         "name": "8_translation system_machine translation_translation application",
         "text": [
          "",
          "",
          "",
          "",
          "",
          "",
          "",
          "",
          "",
          "",
          "",
          "",
          "",
          "",
          "",
          "",
          "",
          "",
          "",
          "",
          "",
          "",
          "",
          "",
          "",
          ""
         ],
         "textfont": {
          "size": 12
         },
         "type": "scattergl",
         "x": {
          "bdata": "N/4CQTQtA0HLnQFBifwDQTkVBEGR1gRBQ1IEQT89BEEYtQRBnmIFQfFLA0GWCwVBvVcEQd46A0E/PANBzaIEQcuLA0Hl/ABBo48EQXTRA0GNfAVBSt0DQTVrA0Eq9QJBqiwFQXluBEE=",
          "dtype": "f4"
         },
         "y": {
          "bdata": "Enouv8YRML8l3wC/Q/w9v1QJRb9sMzu/PJQ7vx/qQr/lzUW/NyRUv2vPMr85hjq/8+lDv154M7/prk6/W71Gv/sjRr+89Iy+tQJGvyfoR79xfzG/N4hAv+KsM78UOi2/gLw3v+BXPb8=",
          "dtype": "f4"
         }
        },
        {
         "hoverinfo": "text",
         "marker": {
          "opacity": 0.5,
          "size": 5
         },
         "mode": "markers+text",
         "name": "9_investigation publisher_retracted article_digital scholarly",
         "text": [
          "",
          "",
          "",
          "",
          "",
          "",
          "",
          "",
          "",
          "",
          "",
          "",
          "",
          "",
          "",
          "",
          "",
          "",
          "",
          "",
          "",
          "",
          "",
          ""
         ],
         "textfont": {
          "size": 12
         },
         "type": "scattergl",
         "x": {
          "bdata": "4lQyQQqQMkG30zBBW2YpQfYgLEFO0TBBv5kpQViqK0GkmCtBA48rQf2YLkEMOypB5qQyQTIMKUEUBixBfkUrQV37KUF8XSlBRHYwQUlrMUEuBi5BO3wyQZAPLEEs2ixB",
          "dtype": "f4"
         },
         "y": {
          "bdata": "wKONQPrti0DAyolATlqJQImpiEDBkINAcLOHQIc9g0CodIZAJTuGQEMQikAvAIdAYtmPQBAsjUB/KIVA552HQB0KiUBBYotAoPqEQPwGg0D+DIZAQ5qNQKGFhUC7/odA",
          "dtype": "f4"
         }
        },
        {
         "hoverinfo": "text",
         "marker": {
          "opacity": 0.5,
          "size": 5
         },
         "mode": "markers+text",
         "name": "10_based instruction_teacher instruction_teaching learning",
         "text": [
          "",
          "",
          "",
          "",
          "",
          "",
          "",
          "",
          "",
          "",
          "",
          "",
          "",
          "",
          "",
          "",
          "",
          "",
          "",
          "",
          "",
          "",
          "",
          ""
         ],
         "textfont": {
          "size": 12
         },
         "type": "scattergl",
         "x": {
          "bdata": "EdIuQX7aLkEdpS5BT5cuQRQeMUEqmzFBVIMvQWpuMUEz7CxB/L0wQd65LkG3gy9BqDcyQfAHM0EoAi1BPL4wQcIdL0FTBS5BNzIvQQskL0E+nS9BLTwvQauaMUFTNzFB",
          "dtype": "f4"
         },
         "y": {
          "bdata": "YYzRPxKX0j9eH7Q/HYrvP1609z+Jlw9AmZoLQItQyj/ZKOQ/RWfIP+o1tz+qSgxA9s/CP/HYDkCeK5U/jvLKPxAK+T9ugNg/3oHhP4jTCkBD7g1AKM75PzmXFUD/3w9A",
          "dtype": "f4"
         }
        },
        {
         "hoverinfo": "text",
         "marker": {
          "opacity": 0.5,
          "size": 5
         },
         "mode": "markers+text",
         "name": "11_historical architectural_land use_architectural",
         "text": [
          "",
          "",
          "",
          "",
          "",
          "",
          "",
          "",
          "",
          "",
          "",
          "",
          "",
          "",
          "",
          "",
          "",
          "",
          "",
          "",
          ""
         ],
         "textfont": {
          "size": 12
         },
         "type": "scattergl",
         "x": {
          "bdata": "ZiQSQbjdEUHvaBFBwiEPQVjgD0HmTQ9BQDgUQf5QEEEvgxJByhgQQfH5D0E96Q5BKY4UQSzrD0E1BxJB39YPQYkgEkEntg9BXDcPQdoSEUG0nRBB",
          "dtype": "f4"
         },
         "y": {
          "bdata": "w/iwQMP7pUAMqadAN4KvQAHdqEBGIK1ANXOhQFPHpkCDhqRAOFGmQFbWqEAOba9Avh+gQK1kp0A1iq1AJCOnQKX1pUC9VapAa92wQCcLq0CwqatA",
          "dtype": "f4"
         }
        },
        {
         "hoverinfo": "text",
         "marker": {
          "opacity": 0.5,
          "size": 5
         },
         "mode": "markers+text",
         "name": "12_word processor_writing system_text speech",
         "text": [
          "",
          "",
          "",
          "",
          "",
          "",
          "",
          "",
          "",
          "",
          "",
          "",
          "",
          "",
          "",
          "",
          "",
          "",
          "",
          ""
         ],
         "textfont": {
          "size": 12
         },
         "type": "scattergl",
         "x": {
          "bdata": "wzgoQQGFNkFz8zRB17UsQUiuLEFyoDNBJhs2QbbnN0E+ri9BJ5U1QaKIM0GezDZBmkorQSF5K0FyFzNBL7EoQXmQM0FYKylBVZEyQVEZKkE=",
          "dtype": "f4"
         },
         "y": {
          "bdata": "zMbwP6/fuT+q/sI/UNzWP5AdT0CUCI4/1ePLP1IbxT9O09c/MJ3HPzCCwT+54bY/9ereP40g5T/+sck/G0viP5Wswj+32Pg/X0PZPxwy5j8=",
          "dtype": "f4"
         }
        },
        {
         "hoverinfo": "text",
         "marker": {
          "opacity": 0.5,
          "size": 5
         },
         "mode": "markers+text",
         "name": "13_human behavior_cognitive model_cognitive",
         "text": [
          "",
          "",
          "",
          "",
          "",
          "",
          "",
          "",
          "",
          "",
          "",
          "",
          "",
          "",
          "",
          "",
          "",
          "",
          "",
          ""
         ],
         "textfont": {
          "size": 12
         },
         "type": "scattergl",
         "x": {
          "bdata": "0tkGQdvRDEFw8A5BtT4PQVZ+EUEfuQxBsH0MQaDTBkGaIwdB14kSQSwVDUFhNQdBig0HQW4pDEGZAwxBzvIGQRzWBkE9wQZB5toHQWLvBkE=",
          "dtype": "f4"
         },
         "y": {
          "bdata": "Z8FvP5POnD/5Zp0/eSmcP4PZiz+Qr7s/0ga1P2B8bz9mlXM/gYmIP6XZqz9bKWk/jztrP47Zqz8X7rg/ISFxPwnbaz+JNHU/sBuTPywRcD8=",
          "dtype": "f4"
         }
        },
        {
         "hoverinfo": "text",
         "marker": {
          "opacity": 0.5,
          "size": 5
         },
         "mode": "markers+text",
         "name": "14_robotics_automated_completion system",
         "text": [
          "",
          "",
          "",
          "",
          "",
          "",
          "",
          "",
          "",
          "",
          "",
          "",
          "",
          "",
          "",
          "",
          ""
         ],
         "textfont": {
          "size": 12
         },
         "type": "scattergl",
         "x": {
          "bdata": "zmb/QEE+4EBRMwFBzRz7QA2/AEFJewBBLV/9QLhvCUFK3+FAzD7/QEy2AUFM+/xAwAkEQVmT+kD1Nf5ACT0LQcWX3UA=",
          "dtype": "f4"
         },
         "y": {
          "bdata": "ZLjFP3gdwz81Jbg/0vvMP9yhvD8I7bc/QEzUP9pyyT/3JcM/Vp+9P2dmvD906dM/lRblP04IzD+2tJ4/iH3MP6S1xD8=",
          "dtype": "f4"
         }
        },
        {
         "hoverinfo": "text",
         "marker": {
          "opacity": 0.5,
          "size": 5
         },
         "mode": "markers+text",
         "name": "15_font classification_thai typeface_typeface",
         "text": [
          "",
          "",
          "",
          "",
          "",
          "",
          "",
          "",
          "",
          "",
          "",
          "",
          "",
          "",
          "",
          "",
          ""
         ],
         "textfont": {
          "size": 12
         },
         "type": "scattergl",
         "x": {
          "bdata": "c/MaQXEOHkGEuRpBa64aQSjaGUGyYhpBLgccQe1MG0FC0RpBOjcbQZ8RG0HQlBpB8I4bQZKuG0EkSxhBLSscQe2YG0E=",
          "dtype": "f4"
         },
         "y": {
          "bdata": "bWPfP+6N2D8eTOA/nlPkP4IP6T/lQeY/oakAQNR44z9BOec/RmnkP2O44j+l9+U/95niPw+T5D9e8wFAFm/eP3Bm4D8=",
          "dtype": "f4"
         }
        },
        {
         "hoverinfo": "text",
         "marker": {
          "opacity": 0.5,
          "size": 5
         },
         "mode": "markers+text",
         "name": "16_pigment_painting_reflectance",
         "text": [
          "",
          "",
          "",
          "",
          "",
          "",
          "",
          "",
          "",
          "",
          "",
          "",
          "",
          "",
          ""
         ],
         "textfont": {
          "size": 12
         },
         "type": "scattergl",
         "x": {
          "bdata": "k6gQQQnrEEFufw9BpTkRQbjcEEFAIBBBqBkQQWmZEEFXeRBBgacPQfIWEEHQ6RBBkxwQQcVmEEEsJRBB",
          "dtype": "f4"
         },
         "y": {
          "bdata": "xzLAQPplwEDO6cNAgpG8QJPvvkBLeMJAq5rCQLWrwUCkRLhAQI3DQPtUwkDwY79AWgTEQKzewEBAGcJA",
          "dtype": "f4"
         }
        },
        {
         "hoverinfo": "text",
         "marker": {
          "opacity": 0.5,
          "size": 5
         },
         "mode": "markers+text",
         "name": "17_correspondence image_rigid registration_computer vision",
         "text": [
          "",
          "",
          "",
          "",
          "",
          "",
          "",
          "",
          "",
          "",
          "",
          "",
          ""
         ],
         "textfont": {
          "size": 12
         },
         "type": "scattergl",
         "x": {
          "bdata": "N4z2QDEK7UAmke5ATUPwQAaL/kDwFfpAijTuQMQn70AmXe5AbYX/QFuL7kCzq+5A5MnoQA==",
          "dtype": "f4"
         },
         "y": {
          "bdata": "rGMBQESlB0C0ewlA9OAKQPulDkAABgBAfNAIQDzYCUDAeQlAfKoOQDpuCUCGgwlAm0kFQA==",
          "dtype": "f4"
         }
        },
        {
         "hoverinfo": "text",
         "marker": {
          "opacity": 0.5,
          "size": 5
         },
         "mode": "markers+text",
         "name": "18_romanian manuscript_literature bulgarian_manuscript",
         "text": [
          "",
          "",
          "",
          "",
          "",
          "",
          "",
          "",
          "",
          "",
          "",
          ""
         ],
         "textfont": {
          "size": 12
         },
         "type": "scattergl",
         "x": {
          "bdata": "IGYsQcHNLEFKHixBOBcsQSX/K0E0ZStBstovQcJlLkEx9StB4hAuQUpALEEjHi1B",
          "dtype": "f4"
         },
         "y": {
          "bdata": "i3KiQIIfpkBVvKRAypykQIIKpkCW2qJA8wOVQHR1l0AIF6VAY1GaQJ0PpUCe3pZA",
          "dtype": "f4"
         }
        },
        {
         "hoverinfo": "text",
         "marker": {
          "opacity": 0.5,
          "size": 5
         },
         "mode": "markers+text",
         "name": "19_among adolescent_based survey_adolescent",
         "text": [
          "",
          "",
          "",
          "",
          "",
          "",
          "",
          "",
          "",
          "",
          ""
         ],
         "textfont": {
          "size": 12
         },
         "type": "scattergl",
         "x": {
          "bdata": "3akyQZdZLkGx9y5BVg8vQTxkLkHEZi1BH24uQUHLMEFC4y5BQzUwQeRGLkE=",
          "dtype": "f4"
         },
         "y": {
          "bdata": "rzM/QC2mNECxXCtAoK40QI6tMECFUCJA/1UuQEqHOEAoLC9AdjU7QGZFL0A=",
          "dtype": "f4"
         }
        },
        {
         "hoverinfo": "text",
         "marker": {
          "opacity": 0.5,
          "size": 5
         },
         "mode": "markers+text",
         "name": "20_indigenous research_technology indigenous_indigenous",
         "text": [
          "",
          "",
          "",
          "",
          "",
          "",
          "",
          "",
          "",
          ""
         ],
         "textfont": {
          "size": 12
         },
         "type": "scattergl",
         "x": {
          "bdata": "f2MHQUeQB0FMwgdBDOMHQcyxB0HncwdBiX0HQZ2qB0HQpgVBDYYHQQ==",
          "dtype": "f4"
         },
         "y": {
          "bdata": "PzeGQI0ChkBTP4VAgrKGQF/shUBeroZA/X6GQPrKhUCHkHhAdR6GQA==",
          "dtype": "f4"
         }
        },
        {
         "hoverinfo": "text",
         "marker": {
          "opacity": 0.5,
          "size": 5
         },
         "mode": "markers+text",
         "name": "21_heuristic search_extracting heuristic_search planner",
         "text": [
          "",
          "",
          "",
          "",
          "",
          "",
          "",
          "",
          "",
          ""
         ],
         "textfont": {
          "size": 12
         },
         "type": "scattergl",
         "x": {
          "bdata": "UhjUQC3MzUCk89RAjdLUQFYI1UDN8dZArIrVQEk+1UCnINVANBHVQA==",
          "dtype": "f4"
         },
         "y": {
          "bdata": "nV6kP8dwuT+vbqg/5lCoPxNSpz8XhKg/d6WkP3MzqD8Gi6c/KNKnPw==",
          "dtype": "f4"
         }
        },
        {
         "hoverinfo": "text",
         "marker": {
          "opacity": 0.5,
          "size": 5
         },
         "mode": "markers+text",
         "name": "22_game immersion_game genre_game study",
         "text": [
          "",
          "",
          "",
          "",
          "",
          "",
          "",
          ""
         ],
         "textfont": {
          "size": 12
         },
         "type": "scattergl",
         "x": {
          "bdata": "ifEPQbxZDEEDMgtBK0QLQRXIC0HNGwxBwjINQbdCDEE=",
          "dtype": "f4"
         },
         "y": {
          "bdata": "XToxQCxcGUDEegtA0wQeQD4rGkAfaA9AFRkWQINqGUA=",
          "dtype": "f4"
         }
        },
        {
         "hoverinfo": "text",
         "marker": {
          "opacity": 0.5,
          "size": 5
         },
         "mode": "markers+text",
         "name": "23_digital research_technological_digital humanity",
         "text": [
          "",
          "",
          "",
          "",
          "",
          "",
          "",
          ""
         ],
         "textfont": {
          "size": 12
         },
         "type": "scattergl",
         "x": {
          "bdata": "we0nQRS5JkFcgSdBZaEnQakzKUETQylBktYsQdtwKkE=",
          "dtype": "f4"
         },
         "y": {
          "bdata": "mstmQDIndUAGrGxAf8NrQP7TZkAOZG9AakpfQJlIZEA=",
          "dtype": "f4"
         }
        },
        {
         "hoverinfo": "text",
         "marker": {
          "opacity": 0.5,
          "size": 5
         },
         "mode": "markers+text",
         "name": "24_schema coordination_approach schema_interoperability",
         "text": [
          "",
          "",
          "",
          "",
          "",
          "",
          "",
          ""
         ],
         "textfont": {
          "size": 12
         },
         "type": "scattergl",
         "x": {
          "bdata": "WFnDQF4QvEBnt71AwUPFQPu4xUAVUb9AOvvEQKhZxUA=",
          "dtype": "f4"
         },
         "y": {
          "bdata": "J4vDPy5Lwj9zZ8E/ILvYP/Al2D9cr8E/nEXYP/452T8=",
          "dtype": "f4"
         }
        },
        {
         "hoverinfo": "text",
         "marker": {
          "opacity": 0.5,
          "size": 5
         },
         "mode": "markers+text",
         "name": "25_recognition ocr_character recognition_text recognition",
         "text": [
          "",
          "",
          "",
          "",
          "",
          "",
          ""
         ],
         "textfont": {
          "size": 12
         },
         "type": "scattergl",
         "x": {
          "bdata": "RqgbQSW7HEHQ0R5BUCccQfafG0EM1B1Bbf4eQQ==",
          "dtype": "f4"
         },
         "y": {
          "bdata": "ep2ZQJUDmUDsZ5dAnyeZQOkYmkCSWZhAzbCWQA==",
          "dtype": "f4"
         }
        },
        {
         "hoverinfo": "text",
         "marker": {
          "opacity": 0.5,
          "size": 5
         },
         "mode": "markers+text",
         "name": "26_handwriting physical_effect handwriting_using handwriting",
         "text": [
          "",
          "",
          "",
          "",
          "",
          "",
          ""
         ],
         "textfont": {
          "size": 12
         },
         "type": "scattergl",
         "x": {
          "bdata": "l7klQTn6IUG7fSFBlzIfQWTaIUEG2yJBIHohQQ==",
          "dtype": "f4"
         },
         "y": {
          "bdata": "SorpPzRI2T/BONU/mGmzP4KD3j+LrtA/86/WPw==",
          "dtype": "f4"
         }
        },
        {
         "hoverinfo": "text",
         "marker": {
          "opacity": 0.5,
          "size": 5
         },
         "mode": "markers+text",
         "name": "27_public transport_mobility_transport",
         "text": [
          "",
          "",
          "",
          "",
          "",
          ""
         ],
         "textfont": {
          "size": 12
         },
         "type": "scattergl",
         "x": {
          "bdata": "I9giQbHEI0EvdCNBS1QgQeCnJUEM4CNB",
          "dtype": "f4"
         },
         "y": {
          "bdata": "M7QNQIVxEUDnywdAzwIPQHl2B0B+HBBA",
          "dtype": "f4"
         }
        },
        {
         "hoverinfo": "text",
         "marker": {
          "opacity": 0.5,
          "size": 5
         },
         "mode": "markers+text",
         "name": "28_speech gesture_speech signal_communicative speech",
         "text": [
          "",
          "",
          "",
          "",
          ""
         ],
         "textfont": {
          "size": 12
         },
         "type": "scattergl",
         "x": {
          "bdata": "2QRRQXTTUEGeylBB91NKQWS6SkE=",
          "dtype": "f4"
         },
         "y": {
          "bdata": "ehWQPMBCRL0V2oO83kF4PojSTj4=",
          "dtype": "f4"
         }
        },
        {
         "hoverinfo": "text",
         "marker": {
          "opacity": 0.5,
          "size": 5
         },
         "mode": "markers+text",
         "name": "29_letter interface_alphabet supplementation_speech",
         "text": [
          "",
          "",
          "",
          "",
          ""
         ],
         "textfont": {
          "size": 12
         },
         "type": "scattergl",
         "x": {
          "bdata": "PUxEQY3WR0HflERB7ExHQejsQ0E=",
          "dtype": "f4"
         },
         "y": {
          "bdata": "ISl/PvpxWj7cxlI+3Oq8PYVMcj4=",
          "dtype": "f4"
         }
        }
       ],
       "layout": {
        "annotations": [
         {
          "showarrow": false,
          "text": "D1",
          "x": 3.4612741470336914,
          "y": 2.6663551330566406,
          "yshift": 10
         },
         {
          "showarrow": false,
          "text": "D2",
          "x": 9.622230529785156,
          "xshift": 10,
          "y": 7.044361114501953
         }
        ],
        "height": 750,
        "shapes": [
         {
          "line": {
           "color": "#CFD8DC",
           "width": 2
          },
          "type": "line",
          "x0": 9.622230529785156,
          "x1": 9.622230529785156,
          "y0": -1.711651086807251,
          "y1": 7.044361114501953
         },
         {
          "line": {
           "color": "#9E9E9E",
           "width": 2
          },
          "type": "line",
          "x0": 3.4612741470336914,
          "x1": 15.783185958862305,
          "y0": 2.6663551330566406,
          "y1": 2.6663551330566406
         }
        ],
        "template": {
         "data": {
          "bar": [
           {
            "error_x": {
             "color": "rgb(36,36,36)"
            },
            "error_y": {
             "color": "rgb(36,36,36)"
            },
            "marker": {
             "line": {
              "color": "white",
              "width": 0.5
             },
             "pattern": {
              "fillmode": "overlay",
              "size": 10,
              "solidity": 0.2
             }
            },
            "type": "bar"
           }
          ],
          "barpolar": [
           {
            "marker": {
             "line": {
              "color": "white",
              "width": 0.5
             },
             "pattern": {
              "fillmode": "overlay",
              "size": 10,
              "solidity": 0.2
             }
            },
            "type": "barpolar"
           }
          ],
          "carpet": [
           {
            "aaxis": {
             "endlinecolor": "rgb(36,36,36)",
             "gridcolor": "white",
             "linecolor": "white",
             "minorgridcolor": "white",
             "startlinecolor": "rgb(36,36,36)"
            },
            "baxis": {
             "endlinecolor": "rgb(36,36,36)",
             "gridcolor": "white",
             "linecolor": "white",
             "minorgridcolor": "white",
             "startlinecolor": "rgb(36,36,36)"
            },
            "type": "carpet"
           }
          ],
          "choropleth": [
           {
            "colorbar": {
             "outlinewidth": 1,
             "tickcolor": "rgb(36,36,36)",
             "ticks": "outside"
            },
            "type": "choropleth"
           }
          ],
          "contour": [
           {
            "colorbar": {
             "outlinewidth": 1,
             "tickcolor": "rgb(36,36,36)",
             "ticks": "outside"
            },
            "colorscale": [
             [
              0,
              "#440154"
             ],
             [
              0.1111111111111111,
              "#482878"
             ],
             [
              0.2222222222222222,
              "#3e4989"
             ],
             [
              0.3333333333333333,
              "#31688e"
             ],
             [
              0.4444444444444444,
              "#26828e"
             ],
             [
              0.5555555555555556,
              "#1f9e89"
             ],
             [
              0.6666666666666666,
              "#35b779"
             ],
             [
              0.7777777777777778,
              "#6ece58"
             ],
             [
              0.8888888888888888,
              "#b5de2b"
             ],
             [
              1,
              "#fde725"
             ]
            ],
            "type": "contour"
           }
          ],
          "contourcarpet": [
           {
            "colorbar": {
             "outlinewidth": 1,
             "tickcolor": "rgb(36,36,36)",
             "ticks": "outside"
            },
            "type": "contourcarpet"
           }
          ],
          "heatmap": [
           {
            "colorbar": {
             "outlinewidth": 1,
             "tickcolor": "rgb(36,36,36)",
             "ticks": "outside"
            },
            "colorscale": [
             [
              0,
              "#440154"
             ],
             [
              0.1111111111111111,
              "#482878"
             ],
             [
              0.2222222222222222,
              "#3e4989"
             ],
             [
              0.3333333333333333,
              "#31688e"
             ],
             [
              0.4444444444444444,
              "#26828e"
             ],
             [
              0.5555555555555556,
              "#1f9e89"
             ],
             [
              0.6666666666666666,
              "#35b779"
             ],
             [
              0.7777777777777778,
              "#6ece58"
             ],
             [
              0.8888888888888888,
              "#b5de2b"
             ],
             [
              1,
              "#fde725"
             ]
            ],
            "type": "heatmap"
           }
          ],
          "histogram": [
           {
            "marker": {
             "line": {
              "color": "white",
              "width": 0.6
             }
            },
            "type": "histogram"
           }
          ],
          "histogram2d": [
           {
            "colorbar": {
             "outlinewidth": 1,
             "tickcolor": "rgb(36,36,36)",
             "ticks": "outside"
            },
            "colorscale": [
             [
              0,
              "#440154"
             ],
             [
              0.1111111111111111,
              "#482878"
             ],
             [
              0.2222222222222222,
              "#3e4989"
             ],
             [
              0.3333333333333333,
              "#31688e"
             ],
             [
              0.4444444444444444,
              "#26828e"
             ],
             [
              0.5555555555555556,
              "#1f9e89"
             ],
             [
              0.6666666666666666,
              "#35b779"
             ],
             [
              0.7777777777777778,
              "#6ece58"
             ],
             [
              0.8888888888888888,
              "#b5de2b"
             ],
             [
              1,
              "#fde725"
             ]
            ],
            "type": "histogram2d"
           }
          ],
          "histogram2dcontour": [
           {
            "colorbar": {
             "outlinewidth": 1,
             "tickcolor": "rgb(36,36,36)",
             "ticks": "outside"
            },
            "colorscale": [
             [
              0,
              "#440154"
             ],
             [
              0.1111111111111111,
              "#482878"
             ],
             [
              0.2222222222222222,
              "#3e4989"
             ],
             [
              0.3333333333333333,
              "#31688e"
             ],
             [
              0.4444444444444444,
              "#26828e"
             ],
             [
              0.5555555555555556,
              "#1f9e89"
             ],
             [
              0.6666666666666666,
              "#35b779"
             ],
             [
              0.7777777777777778,
              "#6ece58"
             ],
             [
              0.8888888888888888,
              "#b5de2b"
             ],
             [
              1,
              "#fde725"
             ]
            ],
            "type": "histogram2dcontour"
           }
          ],
          "mesh3d": [
           {
            "colorbar": {
             "outlinewidth": 1,
             "tickcolor": "rgb(36,36,36)",
             "ticks": "outside"
            },
            "type": "mesh3d"
           }
          ],
          "parcoords": [
           {
            "line": {
             "colorbar": {
              "outlinewidth": 1,
              "tickcolor": "rgb(36,36,36)",
              "ticks": "outside"
             }
            },
            "type": "parcoords"
           }
          ],
          "pie": [
           {
            "automargin": true,
            "type": "pie"
           }
          ],
          "scatter": [
           {
            "fillpattern": {
             "fillmode": "overlay",
             "size": 10,
             "solidity": 0.2
            },
            "type": "scatter"
           }
          ],
          "scatter3d": [
           {
            "line": {
             "colorbar": {
              "outlinewidth": 1,
              "tickcolor": "rgb(36,36,36)",
              "ticks": "outside"
             }
            },
            "marker": {
             "colorbar": {
              "outlinewidth": 1,
              "tickcolor": "rgb(36,36,36)",
              "ticks": "outside"
             }
            },
            "type": "scatter3d"
           }
          ],
          "scattercarpet": [
           {
            "marker": {
             "colorbar": {
              "outlinewidth": 1,
              "tickcolor": "rgb(36,36,36)",
              "ticks": "outside"
             }
            },
            "type": "scattercarpet"
           }
          ],
          "scattergeo": [
           {
            "marker": {
             "colorbar": {
              "outlinewidth": 1,
              "tickcolor": "rgb(36,36,36)",
              "ticks": "outside"
             }
            },
            "type": "scattergeo"
           }
          ],
          "scattergl": [
           {
            "marker": {
             "colorbar": {
              "outlinewidth": 1,
              "tickcolor": "rgb(36,36,36)",
              "ticks": "outside"
             }
            },
            "type": "scattergl"
           }
          ],
          "scattermap": [
           {
            "marker": {
             "colorbar": {
              "outlinewidth": 1,
              "tickcolor": "rgb(36,36,36)",
              "ticks": "outside"
             }
            },
            "type": "scattermap"
           }
          ],
          "scattermapbox": [
           {
            "marker": {
             "colorbar": {
              "outlinewidth": 1,
              "tickcolor": "rgb(36,36,36)",
              "ticks": "outside"
             }
            },
            "type": "scattermapbox"
           }
          ],
          "scatterpolar": [
           {
            "marker": {
             "colorbar": {
              "outlinewidth": 1,
              "tickcolor": "rgb(36,36,36)",
              "ticks": "outside"
             }
            },
            "type": "scatterpolar"
           }
          ],
          "scatterpolargl": [
           {
            "marker": {
             "colorbar": {
              "outlinewidth": 1,
              "tickcolor": "rgb(36,36,36)",
              "ticks": "outside"
             }
            },
            "type": "scatterpolargl"
           }
          ],
          "scatterternary": [
           {
            "marker": {
             "colorbar": {
              "outlinewidth": 1,
              "tickcolor": "rgb(36,36,36)",
              "ticks": "outside"
             }
            },
            "type": "scatterternary"
           }
          ],
          "surface": [
           {
            "colorbar": {
             "outlinewidth": 1,
             "tickcolor": "rgb(36,36,36)",
             "ticks": "outside"
            },
            "colorscale": [
             [
              0,
              "#440154"
             ],
             [
              0.1111111111111111,
              "#482878"
             ],
             [
              0.2222222222222222,
              "#3e4989"
             ],
             [
              0.3333333333333333,
              "#31688e"
             ],
             [
              0.4444444444444444,
              "#26828e"
             ],
             [
              0.5555555555555556,
              "#1f9e89"
             ],
             [
              0.6666666666666666,
              "#35b779"
             ],
             [
              0.7777777777777778,
              "#6ece58"
             ],
             [
              0.8888888888888888,
              "#b5de2b"
             ],
             [
              1,
              "#fde725"
             ]
            ],
            "type": "surface"
           }
          ],
          "table": [
           {
            "cells": {
             "fill": {
              "color": "rgb(237,237,237)"
             },
             "line": {
              "color": "white"
             }
            },
            "header": {
             "fill": {
              "color": "rgb(217,217,217)"
             },
             "line": {
              "color": "white"
             }
            },
            "type": "table"
           }
          ]
         },
         "layout": {
          "annotationdefaults": {
           "arrowhead": 0,
           "arrowwidth": 1
          },
          "autotypenumbers": "strict",
          "coloraxis": {
           "colorbar": {
            "outlinewidth": 1,
            "tickcolor": "rgb(36,36,36)",
            "ticks": "outside"
           }
          },
          "colorscale": {
           "diverging": [
            [
             0,
             "rgb(103,0,31)"
            ],
            [
             0.1,
             "rgb(178,24,43)"
            ],
            [
             0.2,
             "rgb(214,96,77)"
            ],
            [
             0.3,
             "rgb(244,165,130)"
            ],
            [
             0.4,
             "rgb(253,219,199)"
            ],
            [
             0.5,
             "rgb(247,247,247)"
            ],
            [
             0.6,
             "rgb(209,229,240)"
            ],
            [
             0.7,
             "rgb(146,197,222)"
            ],
            [
             0.8,
             "rgb(67,147,195)"
            ],
            [
             0.9,
             "rgb(33,102,172)"
            ],
            [
             1,
             "rgb(5,48,97)"
            ]
           ],
           "sequential": [
            [
             0,
             "#440154"
            ],
            [
             0.1111111111111111,
             "#482878"
            ],
            [
             0.2222222222222222,
             "#3e4989"
            ],
            [
             0.3333333333333333,
             "#31688e"
            ],
            [
             0.4444444444444444,
             "#26828e"
            ],
            [
             0.5555555555555556,
             "#1f9e89"
            ],
            [
             0.6666666666666666,
             "#35b779"
            ],
            [
             0.7777777777777778,
             "#6ece58"
            ],
            [
             0.8888888888888888,
             "#b5de2b"
            ],
            [
             1,
             "#fde725"
            ]
           ],
           "sequentialminus": [
            [
             0,
             "#440154"
            ],
            [
             0.1111111111111111,
             "#482878"
            ],
            [
             0.2222222222222222,
             "#3e4989"
            ],
            [
             0.3333333333333333,
             "#31688e"
            ],
            [
             0.4444444444444444,
             "#26828e"
            ],
            [
             0.5555555555555556,
             "#1f9e89"
            ],
            [
             0.6666666666666666,
             "#35b779"
            ],
            [
             0.7777777777777778,
             "#6ece58"
            ],
            [
             0.8888888888888888,
             "#b5de2b"
            ],
            [
             1,
             "#fde725"
            ]
           ]
          },
          "colorway": [
           "#1F77B4",
           "#FF7F0E",
           "#2CA02C",
           "#D62728",
           "#9467BD",
           "#8C564B",
           "#E377C2",
           "#7F7F7F",
           "#BCBD22",
           "#17BECF"
          ],
          "font": {
           "color": "rgb(36,36,36)"
          },
          "geo": {
           "bgcolor": "white",
           "lakecolor": "white",
           "landcolor": "white",
           "showlakes": true,
           "showland": true,
           "subunitcolor": "white"
          },
          "hoverlabel": {
           "align": "left"
          },
          "hovermode": "closest",
          "mapbox": {
           "style": "light"
          },
          "paper_bgcolor": "white",
          "plot_bgcolor": "white",
          "polar": {
           "angularaxis": {
            "gridcolor": "rgb(232,232,232)",
            "linecolor": "rgb(36,36,36)",
            "showgrid": false,
            "showline": true,
            "ticks": "outside"
           },
           "bgcolor": "white",
           "radialaxis": {
            "gridcolor": "rgb(232,232,232)",
            "linecolor": "rgb(36,36,36)",
            "showgrid": false,
            "showline": true,
            "ticks": "outside"
           }
          },
          "scene": {
           "xaxis": {
            "backgroundcolor": "white",
            "gridcolor": "rgb(232,232,232)",
            "gridwidth": 2,
            "linecolor": "rgb(36,36,36)",
            "showbackground": true,
            "showgrid": false,
            "showline": true,
            "ticks": "outside",
            "zeroline": false,
            "zerolinecolor": "rgb(36,36,36)"
           },
           "yaxis": {
            "backgroundcolor": "white",
            "gridcolor": "rgb(232,232,232)",
            "gridwidth": 2,
            "linecolor": "rgb(36,36,36)",
            "showbackground": true,
            "showgrid": false,
            "showline": true,
            "ticks": "outside",
            "zeroline": false,
            "zerolinecolor": "rgb(36,36,36)"
           },
           "zaxis": {
            "backgroundcolor": "white",
            "gridcolor": "rgb(232,232,232)",
            "gridwidth": 2,
            "linecolor": "rgb(36,36,36)",
            "showbackground": true,
            "showgrid": false,
            "showline": true,
            "ticks": "outside",
            "zeroline": false,
            "zerolinecolor": "rgb(36,36,36)"
           }
          },
          "shapedefaults": {
           "fillcolor": "black",
           "line": {
            "width": 0
           },
           "opacity": 0.3
          },
          "ternary": {
           "aaxis": {
            "gridcolor": "rgb(232,232,232)",
            "linecolor": "rgb(36,36,36)",
            "showgrid": false,
            "showline": true,
            "ticks": "outside"
           },
           "baxis": {
            "gridcolor": "rgb(232,232,232)",
            "linecolor": "rgb(36,36,36)",
            "showgrid": false,
            "showline": true,
            "ticks": "outside"
           },
           "bgcolor": "white",
           "caxis": {
            "gridcolor": "rgb(232,232,232)",
            "linecolor": "rgb(36,36,36)",
            "showgrid": false,
            "showline": true,
            "ticks": "outside"
           }
          },
          "title": {
           "x": 0.05
          },
          "xaxis": {
           "automargin": true,
           "gridcolor": "rgb(232,232,232)",
           "linecolor": "rgb(36,36,36)",
           "showgrid": false,
           "showline": true,
           "ticks": "outside",
           "title": {
            "standoff": 15
           },
           "zeroline": false,
           "zerolinecolor": "rgb(36,36,36)"
          },
          "yaxis": {
           "automargin": true,
           "gridcolor": "rgb(232,232,232)",
           "linecolor": "rgb(36,36,36)",
           "showgrid": false,
           "showline": true,
           "ticks": "outside",
           "title": {
            "standoff": 15
           },
           "zeroline": false,
           "zerolinecolor": "rgb(36,36,36)"
          }
         }
        },
        "title": {
         "font": {
          "color": "Black",
          "size": 22
         },
         "text": "<b>Documents and Topics</b>",
         "x": 0.5,
         "xanchor": "center",
         "yanchor": "top"
        },
        "width": 1200,
        "xaxis": {
         "visible": false
        },
        "yaxis": {
         "visible": false
        }
       }
      }
     },
     "metadata": {},
     "output_type": "display_data"
    }
   ],
   "source": [
    "tools.plot_topics_of_documents(texts=texts, topic_model=my_model)"
   ]
  },
  {
   "cell_type": "markdown",
   "id": "a425a054",
   "metadata": {},
   "source": [
    "Visualize a hierarchical structure of the topics."
   ]
  },
  {
   "cell_type": "code",
   "execution_count": null,
   "id": "58579156",
   "metadata": {},
   "outputs": [
    {
     "name": "stderr",
     "output_type": "stream",
     "text": [
      "100%|██████████| 17/17 [00:00<00:00, 96.87it/s]\n"
     ]
    },
    {
     "data": {
      "application/vnd.plotly.v1+json": {
       "config": {
        "plotlyServerURL": "https://plot.ly"
       },
       "data": [
        {
         "hoverinfo": "text",
         "marker": {
          "color": "rgb(61,153,112)"
         },
         "mode": "lines",
         "text": [
          "chemical_substance_library_toxic_molecular",
          "",
          "",
          "brazilian_latin_brazil_paraguay_saltos"
         ],
         "type": "scatter",
         "x": {
          "bdata": "AAAAAAAAAACr6eyYmSHuP6vp7JiZIe4/AAAAAAAAAAA=",
          "dtype": "f8"
         },
         "xaxis": "x",
         "y": {
          "bdata": "AAAAAAAALsAAAAAAAAAuwAAAAAAAADnAAAAAAAAAOcA=",
          "dtype": "f8"
         },
         "yaxis": "y"
        },
        {
         "hoverinfo": "text",
         "marker": {
          "color": "rgb(61,153,112)"
         },
         "mode": "lines",
         "text": [
          "coal_mining_oil_ice_surface mining",
          "",
          "",
          "green_nixon_osborn_nato_vogt"
         ],
         "type": "scatter",
         "x": {
          "bdata": "AAAAAAAAAACQ2fKoVnvtP5DZ8qhWe+0/AAAAAAAAAAA=",
          "dtype": "f8"
         },
         "xaxis": "x",
         "y": {
          "bdata": "AAAAAACAQcAAAAAAAIBBwAAAAAAAgEbAAAAAAACARsA=",
          "dtype": "f8"
         },
         "yaxis": "y"
        },
        {
         "hoverinfo": "text",
         "marker": {
          "color": "rgb(61,153,112)"
         },
         "mode": "lines",
         "text": [
          "nuclear_fukushima_weapon_japanese american_nuclear weapon",
          "",
          "",
          "military_war_fortification_militarization_pyrenees"
         ],
         "type": "scatter",
         "x": {
          "bdata": "AAAAAAAAAACB4XqI3pTtP4HheojelO0/AAAAAAAAAAA=",
          "dtype": "f8"
         },
         "xaxis": "x",
         "y": {
          "bdata": "AAAAAACAS8AAAAAAAIBLwAAAAAAAQFDAAAAAAABAUMA=",
          "dtype": "f8"
         },
         "yaxis": "y"
        },
        {
         "hoverinfo": "text",
         "marker": {
          "color": "rgb(61,153,112)"
         },
         "mode": "lines",
         "text": [
          "coal_oil_energy_mining_ice",
          "",
          "",
          "military_nuclear_war_fukushima_fortification"
         ],
         "type": "scatter",
         "x": {
          "bdata": "kNnyqFZ77T97rP8hf+LtP3us/yF/4u0/geF6iN6U7T8=",
          "dtype": "f8"
         },
         "xaxis": "x",
         "y": {
          "bdata": "AAAAAAAARMAAAAAAAABEwAAAAAAAAE7AAAAAAAAATsA=",
          "dtype": "f8"
         },
         "yaxis": "y"
        },
        {
         "hoverinfo": "text",
         "marker": {
          "color": "rgb(61,153,112)"
         },
         "mode": "lines",
         "text": [
          "chemical_brazilian_substance_toxic_library",
          "",
          "",
          "military_coal_nuclear_war_energy"
         ],
         "type": "scatter",
         "x": {
          "bdata": "q+nsmJkh7j8+5dg96lvuPz7l2D3qW+4/e6z/IX/i7T8=",
          "dtype": "f8"
         },
         "xaxis": "x",
         "y": {
          "bdata": "AAAAAAAANMAAAAAAAAA0wAAAAAAAAEnAAAAAAAAAScA=",
          "dtype": "f8"
         },
         "yaxis": "y"
        },
        {
         "hoverinfo": "text",
         "marker": {
          "color": "rgb(61,153,112)"
         },
         "mode": "lines",
         "text": [
          "cattle_colonial_french_ranching_livestock",
          "",
          "",
          "forest_tree_fire_forestry_chestnut"
         ],
         "type": "scatter",
         "x": {
          "bdata": "AAAAAAAAAACovtcvNxnsP6i+1y83Gew/AAAAAAAAAAA=",
          "dtype": "f8"
         },
         "xaxis": "x",
         "y": {
          "bdata": "AAAAAADAUsAAAAAAAMBSwAAAAAAAQFXAAAAAAABAVcA=",
          "dtype": "f8"
         },
         "yaxis": "y"
        },
        {
         "hoverinfo": "text",
         "marker": {
          "color": "rgb(61,153,112)"
         },
         "mode": "lines",
         "text": [
          "animal_wildlife_dog_wild_bird",
          "",
          "",
          "drainage_water_urban_city_project"
         ],
         "type": "scatter",
         "x": {
          "bdata": "AAAAAAAAAABcpT7oqt3rP1ylPuiq3es/AAAAAAAAAAA=",
          "dtype": "f8"
         },
         "xaxis": "x",
         "y": {
          "bdata": "AAAAAADAV8AAAAAAAMBXwAAAAAAAQFrAAAAAAABAWsA=",
          "dtype": "f8"
         },
         "yaxis": "y"
        },
        {
         "hoverinfo": "text",
         "marker": {
          "color": "rgb(61,153,112)"
         },
         "mode": "lines",
         "text": [
          "forest_tree_fire_forestry_cattle",
          "",
          "",
          "wildlife_animal_dog_wild_bird"
         ],
         "type": "scatter",
         "x": {
          "bdata": "qL7XLzcZ7D+w8tncjqDsP7Dy2dyOoOw/XKU+6Krd6z8=",
          "dtype": "f8"
         },
         "xaxis": "x",
         "y": {
          "bdata": "AAAAAAAAVMAAAAAAAABUwAAAAAAAAFnAAAAAAAAAWcA=",
          "dtype": "f8"
         },
         "yaxis": "y"
        },
        {
         "hoverinfo": "text",
         "marker": {
          "color": "rgb(61,153,112)"
         },
         "mode": "lines",
         "text": [
          "earth_space_researcher_nothing_environmental",
          "",
          "",
          "marine_whale_ocean_fishery_food"
         ],
         "type": "scatter",
         "x": {
          "bdata": "AAAAAAAAAAB6u9ddXu/rP3q7111e7+s/AAAAAAAAAAA=",
          "dtype": "f8"
         },
         "xaxis": "x",
         "y": {
          "bdata": "AAAAAADAXMAAAAAAAMBcwAAAAAAAQF/AAAAAAABAX8A=",
          "dtype": "f8"
         },
         "yaxis": "y"
        },
        {
         "hoverinfo": "text",
         "marker": {
          "color": "rgb(61,153,112)"
         },
         "mode": "lines",
         "text": [
          "marine_whale_ocean_food_space",
          "",
          "",
          "wilderness_photograph_image_nature_visual"
         ],
         "type": "scatter",
         "x": {
          "bdata": "ervXXV7v6z/bYLxjSXLsP9tgvGNJcuw/AAAAAAAAAAA=",
          "dtype": "f8"
         },
         "xaxis": "x",
         "y": {
          "bdata": "AAAAAAAAXsAAAAAAAABewAAAAAAA4GDAAAAAAADgYMA=",
          "dtype": "f8"
         },
         "yaxis": "y"
        },
        {
         "hoverinfo": "text",
         "marker": {
          "color": "rgb(61,153,112)"
         },
         "mode": "lines",
         "text": [
          "forest_animal_wildlife_century_fire",
          "",
          "",
          "marine_wilderness_historian_whale_ocean"
         ],
         "type": "scatter",
         "x": {
          "bdata": "sPLZ3I6g7D/4AxcCduvsP/gDFwJ26+w/22C8Y0ly7D8=",
          "dtype": "f8"
         },
         "xaxis": "x",
         "y": {
          "bdata": "AAAAAACAVsAAAAAAAIBWwAAAAAAA4F/AAAAAAADgX8A=",
          "dtype": "f8"
         },
         "yaxis": "y"
        },
        {
         "hoverinfo": "text",
         "marker": {
          "color": "rgb(61,153,112)"
         },
         "mode": "lines",
         "text": [
          "military_coal_nuclear_war_energy",
          "",
          "",
          "forest_century_history_environmental_land"
         ],
         "type": "scatter",
         "x": {
          "bdata": "PuXYPepb7j92ODqzDJvuP3Y4OrMMm+4/+AMXAnbr7D8=",
          "dtype": "f8"
         },
         "xaxis": "x",
         "y": {
          "bdata": "AAAAAACAQcAAAAAAAIBBwAAAAAAAMFvAAAAAAAAwW8A=",
          "dtype": "f8"
         },
         "yaxis": "y"
        },
        {
         "hoverinfo": "text",
         "marker": {
          "color": "rgb(61,153,112)"
         },
         "mode": "lines",
         "text": [
          "health_body_night air_air_night",
          "",
          "",
          "disease_polio_outbreak_epidemic_ddt"
         ],
         "type": "scatter",
         "x": {
          "bdata": "AAAAAAAAAAAFQfDY3RHtPwVB8NjdEe0/AAAAAAAAAAA=",
          "dtype": "f8"
         },
         "xaxis": "x",
         "y": {
          "bdata": "AAAAAABgY8AAAAAAAGBjwAAAAAAAoGTAAAAAAACgZMA=",
          "dtype": "f8"
         },
         "yaxis": "y"
        },
        {
         "hoverinfo": "text",
         "marker": {
          "color": "rgb(61,153,112)"
         },
         "mode": "lines",
         "text": [
          "creole_belizean_belizean creole_plant_mahogany",
          "",
          "",
          "disease_health_body_polio_outbreak"
         ],
         "type": "scatter",
         "x": {
          "bdata": "AAAAAAAAAAC0LzYkIg/uP7QvNiQiD+4/BUHw2N0R7T8=",
          "dtype": "f8"
         },
         "xaxis": "x",
         "y": {
          "bdata": "AAAAAAAgYsAAAAAAACBiwAAAAAAAAGTAAAAAAAAAZMA=",
          "dtype": "f8"
         },
         "yaxis": "y"
        },
        {
         "hoverinfo": "text",
         "marker": {
          "color": "rgb(61,153,112)"
         },
         "mode": "lines",
         "text": [
          "disease_health_body_polio_medical",
          "",
          "",
          "labor_worker_nature labor_water_mill"
         ],
         "type": "scatter",
         "x": {
          "bdata": "tC82JCIP7j9IjJaZ32zuP0iMlpnfbO4/AAAAAAAAAAA=",
          "dtype": "f8"
         },
         "xaxis": "x",
         "y": {
          "bdata": "AAAAAAAQY8AAAAAAABBjwAAAAAAA4GXAAAAAAADgZcA=",
          "dtype": "f8"
         },
         "yaxis": "y"
        },
        {
         "hoverinfo": "text",
         "marker": {
          "color": "rgb(61,153,112)"
         },
         "mode": "lines",
         "text": [
          "environmental_forest_history_century_nature",
          "",
          "",
          "disease_health_labor_body_polio"
         ],
         "type": "scatter",
         "x": {
          "bdata": "djg6swyb7j9kMBnvfwDvP2QwGe9/AO8/SIyWmd9s7j8=",
          "dtype": "f8"
         },
         "xaxis": "x",
         "y": {
          "bdata": "AAAAAAD4UcAAAAAAAPhRwAAAAAAAeGTAAAAAAAB4ZMA=",
          "dtype": "f8"
         },
         "yaxis": "y"
        },
        {
         "hoverinfo": "text",
         "marker": {
          "color": "rgb(61,153,112)"
         },
         "mode": "lines",
         "text": [
          "film_family_father_two film_petulia",
          "",
          "",
          "environmental_century_forest_history_nature"
         ],
         "type": "scatter",
         "x": {
          "bdata": "AAAAAAAAAADS4LRZKPXvP9LgtFko9e8/ZDAZ738A7z8=",
          "dtype": "f8"
         },
         "xaxis": "x",
         "y": {
          "bdata": "AAAAAAAAFMAAAAAAAAAUwAAAAAAAdF3AAAAAAAB0XcA=",
          "dtype": "f8"
         },
         "yaxis": "y"
        },
        {
         "hoverinfo": "text",
         "hovertext": [
          "coal_oil_energy_mining_ice",
          "chemical_brazilian_substance_toxic_library",
          "forest_tree_fire_forestry_cattle",
          "marine_whale_ocean_food_space",
          "forest_animal_wildlife_century_fire",
          "military_coal_nuclear_war_energy",
          "disease_health_body_polio_medical",
          "environmental_forest_history_century_nature"
         ],
         "marker": {
          "color": "black"
         },
         "mode": "markers",
         "showlegend": false,
         "type": "scatter",
         "x": [
          0.9213059711244558,
          0.941601561243535,
          0.8780780729702728,
          0.8729698021760293,
          0.8945993722441781,
          0.9487200935319959,
          0.9393473346003618,
          0.9564269543204904
         ],
         "y": [
          -40,
          -20,
          -80,
          -120,
          -90,
          -35,
          -152.5,
          -71.875
         ]
        },
        {
         "hoverinfo": "text",
         "hovertext": [
          "military_nuclear_war_fukushima_fortification",
          "military_coal_nuclear_war_energy",
          "wildlife_animal_dog_wild_bird",
          "marine_wilderness_historian_whale_ocean",
          "forest_century_history_environmental_land",
          "disease_health_body_polio_outbreak",
          "disease_health_labor_body_polio",
          "environmental_century_forest_history_nature"
         ],
         "marker": {
          "color": "black"
         },
         "mode": "markers",
         "showlegend": false,
         "type": "scatter",
         "x": [
          0.9244225183129374,
          0.9338985122716531,
          0.8708090339688783,
          0.8889510105100514,
          0.9037427941149181,
          0.9084309804038929,
          0.9507902145163678,
          0.9688110036745567
         ],
         "y": [
          -60,
          -50,
          -100,
          -127.5,
          -108.75,
          -160,
          -163.75,
          -117.8125
         ]
        }
       ],
       "layout": {
        "autosize": false,
        "height": 470,
        "hoverlabel": {
         "bgcolor": "white",
         "font": {
          "family": "Rockwell",
          "size": 16
         }
        },
        "hovermode": "closest",
        "plot_bgcolor": "#ECEFF1",
        "showlegend": false,
        "template": {
         "data": {
          "bar": [
           {
            "error_x": {
             "color": "#2a3f5f"
            },
            "error_y": {
             "color": "#2a3f5f"
            },
            "marker": {
             "line": {
              "color": "white",
              "width": 0.5
             },
             "pattern": {
              "fillmode": "overlay",
              "size": 10,
              "solidity": 0.2
             }
            },
            "type": "bar"
           }
          ],
          "barpolar": [
           {
            "marker": {
             "line": {
              "color": "white",
              "width": 0.5
             },
             "pattern": {
              "fillmode": "overlay",
              "size": 10,
              "solidity": 0.2
             }
            },
            "type": "barpolar"
           }
          ],
          "carpet": [
           {
            "aaxis": {
             "endlinecolor": "#2a3f5f",
             "gridcolor": "#C8D4E3",
             "linecolor": "#C8D4E3",
             "minorgridcolor": "#C8D4E3",
             "startlinecolor": "#2a3f5f"
            },
            "baxis": {
             "endlinecolor": "#2a3f5f",
             "gridcolor": "#C8D4E3",
             "linecolor": "#C8D4E3",
             "minorgridcolor": "#C8D4E3",
             "startlinecolor": "#2a3f5f"
            },
            "type": "carpet"
           }
          ],
          "choropleth": [
           {
            "colorbar": {
             "outlinewidth": 0,
             "ticks": ""
            },
            "type": "choropleth"
           }
          ],
          "contour": [
           {
            "colorbar": {
             "outlinewidth": 0,
             "ticks": ""
            },
            "colorscale": [
             [
              0,
              "#0d0887"
             ],
             [
              0.1111111111111111,
              "#46039f"
             ],
             [
              0.2222222222222222,
              "#7201a8"
             ],
             [
              0.3333333333333333,
              "#9c179e"
             ],
             [
              0.4444444444444444,
              "#bd3786"
             ],
             [
              0.5555555555555556,
              "#d8576b"
             ],
             [
              0.6666666666666666,
              "#ed7953"
             ],
             [
              0.7777777777777778,
              "#fb9f3a"
             ],
             [
              0.8888888888888888,
              "#fdca26"
             ],
             [
              1,
              "#f0f921"
             ]
            ],
            "type": "contour"
           }
          ],
          "contourcarpet": [
           {
            "colorbar": {
             "outlinewidth": 0,
             "ticks": ""
            },
            "type": "contourcarpet"
           }
          ],
          "heatmap": [
           {
            "colorbar": {
             "outlinewidth": 0,
             "ticks": ""
            },
            "colorscale": [
             [
              0,
              "#0d0887"
             ],
             [
              0.1111111111111111,
              "#46039f"
             ],
             [
              0.2222222222222222,
              "#7201a8"
             ],
             [
              0.3333333333333333,
              "#9c179e"
             ],
             [
              0.4444444444444444,
              "#bd3786"
             ],
             [
              0.5555555555555556,
              "#d8576b"
             ],
             [
              0.6666666666666666,
              "#ed7953"
             ],
             [
              0.7777777777777778,
              "#fb9f3a"
             ],
             [
              0.8888888888888888,
              "#fdca26"
             ],
             [
              1,
              "#f0f921"
             ]
            ],
            "type": "heatmap"
           }
          ],
          "histogram": [
           {
            "marker": {
             "pattern": {
              "fillmode": "overlay",
              "size": 10,
              "solidity": 0.2
             }
            },
            "type": "histogram"
           }
          ],
          "histogram2d": [
           {
            "colorbar": {
             "outlinewidth": 0,
             "ticks": ""
            },
            "colorscale": [
             [
              0,
              "#0d0887"
             ],
             [
              0.1111111111111111,
              "#46039f"
             ],
             [
              0.2222222222222222,
              "#7201a8"
             ],
             [
              0.3333333333333333,
              "#9c179e"
             ],
             [
              0.4444444444444444,
              "#bd3786"
             ],
             [
              0.5555555555555556,
              "#d8576b"
             ],
             [
              0.6666666666666666,
              "#ed7953"
             ],
             [
              0.7777777777777778,
              "#fb9f3a"
             ],
             [
              0.8888888888888888,
              "#fdca26"
             ],
             [
              1,
              "#f0f921"
             ]
            ],
            "type": "histogram2d"
           }
          ],
          "histogram2dcontour": [
           {
            "colorbar": {
             "outlinewidth": 0,
             "ticks": ""
            },
            "colorscale": [
             [
              0,
              "#0d0887"
             ],
             [
              0.1111111111111111,
              "#46039f"
             ],
             [
              0.2222222222222222,
              "#7201a8"
             ],
             [
              0.3333333333333333,
              "#9c179e"
             ],
             [
              0.4444444444444444,
              "#bd3786"
             ],
             [
              0.5555555555555556,
              "#d8576b"
             ],
             [
              0.6666666666666666,
              "#ed7953"
             ],
             [
              0.7777777777777778,
              "#fb9f3a"
             ],
             [
              0.8888888888888888,
              "#fdca26"
             ],
             [
              1,
              "#f0f921"
             ]
            ],
            "type": "histogram2dcontour"
           }
          ],
          "mesh3d": [
           {
            "colorbar": {
             "outlinewidth": 0,
             "ticks": ""
            },
            "type": "mesh3d"
           }
          ],
          "parcoords": [
           {
            "line": {
             "colorbar": {
              "outlinewidth": 0,
              "ticks": ""
             }
            },
            "type": "parcoords"
           }
          ],
          "pie": [
           {
            "automargin": true,
            "type": "pie"
           }
          ],
          "scatter": [
           {
            "fillpattern": {
             "fillmode": "overlay",
             "size": 10,
             "solidity": 0.2
            },
            "type": "scatter"
           }
          ],
          "scatter3d": [
           {
            "line": {
             "colorbar": {
              "outlinewidth": 0,
              "ticks": ""
             }
            },
            "marker": {
             "colorbar": {
              "outlinewidth": 0,
              "ticks": ""
             }
            },
            "type": "scatter3d"
           }
          ],
          "scattercarpet": [
           {
            "marker": {
             "colorbar": {
              "outlinewidth": 0,
              "ticks": ""
             }
            },
            "type": "scattercarpet"
           }
          ],
          "scattergeo": [
           {
            "marker": {
             "colorbar": {
              "outlinewidth": 0,
              "ticks": ""
             }
            },
            "type": "scattergeo"
           }
          ],
          "scattergl": [
           {
            "marker": {
             "colorbar": {
              "outlinewidth": 0,
              "ticks": ""
             }
            },
            "type": "scattergl"
           }
          ],
          "scattermap": [
           {
            "marker": {
             "colorbar": {
              "outlinewidth": 0,
              "ticks": ""
             }
            },
            "type": "scattermap"
           }
          ],
          "scattermapbox": [
           {
            "marker": {
             "colorbar": {
              "outlinewidth": 0,
              "ticks": ""
             }
            },
            "type": "scattermapbox"
           }
          ],
          "scatterpolar": [
           {
            "marker": {
             "colorbar": {
              "outlinewidth": 0,
              "ticks": ""
             }
            },
            "type": "scatterpolar"
           }
          ],
          "scatterpolargl": [
           {
            "marker": {
             "colorbar": {
              "outlinewidth": 0,
              "ticks": ""
             }
            },
            "type": "scatterpolargl"
           }
          ],
          "scatterternary": [
           {
            "marker": {
             "colorbar": {
              "outlinewidth": 0,
              "ticks": ""
             }
            },
            "type": "scatterternary"
           }
          ],
          "surface": [
           {
            "colorbar": {
             "outlinewidth": 0,
             "ticks": ""
            },
            "colorscale": [
             [
              0,
              "#0d0887"
             ],
             [
              0.1111111111111111,
              "#46039f"
             ],
             [
              0.2222222222222222,
              "#7201a8"
             ],
             [
              0.3333333333333333,
              "#9c179e"
             ],
             [
              0.4444444444444444,
              "#bd3786"
             ],
             [
              0.5555555555555556,
              "#d8576b"
             ],
             [
              0.6666666666666666,
              "#ed7953"
             ],
             [
              0.7777777777777778,
              "#fb9f3a"
             ],
             [
              0.8888888888888888,
              "#fdca26"
             ],
             [
              1,
              "#f0f921"
             ]
            ],
            "type": "surface"
           }
          ],
          "table": [
           {
            "cells": {
             "fill": {
              "color": "#EBF0F8"
             },
             "line": {
              "color": "white"
             }
            },
            "header": {
             "fill": {
              "color": "#C8D4E3"
             },
             "line": {
              "color": "white"
             }
            },
            "type": "table"
           }
          ]
         },
         "layout": {
          "annotationdefaults": {
           "arrowcolor": "#2a3f5f",
           "arrowhead": 0,
           "arrowwidth": 1
          },
          "autotypenumbers": "strict",
          "coloraxis": {
           "colorbar": {
            "outlinewidth": 0,
            "ticks": ""
           }
          },
          "colorscale": {
           "diverging": [
            [
             0,
             "#8e0152"
            ],
            [
             0.1,
             "#c51b7d"
            ],
            [
             0.2,
             "#de77ae"
            ],
            [
             0.3,
             "#f1b6da"
            ],
            [
             0.4,
             "#fde0ef"
            ],
            [
             0.5,
             "#f7f7f7"
            ],
            [
             0.6,
             "#e6f5d0"
            ],
            [
             0.7,
             "#b8e186"
            ],
            [
             0.8,
             "#7fbc41"
            ],
            [
             0.9,
             "#4d9221"
            ],
            [
             1,
             "#276419"
            ]
           ],
           "sequential": [
            [
             0,
             "#0d0887"
            ],
            [
             0.1111111111111111,
             "#46039f"
            ],
            [
             0.2222222222222222,
             "#7201a8"
            ],
            [
             0.3333333333333333,
             "#9c179e"
            ],
            [
             0.4444444444444444,
             "#bd3786"
            ],
            [
             0.5555555555555556,
             "#d8576b"
            ],
            [
             0.6666666666666666,
             "#ed7953"
            ],
            [
             0.7777777777777778,
             "#fb9f3a"
            ],
            [
             0.8888888888888888,
             "#fdca26"
            ],
            [
             1,
             "#f0f921"
            ]
           ],
           "sequentialminus": [
            [
             0,
             "#0d0887"
            ],
            [
             0.1111111111111111,
             "#46039f"
            ],
            [
             0.2222222222222222,
             "#7201a8"
            ],
            [
             0.3333333333333333,
             "#9c179e"
            ],
            [
             0.4444444444444444,
             "#bd3786"
            ],
            [
             0.5555555555555556,
             "#d8576b"
            ],
            [
             0.6666666666666666,
             "#ed7953"
            ],
            [
             0.7777777777777778,
             "#fb9f3a"
            ],
            [
             0.8888888888888888,
             "#fdca26"
            ],
            [
             1,
             "#f0f921"
            ]
           ]
          },
          "colorway": [
           "#636efa",
           "#EF553B",
           "#00cc96",
           "#ab63fa",
           "#FFA15A",
           "#19d3f3",
           "#FF6692",
           "#B6E880",
           "#FF97FF",
           "#FECB52"
          ],
          "font": {
           "color": "#2a3f5f"
          },
          "geo": {
           "bgcolor": "white",
           "lakecolor": "white",
           "landcolor": "white",
           "showlakes": true,
           "showland": true,
           "subunitcolor": "#C8D4E3"
          },
          "hoverlabel": {
           "align": "left"
          },
          "hovermode": "closest",
          "mapbox": {
           "style": "light"
          },
          "paper_bgcolor": "white",
          "plot_bgcolor": "white",
          "polar": {
           "angularaxis": {
            "gridcolor": "#EBF0F8",
            "linecolor": "#EBF0F8",
            "ticks": ""
           },
           "bgcolor": "white",
           "radialaxis": {
            "gridcolor": "#EBF0F8",
            "linecolor": "#EBF0F8",
            "ticks": ""
           }
          },
          "scene": {
           "xaxis": {
            "backgroundcolor": "white",
            "gridcolor": "#DFE8F3",
            "gridwidth": 2,
            "linecolor": "#EBF0F8",
            "showbackground": true,
            "ticks": "",
            "zerolinecolor": "#EBF0F8"
           },
           "yaxis": {
            "backgroundcolor": "white",
            "gridcolor": "#DFE8F3",
            "gridwidth": 2,
            "linecolor": "#EBF0F8",
            "showbackground": true,
            "ticks": "",
            "zerolinecolor": "#EBF0F8"
           },
           "zaxis": {
            "backgroundcolor": "white",
            "gridcolor": "#DFE8F3",
            "gridwidth": 2,
            "linecolor": "#EBF0F8",
            "showbackground": true,
            "ticks": "",
            "zerolinecolor": "#EBF0F8"
           }
          },
          "shapedefaults": {
           "line": {
            "color": "#2a3f5f"
           }
          },
          "ternary": {
           "aaxis": {
            "gridcolor": "#DFE8F3",
            "linecolor": "#A2B1C6",
            "ticks": ""
           },
           "baxis": {
            "gridcolor": "#DFE8F3",
            "linecolor": "#A2B1C6",
            "ticks": ""
           },
           "bgcolor": "white",
           "caxis": {
            "gridcolor": "#DFE8F3",
            "linecolor": "#A2B1C6",
            "ticks": ""
           }
          },
          "title": {
           "x": 0.05
          },
          "xaxis": {
           "automargin": true,
           "gridcolor": "#EBF0F8",
           "linecolor": "#EBF0F8",
           "ticks": "",
           "title": {
            "standoff": 15
           },
           "zerolinecolor": "#EBF0F8",
           "zerolinewidth": 2
          },
          "yaxis": {
           "automargin": true,
           "gridcolor": "#EBF0F8",
           "linecolor": "#EBF0F8",
           "ticks": "",
           "title": {
            "standoff": 15
           },
           "zerolinecolor": "#EBF0F8",
           "zerolinewidth": 2
          }
         }
        },
        "title": {
         "font": {
          "color": "Black",
          "size": 22
         },
         "text": "<b>Hierarchical Clustering of Environmental History</b>",
         "x": 0.5,
         "xanchor": "center",
         "yanchor": "top"
        },
        "width": 1000,
        "xaxis": {
         "mirror": "allticks",
         "rangemode": "tozero",
         "showgrid": false,
         "showline": true,
         "showticklabels": true,
         "ticks": "outside",
         "type": "linear",
         "zeroline": false
        },
        "yaxis": {
         "mirror": "allticks",
         "range": [
          -180,
          0
         ],
         "rangemode": "tozero",
         "showgrid": false,
         "showline": true,
         "showticklabels": true,
         "tickmode": "array",
         "ticks": "outside",
         "ticktext": [
          "10_film_family_father",
          "14_chemical_substance_library",
          "15_brazilian_latin_brazil",
          "9_coal_mining_oil",
          "11_green_nixon_osborn",
          "13_nuclear_fukushima_weapon",
          "8_military_war_fortification",
          "5_cattle_colonial_french",
          "3_forest_tree_fire",
          "2_animal_wildlife_dog",
          "6_drainage_water_urban",
          "4_earth_space_researcher",
          "1_marine_whale_ocean",
          "0_wilderness_photograph_image",
          "17_creole_belizean_belizean...",
          "16_health_body_night air",
          "7_disease_polio_outbreak",
          "12_labor_worker_nature labor"
         ],
         "tickvals": [
          -5,
          -15,
          -25,
          -35,
          -45,
          -55,
          -65,
          -75,
          -85,
          -95,
          -105,
          -115,
          -125,
          -135,
          -145,
          -155,
          -165,
          -175
         ],
         "type": "linear",
         "zeroline": false
        }
       }
      }
     },
     "metadata": {},
     "output_type": "display_data"
    }
   ],
   "source": [
    "tools.plot_hierarchical_clustering(texts=texts, topic_model=my_model)"
   ]
  }
 ],
 "metadata": {
  "kernelspec": {
   "display_name": "bibliometric-analysis-1SpXn6OA-py3.12",
   "language": "python",
   "name": "python3"
  },
  "language_info": {
   "codemirror_mode": {
    "name": "ipython",
    "version": 3
   },
   "file_extension": ".py",
   "mimetype": "text/x-python",
   "name": "python",
   "nbconvert_exporter": "python",
   "pygments_lexer": "ipython3",
   "version": "3.12.4"
  }
 },
 "nbformat": 4,
 "nbformat_minor": 5
}
